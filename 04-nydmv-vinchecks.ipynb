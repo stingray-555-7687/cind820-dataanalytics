{
 "cells": [
  {
   "cell_type": "code",
   "execution_count": 1,
   "metadata": {},
   "outputs": [],
   "source": [
    "# define libraries to use\n",
    "import numpy as np\n",
    "import pandas as pd\n",
    "\n",
    "#from pathlib import Path\n",
    "import requests,json\n",
    "import matplotlib.pyplot as plt\n",
    "#import matplotlib.ticker as ticker\n",
    "#import scipy as sp\n",
    "#%matplotlib inline\n",
    "\n",
    "pd.options.display.max_columns = None"
   ]
  },
  {
   "cell_type": "code",
   "execution_count": 2,
   "metadata": {},
   "outputs": [],
   "source": [
    "def GoodVPICDecode(picDecodeResult):\n",
    "\treturn (picDecodeResult in {'0','0,10','1,10','1,400','1,10,400'})"
   ]
  },
  {
   "cell_type": "code",
   "execution_count": 3,
   "metadata": {},
   "outputs": [],
   "source": [
    "nydmvVinColumns = [ \n",
    "    'entry', 'ORIG_VIN', 'ABS', 'AdaptiveCruiseControl', 'AdaptiveDrivingBeam', 'AdaptiveHeadlights', 'AutoReverseSystem', \n",
    "    'AutomaticPedestrianAlertingSound', 'BlindSpotIntervention', 'BlindSpotMon', 'BodyClass', 'CIB', 'CurbWeightLB', \n",
    "    'DaytimeRunningLight', 'Doors', 'DriverAssist', 'DynamicBrakeSupport', 'EDR', 'ESC', 'ErrorCode', 'ForwardCollisionWarning', \n",
    "    'GCWR', 'GCWR_to', 'GVWR', 'GVWR_to', 'LaneCenteringAssistance', 'LaneDepartureWarning', 'LaneKeepSystem', 'LowerBeamHeadlampLightSource', \n",
    "    'Make', 'MakeID', 'Manufacturer', 'ManufacturerId', 'Model', 'ModelID', 'ModelYear', 'NCSABodyType', 'NCSAMake', 'NCSAModel', 'ParkAssist', \n",
    "    'PedestrianAutomaticEmergencyBraking', 'RearAutomaticEmergencyBraking', 'RearCrossTrafficAlert', 'Seats', 'SemiautomaticHeadlampBeamSwitching', 'Series',\n",
    "    'Series2', 'SuggestedVIN', 'TPMS', 'TractionControl', 'Trim', 'Trim2', 'VIN', 'VehicleType', \n",
    "]\n",
    "\n",
    "nydmvVinStyCols = [ \n",
    "    'ABS', 'AdaptiveCruiseControl', 'AdaptiveDrivingBeam',  'AutomaticPedestrianAlertingSound', 'BlindSpotIntervention', 'BlindSpotMon', 'CIB', \n",
    "    'DaytimeRunningLight', 'DynamicBrakeSupport', 'ESC', 'ForwardCollisionWarning', \n",
    "    'LaneCenteringAssistance', 'LaneDepartureWarning', 'LaneKeepSystem', 'LowerBeamHeadlampLightSource', \n",
    "    'ParkAssist', \n",
    "    'PedestrianAutomaticEmergencyBraking', 'RearAutomaticEmergencyBraking', 'RearCrossTrafficAlert', 'SemiautomaticHeadlampBeamSwitching', \n",
    "    'TPMS', 'TractionControl', \n",
    "]\n",
    "\n",
    "#nydmvVinDecodeDf = pd.read_csv(\"tmp/nydmvvin-goodhdr/NYDMV-VIN-OUTPUT-merged-fixedquotes-cols.csv\",low_memory=False)\n",
    "nydmvVinDecodeDf = pd.read_pickle(\"tmp/nydmvvin-goodhdr/NYDMV-VIN-OUTPUT-merged-fixedquotes-cols.pkl\")\n"
   ]
  },
  {
   "cell_type": "code",
   "execution_count": 4,
   "metadata": {},
   "outputs": [
    {
     "name": "stdout",
     "output_type": "stream",
     "text": [
      "<class 'pandas.core.frame.DataFrame'>\n",
      "Int64Index: 11350715 entries, 0 to 11351614\n",
      "Data columns (total 56 columns):\n",
      " #   Column                               Non-Null Count     Dtype  \n",
      "---  ------                               --------------     -----  \n",
      " 0   entry                                11350715 non-null  int64  \n",
      " 1   ORIG_VIN                             11350709 non-null  object \n",
      " 2   ABS                                  4021067 non-null   object \n",
      " 3   AdaptiveCruiseControl                2516625 non-null   object \n",
      " 4   AdaptiveDrivingBeam                  1729409 non-null   object \n",
      " 5   AdaptiveHeadlights                   0 non-null         float64\n",
      " 6   AutoReverseSystem                    3976894 non-null   object \n",
      " 7   AutomaticPedestrianAlertingSound     714624 non-null    object \n",
      " 8   BlindSpotIntervention                119627 non-null    object \n",
      " 9   BlindSpotMon                         2889679 non-null   object \n",
      " 10  BodyClass                            11132344 non-null  object \n",
      " 11  CIB                                  2709269 non-null   object \n",
      " 12  CurbWeightLB                         168899 non-null    object \n",
      " 13  DaytimeRunningLight                  3892406 non-null   object \n",
      " 14  Doors                                8839517 non-null   object \n",
      " 15  DriverAssist                         0 non-null         float64\n",
      " 16  DynamicBrakeSupport                  3546648 non-null   object \n",
      " 17  EDR                                  611954 non-null    object \n",
      " 18  ESC                                  3708165 non-null   object \n",
      " 19  EngineCylinders                      9965978 non-null   object \n",
      " 20  ErrorCode                            11350715 non-null  object \n",
      " 21  ForwardCollisionWarning              3096934 non-null   object \n",
      " 22  GCWR                                 0 non-null         float64\n",
      " 23  GCWR_to                              0 non-null         float64\n",
      " 24  GVWR                                 8256101 non-null   object \n",
      " 25  GVWR_to                              12749 non-null     object \n",
      " 26  LaneCenteringAssistance              409228 non-null    object \n",
      " 27  LaneDepartureWarning                 2954874 non-null   object \n",
      " 28  LaneKeepSystem                       2712316 non-null   object \n",
      " 29  LowerBeamHeadlampLightSource         2008617 non-null   object \n",
      " 30  Make                                 11172086 non-null  object \n",
      " 31  MakeID                               11172086 non-null  object \n",
      " 32  Manufacturer                         11179181 non-null  object \n",
      " 33  ManufacturerId                       11179181 non-null  object \n",
      " 34  Model                                11131970 non-null  object \n",
      " 35  ModelID                              11131970 non-null  object \n",
      " 36  ModelYear                            11167924 non-null  object \n",
      " 37  NCSABodyType                         0 non-null         float64\n",
      " 38  NCSAMake                             0 non-null         float64\n",
      " 39  NCSAModel                            0 non-null         float64\n",
      " 40  ParkAssist                           1202116 non-null   object \n",
      " 41  PedestrianAutomaticEmergencyBraking  1843750 non-null   object \n",
      " 42  RearAutomaticEmergencyBraking        133926 non-null    object \n",
      " 43  RearCrossTrafficAlert                1478638 non-null   object \n",
      " 44  Seats                                3482691 non-null   object \n",
      " 45  SemiautomaticHeadlampBeamSwitching   3824658 non-null   object \n",
      " 46  Series                               7391479 non-null   object \n",
      " 47  Series2                              2570020 non-null   object \n",
      " 48  SuggestedVIN                         92409 non-null     object \n",
      " 49  TPMS                                 7842451 non-null   object \n",
      " 50  TractionControl                      3579302 non-null   object \n",
      " 51  Trim                                 4799069 non-null   object \n",
      " 52  Trim2                                412756 non-null    object \n",
      " 53  VIN                                  11350715 non-null  object \n",
      " 54  VehicleType                          11179181 non-null  object \n",
      " 55  GoodVPICDecode                       11350715 non-null  bool   \n",
      "dtypes: bool(1), float64(7), int64(1), object(47)\n",
      "memory usage: 4.7+ GB\n"
     ]
    }
   ],
   "source": [
    "nydmvVinDecodeDf.info(show_counts=True)"
   ]
  },
  {
   "cell_type": "code",
   "execution_count": 9,
   "metadata": {},
   "outputs": [
    {
     "name": "stdout",
     "output_type": "stream",
     "text": [
      "Number of Models found 6429\n"
     ]
    }
   ],
   "source": [
    "# Fix ModelID type and store Models dict for later use\n",
    "nydmvVinDecodeDf[\"ModelID\"] = nydmvVinDecodeDf[\"ModelID\"].astype(\"float64\")\n",
    "nydmvModelIDCat = dict(np.array(nydmvVinDecodeDf[[\"ModelID\",\"Model\"]].drop_duplicates()))\n",
    "print(\"Number of Models found\",len(nydmvModelIDCat))\n",
    "\n",
    "import pickle\n",
    "\n",
    "f = open(\"tmp/nydmv-vindecode-modelid-dict.pkl\",\"wb\")\n",
    "pickle.dump(nydmvModelIDCat,f)\n",
    "f.close()"
   ]
  },
  {
   "cell_type": "code",
   "execution_count": 10,
   "metadata": {},
   "outputs": [
    {
     "data": {
      "text/plain": [
       "Standard          1372225\n",
       "Optional           686530\n",
       "Not Applicable     439828\n",
       "Not Available       18042\n",
       "Name: AdaptiveCruiseControl, dtype: int64"
      ]
     },
     "execution_count": 10,
     "metadata": {},
     "output_type": "execute_result"
    }
   ],
   "source": [
    "nydmvVinDecodeDf[\"AdaptiveCruiseControl\"].value_counts().sort_values(ascending=False)"
   ]
  },
  {
   "cell_type": "code",
   "execution_count": 11,
   "metadata": {},
   "outputs": [
    {
     "data": {
      "text/plain": [
       "[<matplotlib.lines.Line2D at 0x470222550>]"
      ]
     },
     "execution_count": 11,
     "metadata": {},
     "output_type": "execute_result"
    },
    {
     "data": {
      "image/png": "[encoded data removed]",
      "text/plain": [
       "<Figure size 640x480 with 1 Axes>"
      ]
     },
     "metadata": {},
     "output_type": "display_data"
    }
   ],
   "source": [
    "ccc = nydmvVinDecodeDf.value_counts(subset=nydmvVinStyCols,dropna=False).sort_values(ascending=False)\n",
    "x = ccc.values\n",
    "plt.plot(np.log10(x))\n",
    "#plt.hist(x,log=True)"
   ]
  },
  {
   "cell_type": "code",
   "execution_count": 12,
   "metadata": {},
   "outputs": [
    {
     "name": "stdout",
     "output_type": "stream",
     "text": [
      "ABS                                     [nan, 'Not Applicable', 'Standard', 'Not Available', 'Optional']\n",
      "AdaptiveCruiseControl                   [nan, 'Not Applicable', 'Standard', 'Optional', 'Not Available']\n",
      "AdaptiveDrivingBeam                     [nan, 'Not Applicable', 'Standard', 'Optional', 'Not Available']\n",
      "AutomaticPedestrianAlertingSound        [nan, 'Not Applicable', 'Standard', 'Not Available', 'Optional']\n",
      "BlindSpotIntervention                   [nan, 'Standard', 'Optional']\n",
      "BlindSpotMon                            [nan, 'Not Applicable', 'Standard', 'Optional', 'Not Available']\n",
      "CIB                                     [nan, 'Not Applicable', 'Standard', 'Not Available', 'Optional']\n",
      "DaytimeRunningLight                     [nan, 'Not Applicable', 'Standard', 'Optional', 'Not Available']\n",
      "DynamicBrakeSupport                     [nan, 'Not Applicable', 'Standard', 'Not Available', 'Optional']\n",
      "ESC                                     [nan, 'Not Applicable', 'Standard']\n",
      "ForwardCollisionWarning                 [nan, 'Not Applicable', 'Standard', 'Not Available', 'Optional']\n",
      "LaneCenteringAssistance                 [nan, 'Standard', 'Optional']\n",
      "LaneDepartureWarning                    [nan, 'Not Applicable', 'Standard', 'Optional', 'Not Available']\n",
      "LaneKeepSystem                          [nan, 'Not Applicable', 'Standard', 'Optional', 'Not Available']\n",
      "LowerBeamHeadlampLightSource            [nan, 'Not Applicable', 'LED', 'Halogen', 'HID', 'Halogen, HID', 'Laser', 'Halogen, LED']\n",
      "ParkAssist                              [nan, 'Not Applicable', 'Standard', 'Optional', 'Not Available']\n",
      "PedestrianAutomaticEmergencyBraking     [nan, 'Not Applicable', 'Standard', 'Optional', 'Not Available']\n",
      "RearAutomaticEmergencyBraking           [nan, 'Standard', 'Optional']\n",
      "RearCrossTrafficAlert                   [nan, 'Not Applicable', 'Standard', 'Optional', 'Not Available']\n",
      "SemiautomaticHeadlampBeamSwitching      [nan, 'Not Applicable', 'Standard', 'Not Available', 'Optional']\n",
      "TPMS                                    [nan, 'Not Applicable', 'Direct', 'Indirect']\n",
      "TractionControl                         [nan, 'Not Applicable', 'Standard', 'Optional']\n"
     ]
    }
   ],
   "source": [
    "for col in nydmvVinStyCols:\n",
    "    print(col.ljust(max([len(x) for x in nydmvVinStyCols])+4),list(nydmvVinDecodeDf[col].unique()))"
   ]
  },
  {
   "cell_type": "markdown",
   "metadata": {},
   "source": [
    "From DataAnalysis-fars\n",
    "```\n",
    "AdaptiveCruiseControlId              {nan: nan, 1.0: 'Standard', 0.0: 'Not Applicable', 3.0: 'Optional', 2.0: 'Not Available'}\n",
    "AdaptiveDrivingBeamId                {nan: nan, 1.0: 'Standard', 0.0: 'Not Applicable', 3.0: 'Optional', 2.0: 'Not Available'}\n",
    "AntilockBrakeSystemId                {nan: nan, 1.0: 'Standard', 3.0: 'Optional', 2.0: 'Not Available'}\n",
    "AutoPedestrianAlertingSoundId        {nan: nan, 0.0: 'Not Applicable', 2.0: 'Not Available', 1.0: 'Standard', 3.0: 'Optional'}\n",
    "BackupCameraId                       {nan: nan, 1.0: 'Standard', 3.0: 'Optional', 0.0: 'Not Applicable', 2.0: 'Not Available'}\n",
    "BlindSpotInterventionId              {nan: nan}\n",
    "BlindSpotWarningId                   {nan: nan, 1.0: 'Standard', 3.0: 'Optional', 0.0: 'Not Applicable', 2.0: 'Not Available'}\n",
    "CrashImminentBrakingID               {nan: nan, 1.0: 'Standard', 0.0: 'Not Applicable', 3.0: 'Optional', 2.0: 'Not Available'}\n",
    "DaytimeRunningLightId                {nan: nan, 3.0: 'Optional', 1.0: 'Standard', 0.0: 'Not Applicable', 2.0: 'Not Available'}\n",
    "DynamicBrakeSupportId                {nan: nan, 1.0: 'Standard', 0.0: 'Not Applicable', 3.0: 'Optional', 2.0: 'Not Available'}\n",
    "ElectronicStabilityControlId         {nan: nan, 1.0: 'Standard'}\n",
    "ForwardCollisionWarningId            {nan: nan, 1.0: 'Standard', 0.0: 'Not Applicable', 3.0: 'Optional', 2.0: 'Not Available'}\n",
    "LaneCenteringAssistanceId            {nan: nan, 1.0: 'Standard', 3.0: 'Optional'}\n",
    "LaneDepartureWarningId               {nan: nan, 1.0: 'Standard', 0.0: 'Not Applicable', 3.0: 'Optional', 2.0: 'Not Available'}\n",
    "LaneKeepingAssistanceId              {nan: nan, 1.0: 'Standard', 0.0: 'Not Applicable', 4.0: 'Not Available', 5.0: 'Optional'}\n",
    "ParkAssistId                         {nan: nan, 1.0: 'Standard', 0.0: 'Not Applicable', 2.0: 'Not Available', 3.0: 'Optional'}\n",
    "PedestrianAutoEmergencyBrakingId     {nan: nan, 0.0: 'Not Applicable', 1.0: 'Standard', 3.0: 'Optional', 2.0: 'Not Available'}\n",
    "RearAutomaticEmergencyBrakingId      {nan: nan}\n",
    "RearCrossTrafficAlertId              {nan: nan, 0.0: 'Not Applicable', 1.0: 'Standard', 2.0: 'Optional', 3.0: 'Not Available'}\n",
    "SemiAutoHeadlampBeamSwitchingId      {nan: nan, 1.0: 'Standard', 0.0: 'Not Applicable', 3.0: 'Optional', 2.0: 'Not Available'}\n",
    "TPMSId                               {nan: nan, 1.0: 'Direct', 2.0: 'Indirect', 0.0: 'Not Applicable'}\n",
    "TractionControlId                    {nan: nan, 1.0: 'Standard', 3.0: 'Optional'}\n",
    "```"
   ]
  },
  {
   "cell_type": "code",
   "execution_count": 13,
   "metadata": {},
   "outputs": [
    {
     "name": "stdout",
     "output_type": "stream",
     "text": [
      "                                                                                 \n",
      "AntilockBrakeSystemId                [nan, 0.0, 1.0, 2.0, 3.0]\n",
      "AdaptiveCruiseControlId              [nan, 0.0, 1.0, 3.0, 2.0]\n",
      "AdaptiveDrivingBeamId                [nan, 0.0, 1.0, 3.0, 2.0]\n",
      "AutoPedestrianAlertingSoundId        [nan, 0.0, 1.0, 2.0, 3.0]\n",
      "BlindSpotInterventionId              [nan, 1.0, 3.0]\n",
      "BlindSpotWarningId                   [nan, 0.0, 1.0, 3.0, 2.0]\n",
      "CrashImminentBrakingID               [nan, 0.0, 1.0, 2.0, 3.0]\n",
      "DaytimeRunningLightId                [nan, 0.0, 1.0, 3.0, 2.0]\n",
      "DynamicBrakeSupportId                [nan, 0.0, 1.0, 2.0, 3.0]\n",
      "ElectronicStabilityControlId         [nan, 0.0, 1.0]\n",
      "ForwardCollisionWarningId            [nan, 0.0, 1.0, 2.0, 3.0]\n",
      "LaneCenteringAssistanceId            [nan, 1.0, 3.0]\n",
      "LaneDepartureWarningId               [nan, 0.0, 1.0, 3.0, 2.0]\n",
      "LaneKeepingAssistanceId              [nan, 0.0, 1.0, 5.0, 4.0]\n",
      "HeadlampLightSourceId                [nan, 0.0, 3.0, 1.0, 2.0, 5.0, 16.0, 6.0]\n",
      "ParkAssistId                         [nan, 0.0, 1.0, 3.0, 2.0]\n",
      "PedestrianAutoEmergencyBrakingId     [nan, 0.0, 1.0, 3.0, 2.0]\n",
      "RearAutomaticEmergencyBrakingId      [nan, 1.0, 3.0]\n",
      "RearCrossTrafficAlertId              [nan, 0.0, 1.0, 3.0, 2.0]\n",
      "SemiAutoHeadlampBeamSwitchingId      [nan, 0.0, 1.0, 2.0, 3.0]\n",
      "TPMSId                               [nan, 0.0, 1.0, 2.0]\n",
      "TractionControlId                    [nan, 0.0, 1.0, 3.0]\n",
      "OTHER  BodyClassId : BodyClass                                                   \n",
      "VehicleTypeId                        [nan, 1.0, 2.0, 3.0, 6.0, 7.0, 5.0, 10.0, 9.0, 13.0]\n",
      "GrossVehicleWeightRatingFromId       [nan, 10.0, 9.0, 8.0, 16.0, 4.0, 13.0, 14.0, 12.0, 5.0, 17.0, 7.0, 2.0, 6.0, 15.0, 1.0, 11.0]\n",
      "GrossVehicleWeightRatingToId         [nan, 8.0, 9.0, 11.0, 5.0, 15.0, 7.0, 4.0, 6.0, 12.0, 14.0]\n",
      "BodyClassId                          [nan, 85.0, 83.0, 84.0, 86.0, 98.0, 5.0, 13.0, 15.0, 11.0, 9.0, 7.0, 63.0, 61.0, 4.0, 104.0, 103.0, 82.0, 16.0, 66.0, 62.0, 100.0, 60.0, 1.0, 3.0, 12.0, 2.0, 94.0, 81.0, 6.0, 125.0, 78.0, 80.0, 105.0, 69.0, 124.0, 65.0, 72.0, 111.0, 74.0, 8.0, 119.0, 64.0, 90.0, 113.0, 112.0, 107.0, 999.0, 97.0, 67.0, 71.0, 73.0, 108.0, 77.0, 10.0, 109.0, 95.0, 70.0, 88.0, 117.0, 87.0, 68.0, 114.0, 110.0]\n"
     ]
    }
   ],
   "source": [
    "safetyCatMost     = {np.nan: np.nan, 'Not Applicable' : 0, 'Standard' : 1 , 'Not Available' : 2 , 'Optional' : 3  }\n",
    "safetyCatLKA      = {np.nan: np.nan, 'Not Applicable' : 0, 'Standard' : 1 , 'Not Available' : 4 , 'Optional' : 5  } \n",
    "safetyCatTPMS     = {np.nan: np.nan, 'Not Applicable' : 0, 'Direct'   : 1 , 'Indirect'      : 2 } \n",
    "safetyCatHdLmpSrc = {np.nan: np.nan, 'Not Applicable' : 0, 'Halogen'  : 1 , 'HID'           : 2 , 'LED'     : 3 , \n",
    "                                     'Other' : 4, 'Halogen, HID' : 5, 'Halogen, LED' : 6, 'Halogen, Other' : 7, \n",
    "                                     'HID, LED' : 8, 'HID, Other' : 9, 'LED, Other' : 10, 'Halogen, HID, LED' : 11,\n",
    "                                     'Halogen, HID, Other' : 12, 'Halogen, LED, Other' : 13, 'HID, LED, Other' : 14, \n",
    "                                     'Halogen, HID, LED, Other' : 15, 'Laser' : 16,}\n",
    "\n",
    "safetyColMap = {\n",
    "    'ABS' : 'AntilockBrakeSystemId',\n",
    "    'AdaptiveCruiseControl' : 'AdaptiveCruiseControlId',\n",
    "    'AdaptiveDrivingBeam' : 'AdaptiveDrivingBeamId',\n",
    "    'AutomaticPedestrianAlertingSound' : 'AutoPedestrianAlertingSoundId',\n",
    "    'BlindSpotIntervention' : 'BlindSpotInterventionId',\n",
    "    'BlindSpotMon' : 'BlindSpotWarningId',\n",
    "    'CIB' : 'CrashImminentBrakingID',\n",
    "    'DaytimeRunningLight' : 'DaytimeRunningLightId',\n",
    "    'DynamicBrakeSupport' : 'DynamicBrakeSupportId',\n",
    "    'ESC' : 'ElectronicStabilityControlId',\n",
    "    'ForwardCollisionWarning' : 'ForwardCollisionWarningId',\n",
    "    'LaneCenteringAssistance' : 'LaneCenteringAssistanceId',\n",
    "    'LaneDepartureWarning' : 'LaneDepartureWarningId',\n",
    "    'LaneKeepSystem' : 'LaneKeepingAssistanceId',\n",
    "    'LowerBeamHeadlampLightSource' : 'HeadlampLightSourceId',\n",
    "    'ParkAssist' : 'ParkAssistId',\n",
    "    'PedestrianAutomaticEmergencyBraking' : 'PedestrianAutoEmergencyBrakingId',\n",
    "    'RearAutomaticEmergencyBraking' : 'RearAutomaticEmergencyBrakingId',\n",
    "    'RearCrossTrafficAlert' : 'RearCrossTrafficAlertId',\n",
    "    'SemiautomaticHeadlampBeamSwitching' : 'SemiAutoHeadlampBeamSwitchingId',\n",
    "    'TPMS' : 'TPMSId',\n",
    "    'TractionControl' : 'TractionControlId',\n",
    "}\n",
    "\n",
    "for col in safetyColMap.keys():\n",
    "    newCol = safetyColMap[col]\n",
    "    print(newCol,\":\",col,end=\"\")\n",
    "    if col == 'TPMS':\n",
    "        nydmvVinDecodeDf[newCol] = nydmvVinDecodeDf.apply(lambda row: safetyCatTPMS[row[col]] if isinstance(row[col],str) else np.nan,axis=1)\n",
    "    elif col == 'LaneKeepSystem':\n",
    "        nydmvVinDecodeDf[newCol] = nydmvVinDecodeDf.apply(lambda row: safetyCatLKA[row[col]] if isinstance(row[col],str) else np.nan,axis=1)\n",
    "    elif col == 'LowerBeamHeadlampLightSource':\n",
    "        nydmvVinDecodeDf[newCol] = nydmvVinDecodeDf.apply(lambda row: safetyCatHdLmpSrc[row[col]] if isinstance(row[col],str) else np.nan,axis=1)\n",
    "    else:\n",
    "        nydmvVinDecodeDf[newCol] = nydmvVinDecodeDf.apply(lambda row: safetyCatMost[row[col]] if isinstance(row[col],str) else np.nan,axis=1)\n",
    "        # np.int64(row[\"GrossVehicleWeightRatingFromId\"]) if ~np.isnan(row[\"GrossVehicleWeightRatingFromId\"]) else np.nan\n",
    "    nydmvVinDecodeDf.drop(columns=col,inplace=True)\n",
    "    print(\"\\r\",\" \"*80,end=\"\\r\")\n",
    "print()\n",
    "\n",
    "for col in safetyColMap.values():\n",
    "    print(col.ljust(max([len(x) for x in safetyColMap.values()])+4),list(nydmvVinDecodeDf[col].unique()))\n",
    "\n",
    "## idenfity columns with valid decodes (GoodVPICDecode written into input file)\n",
    "##nydmvVinDecodeDf[\"GoodVPICDecode\"] = nydmvVinDecodeDf.apply(lambda row: GoodVPICDecode(row[\"ErrorCode\"]),axis=1)\n",
    "\n",
    "# drop unneccesary columns\n",
    "#  AutoReverseSystem -> An auto-reverse system enables power windows and sunroofs on motor vehicles to automatically reverse direction when such power windows and panels detect an obstruction\n",
    "#  GCWR, GCWR_to     -> all null values, Gross Combination Weight Rating (From and To); Gross combination weight rating (GCWR) is the maximum allowable combined mass of a road vehicle, \n",
    "#                       the passengers and cargo in the tow vehicle, plus the mass of the trailer and cargo in the trailer. \n",
    "#  Make              -> Keep MakeID\n",
    "#  Model             -> Keep ModelID\n",
    "#  Manufacturer, ManufacturerId -> Make will be used instead\n",
    "#  NCSABodyType, NCSAMake, NCSAModel -> all null\n",
    "#  EDR               -> Event Data Recorder, not a preventitive feature\n",
    "\n",
    "\n",
    "nydmvVinDecodeDf.drop(columns=[\"AutoReverseSystem\",\"GCWR\",\"GCWR_to\",\"Make\",\"Model\",\"Manufacturer\",\"ManufacturerId\",\"NCSABodyType\", \"NCSAMake\", \"NCSAModel\", \"EDR\", \"AdaptiveHeadlights\",\"DriverAssist\", \"CurbWeightLB\"],inplace=True)\n",
    "\n",
    "catDic = {}\n",
    "\n",
    "# additional categories to correct\n",
    "catDic[\"VehicleType\"] = {\n",
    "    np.nan: np.nan,\n",
    "    'BUS': 5 ,\n",
    "    'INCOMPLETE VEHICLE': 10 ,\n",
    "    'LOW SPEED VEHICLE (LSV)': 9 ,\n",
    "    'MOTORCYCLE': 1 ,\n",
    "    'MULTIPURPOSE PASSENGER VEHICLE (MPV)': 7 ,\n",
    "    'OFF ROAD VEHICLE': 13 ,\n",
    "    'PASSENGER CAR': 2 ,\n",
    "    'TRAILER': 6 ,\n",
    "    'TRUCK': 3\n",
    "}\n",
    "\n",
    "catDic[\"GVWR\"] = {\n",
    "    np.nan: np.nan,\n",
    "    'Class 1: 6,000 lb or less (2,722 kg or less)': 1 ,\n",
    "    'Class 1A: 3,000 lb or less (1,360 kg or less)': 10 ,\n",
    "    'Class 1B: 3,001 - 4,000 lb (1,360 - 1,814 kg)': 11 ,\n",
    "    'Class 1C: 4,001 - 5,000 lb (1,814 - 2,268 kg)': 12 ,\n",
    "    'Class 1D: 5,001 - 6,000 lb (2,268 - 2,722 kg)': 13 ,\n",
    "    'Class 2: 6,001 - 10,000 lb (2,722 - 4,536 kg)': 2 ,\n",
    "    'Class 2E: 6,001 - 7,000 lb (2,722 - 3,175 kg)': 14 ,\n",
    "    'Class 2F: 7,001 - 8,000 lb (3,175 - 3,629 kg)': 15 ,\n",
    "    'Class 2G: 8,001 - 9,000 lb (3,629 - 4,082 kg)': 16 ,\n",
    "    'Class 2H: 9,001 - 10,000 lb (4,082 - 4,536 kg)': 17 ,\n",
    "    'Class 3: 10,001 - 14,000 lb (4,536 - 6,350 kg)': 4 ,\n",
    "    'Class 4: 14,001 - 16,000 lb (6,350 - 7,258 kg)': 5 ,\n",
    "    'Class 5: 16,001 - 19,500 lb (7,258 - 8,845 kg)': 6 ,\n",
    "    'Class 6: 19,501 - 26,000 lb (8,845 - 11,794 kg)': 7 ,\n",
    "    'Class 7: 26,001 - 33,000 lb (11,794 - 14,969 kg)': 8 ,\n",
    "    'Class 8: 33,001 lb and above (14,969 kg and above)': 9 ,\n",
    "}\n",
    "\n",
    "catDic[\"GVWR_to\"] = catDic[\"GVWR\"]\n",
    "\n",
    "catDic[\"BodyClass\"] = {\n",
    "    np.nan: np.nan,\n",
    "    'Convertible/Cabriolet': 1 ,\n",
    "    'Minivan': 2 ,\n",
    "    'Coupe': 3 ,\n",
    "    'Low Speed Vehicle (LSV) / Neighborhood Electric Vehicle (NEV)': 4 ,\n",
    "    'Hatchback/Liftback/Notchback': 5 ,\n",
    "    'Motorcycle - Standard': 6 ,\n",
    "    'Sport Utility Vehicle (SUV)/Multi-Purpose Vehicle (MPV)': 7 ,\n",
    "    'Crossover Utility Vehicle (CUV)': 8 ,\n",
    "    'Van': 9 ,\n",
    "    'Roadster': 10 ,\n",
    "    'Truck': 11 ,\n",
    "    'Motorcycle - Scooter': 12 ,\n",
    "    'Sedan/Saloon': 13 ,\n",
    "    'Wagon': 15 ,\n",
    "    'Bus': 16 ,\n",
    "    'Pickup': 60 ,\n",
    "    'Trailer': 61 ,\n",
    "    'Incomplete - Cutaway': 62 ,\n",
    "    'Incomplete - Chassis Cab (Single Cab)': 63 ,\n",
    "    'Incomplete - Glider': 64 ,\n",
    "    'Incomplete': 65 ,\n",
    "    'Truck-Tractor': 66 ,\n",
    "    'Incomplete - Stripped Chassis': 67 ,\n",
    "    'Streetcar / Trolley': 68,\n",
    "    'Off-road Vehicle - All Terrain Vehicle (ATV) (Motorcycle-style)': 69 ,\n",
    "    'Incomplete - Chassis Cab (Double Cab)': 70 ,\n",
    "    'Incomplete - School Bus Chassis': 71 ,\n",
    "    'Incomplete - Commercial Bus Chassis': 72 ,\n",
    "    'Bus - School Bus': 73 ,\n",
    "    'Incomplete - Chassis Cab (Number of Cab Unknown)': 74 ,\n",
    "    'Incomplete - Transit Bus Chassis': 75 ,\n",
    "    'Incomplete - Motor Coach Chassis': 76 ,\n",
    "    'Incomplete - Shuttle Bus Chassis': 77 ,\n",
    "    'Incomplete - Motor Home Chassis': 78 ,\n",
    "    'Motorcycle - Sport': 80 ,\n",
    "    'Motorcycle - Touring / Sport Touring': 81 ,\n",
    "    'Motorcycle - Cruiser': 82 ,\n",
    "    'Motorcycle - Trike': 83 ,\n",
    "    'Off-road Vehicle - Dirt Bike / Off-Road': 84 ,\n",
    "    'Motorcycle - Dual Sport / Adventure / Supermoto / On/Off-road': 85 ,\n",
    "    'Off-road Vehicle - Enduro (Off-road long distance racing)': 86 ,\n",
    "    'Motorcycle - Small / Minibike': 87 ,\n",
    "    'Off-road Vehicle - Go Kart': 88 ,\n",
    "    'Motorcycle - Side Car': 90 ,\n",
    "    'Motorcycle - Custom': 94 ,\n",
    "    'Cargo Van': 95 ,\n",
    "    'Off-road Vehicle - Snowmobile': 97 ,\n",
    "    'Motorcycle - Street': 98 ,\n",
    "    'Motorcycle - Enclosed Three Wheeled / Enclosed Autocycle': 100 ,\n",
    "    'Motorcycle - Unenclosed Three Wheeled / Open Autocycle': 103 ,\n",
    "    'Motorcycle - Moped': 104 ,\n",
    "    'Off-road Vehicle - Recreational Off-Road Vehicle (ROV)': 105 ,\n",
    "    'Incomplete - Bus Chassis': 107 ,\n",
    "    'Motorhome': 108 ,\n",
    "    'Motorcycle - Cross Country': 109,\n",
    "    'Motorcycle - Underbone': 110,\n",
    "    'Step Van / Walk-in Van': 111 ,\n",
    "    'Incomplete - Commercial Chassis': 112 ,\n",
    "    'Off-road Vehicle - Motocross (Off-road short distance, closed track racing)': 113 ,\n",
    "    'Motorcycle - Competition': 114 ,\n",
    "    'Incomplete - Trailer Chassis': 116,\n",
    "    'Limousine': 117 ,\n",
    "    'Sport Utility Truck (SUT)': 119 ,\n",
    "    'Off-road Vehicle - Golf Cart': 124 ,\n",
    "    'Motorcycle - Unknown Body Class': 125 ,\n",
    "    'Off-road Vehicle - Farm Equipment': 126 ,\n",
    "    'Off-road Vehicle - Construction Equipment': 127 ,\n",
    "    'Motorized Bicycle': 996 ,\n",
    "    'Other': 997 ,\n",
    "    'Not Reported': 998 ,\n",
    "    'Unknown': 999 ,\n",
    "    # additional unknowns\n",
    "    'Ambulance': 999 ,\n",
    "    'Fire Apparatus': 999 ,\n",
    "    'Street Sweeper': 999 , \n",
    "}\n",
    "\n",
    "otherColMap = {\n",
    "    \"VehicleType\"   : \"VehicleTypeId\",\n",
    "    \"GVWR\"          : \"GrossVehicleWeightRatingFromId\",\n",
    "    \"GVWR_to\"       : \"GrossVehicleWeightRatingToId\",\n",
    "    \"BodyClass\"     : \"BodyClassId\",\n",
    "}\n",
    "\n",
    "for col in otherColMap.keys():\n",
    "    newCol = otherColMap[col]\n",
    "    print(\" \"*80,\"\\rOTHER \",newCol,\":\",col,end=\"\")\n",
    "    nydmvVinDecodeDf[newCol] = nydmvVinDecodeDf.apply(lambda row: catDic[col][row[col].strip() if isinstance(row[col],str) else np.nan],axis=1)\n",
    "    nydmvVinDecodeDf.drop(columns=col,inplace=True)\n",
    "    print(end=\"\\r\")\n",
    "print()\n",
    "\n",
    "for col in otherColMap.values():\n",
    "    print(col.ljust(max([len(x) for x in safetyColMap.values()])+4),list(nydmvVinDecodeDf[col].unique()))\n",
    "\n",
    "\n",
    "nydmvVinDecodeDf[\"MakeID\"] = nydmvVinDecodeDf[\"MakeID\"].astype(\"float\")\n"
   ]
  },
  {
   "cell_type": "code",
   "execution_count": null,
   "metadata": {},
   "outputs": [],
   "source": []
  },
  {
   "cell_type": "code",
   "execution_count": 14,
   "metadata": {},
   "outputs": [
    {
     "name": "stdout",
     "output_type": "stream",
     "text": [
      "<class 'pandas.core.frame.DataFrame'>\n",
      "Int64Index: 11350715 entries, 0 to 11351614\n",
      "Data columns (total 42 columns):\n",
      " #   Column                            Non-Null Count     Dtype  \n",
      "---  ------                            --------------     -----  \n",
      " 0   entry                             11350715 non-null  int64  \n",
      " 1   ORIG_VIN                          11350709 non-null  object \n",
      " 2   Doors                             8839517 non-null   object \n",
      " 3   EngineCylinders                   9965978 non-null   object \n",
      " 4   ErrorCode                         11350715 non-null  object \n",
      " 5   MakeID                            11172086 non-null  float64\n",
      " 6   ModelID                           11131970 non-null  float64\n",
      " 7   ModelYear                         11167924 non-null  object \n",
      " 8   Seats                             3482691 non-null   object \n",
      " 9   Series                            7391479 non-null   object \n",
      " 10  Series2                           2570020 non-null   object \n",
      " 11  SuggestedVIN                      92409 non-null     object \n",
      " 12  Trim                              4799069 non-null   object \n",
      " 13  Trim2                             412756 non-null    object \n",
      " 14  VIN                               11350715 non-null  object \n",
      " 15  GoodVPICDecode                    11350715 non-null  bool   \n",
      " 16  AntilockBrakeSystemId             4021067 non-null   float64\n",
      " 17  AdaptiveCruiseControlId           2516625 non-null   float64\n",
      " 18  AdaptiveDrivingBeamId             1729409 non-null   float64\n",
      " 19  AutoPedestrianAlertingSoundId     714624 non-null    float64\n",
      " 20  BlindSpotInterventionId           119627 non-null    float64\n",
      " 21  BlindSpotWarningId                2889679 non-null   float64\n",
      " 22  CrashImminentBrakingID            2709269 non-null   float64\n",
      " 23  DaytimeRunningLightId             3892406 non-null   float64\n",
      " 24  DynamicBrakeSupportId             3546648 non-null   float64\n",
      " 25  ElectronicStabilityControlId      3708165 non-null   float64\n",
      " 26  ForwardCollisionWarningId         3096934 non-null   float64\n",
      " 27  LaneCenteringAssistanceId         409228 non-null    float64\n",
      " 28  LaneDepartureWarningId            2954874 non-null   float64\n",
      " 29  LaneKeepingAssistanceId           2712316 non-null   float64\n",
      " 30  HeadlampLightSourceId             2008617 non-null   float64\n",
      " 31  ParkAssistId                      1202116 non-null   float64\n",
      " 32  PedestrianAutoEmergencyBrakingId  1843750 non-null   float64\n",
      " 33  RearAutomaticEmergencyBrakingId   133926 non-null    float64\n",
      " 34  RearCrossTrafficAlertId           1478638 non-null   float64\n",
      " 35  SemiAutoHeadlampBeamSwitchingId   3824658 non-null   float64\n",
      " 36  TPMSId                            7842451 non-null   float64\n",
      " 37  TractionControlId                 3579302 non-null   float64\n",
      " 38  VehicleTypeId                     11179181 non-null  float64\n",
      " 39  GrossVehicleWeightRatingFromId    8256101 non-null   float64\n",
      " 40  GrossVehicleWeightRatingToId      12749 non-null     float64\n",
      " 41  BodyClassId                       11132344 non-null  float64\n",
      "dtypes: bool(1), float64(28), int64(1), object(12)\n",
      "memory usage: 3.6+ GB\n"
     ]
    }
   ],
   "source": [
    "nydmvVinDecodeDf.info(show_counts=True)"
   ]
  },
  {
   "cell_type": "code",
   "execution_count": 15,
   "metadata": {},
   "outputs": [
    {
     "data": {
      "text/html": [
       "<div>\n",
       "<style scoped>\n",
       "    .dataframe tbody tr th:only-of-type {\n",
       "        vertical-align: middle;\n",
       "    }\n",
       "\n",
       "    .dataframe tbody tr th {\n",
       "        vertical-align: top;\n",
       "    }\n",
       "\n",
       "    .dataframe thead th {\n",
       "        text-align: right;\n",
       "    }\n",
       "</style>\n",
       "<table border=\"1\" class=\"dataframe\">\n",
       "  <thead>\n",
       "    <tr style=\"text-align: right;\">\n",
       "      <th></th>\n",
       "      <th>ORIG_VIN</th>\n",
       "      <th>VIN</th>\n",
       "    </tr>\n",
       "  </thead>\n",
       "  <tbody>\n",
       "  </tbody>\n",
       "</table>\n",
       "</div>"
      ],
      "text/plain": [
       "Empty DataFrame\n",
       "Columns: [ORIG_VIN, VIN]\n",
       "Index: []"
      ]
     },
     "execution_count": 15,
     "metadata": {},
     "output_type": "execute_result"
    }
   ],
   "source": [
    "# check if VIN is needed\n",
    "nydmvVinDecodeDf[(nydmvVinDecodeDf[\"VIN\"] != nydmvVinDecodeDf[\"ORIG_VIN\"])][[\"ORIG_VIN\",\"VIN\"]].dropna(subset=[\"ORIG_VIN\"])"
   ]
  },
  {
   "cell_type": "code",
   "execution_count": 16,
   "metadata": {},
   "outputs": [
    {
     "name": "stderr",
     "output_type": "stream",
     "text": [
      "/var/folders/4d/pq_2_fgs7s3bjnxxpgksl2880000gn/T/ipykernel_6026/637672337.py:2: UserWarning: Boolean Series key will be reindexed to match DataFrame index.\n",
      "  nydmvVinDecodeDf.dropna(subset=[\"SuggestedVIN\"])[(nydmvVinDecodeDf[\"SuggestedVIN\"] != nydmvVinDecodeDf[\"ORIG_VIN\"])][[\"ORIG_VIN\",\"SuggestedVIN\"]]\n"
     ]
    },
    {
     "data": {
      "text/html": [
       "<div>\n",
       "<style scoped>\n",
       "    .dataframe tbody tr th:only-of-type {\n",
       "        vertical-align: middle;\n",
       "    }\n",
       "\n",
       "    .dataframe tbody tr th {\n",
       "        vertical-align: top;\n",
       "    }\n",
       "\n",
       "    .dataframe thead th {\n",
       "        text-align: right;\n",
       "    }\n",
       "</style>\n",
       "<table border=\"1\" class=\"dataframe\">\n",
       "  <thead>\n",
       "    <tr style=\"text-align: right;\">\n",
       "      <th></th>\n",
       "      <th>ORIG_VIN</th>\n",
       "      <th>SuggestedVIN</th>\n",
       "    </tr>\n",
       "  </thead>\n",
       "  <tbody>\n",
       "    <tr>\n",
       "      <th>13</th>\n",
       "      <td>99781024707</td>\n",
       "      <td>997810247!7</td>\n",
       "    </tr>\n",
       "    <tr>\n",
       "      <th>14</th>\n",
       "      <td>99777001700</td>\n",
       "      <td>997770017!0</td>\n",
       "    </tr>\n",
       "    <tr>\n",
       "      <th>43</th>\n",
       "      <td>992570370086</td>\n",
       "      <td>992570370!86</td>\n",
       "    </tr>\n",
       "    <tr>\n",
       "      <th>50</th>\n",
       "      <td>992I0995</td>\n",
       "      <td>992!0995</td>\n",
       "    </tr>\n",
       "    <tr>\n",
       "      <th>83</th>\n",
       "      <td>99X5668AR</td>\n",
       "      <td>99X5668A!</td>\n",
       "    </tr>\n",
       "    <tr>\n",
       "      <th>...</th>\n",
       "      <td>...</td>\n",
       "      <td>...</td>\n",
       "    </tr>\n",
       "    <tr>\n",
       "      <th>11351610</th>\n",
       "      <td>NaN</td>\n",
       "      <td>!!</td>\n",
       "    </tr>\n",
       "    <tr>\n",
       "      <th>11351611</th>\n",
       "      <td>NaN</td>\n",
       "      <td>!!</td>\n",
       "    </tr>\n",
       "    <tr>\n",
       "      <th>11351612</th>\n",
       "      <td>NaN</td>\n",
       "      <td>!!</td>\n",
       "    </tr>\n",
       "    <tr>\n",
       "      <th>11351613</th>\n",
       "      <td>NaN</td>\n",
       "      <td>!!</td>\n",
       "    </tr>\n",
       "    <tr>\n",
       "      <th>11351614</th>\n",
       "      <td>NaN</td>\n",
       "      <td>!!</td>\n",
       "    </tr>\n",
       "  </tbody>\n",
       "</table>\n",
       "<p>75793 rows × 2 columns</p>\n",
       "</div>"
      ],
      "text/plain": [
       "              ORIG_VIN  SuggestedVIN\n",
       "13         99781024707   997810247!7\n",
       "14         99777001700   997770017!0\n",
       "43        992570370086  992570370!86\n",
       "50            992I0995      992!0995\n",
       "83           99X5668AR     99X5668A!\n",
       "...                ...           ...\n",
       "11351610           NaN            !!\n",
       "11351611           NaN            !!\n",
       "11351612           NaN            !!\n",
       "11351613           NaN            !!\n",
       "11351614           NaN            !!\n",
       "\n",
       "[75793 rows x 2 columns]"
      ]
     },
     "execution_count": 16,
     "metadata": {},
     "output_type": "execute_result"
    }
   ],
   "source": [
    "# check if SuggestedVIN is needed\n",
    "nydmvVinDecodeDf.dropna(subset=[\"SuggestedVIN\"])[(nydmvVinDecodeDf[\"SuggestedVIN\"] != nydmvVinDecodeDf[\"ORIG_VIN\"])][[\"ORIG_VIN\",\"SuggestedVIN\"]]"
   ]
  },
  {
   "cell_type": "code",
   "execution_count": 17,
   "metadata": {},
   "outputs": [],
   "source": [
    "nydmvVinDecodeDf.dropna(subset=[\"ORIG_VIN\"],inplace=True)\n",
    "nydmvVinDecodeDf.drop(columns=[\"VIN\",\"SuggestedVIN\",\"ErrorCode\"],inplace=True)"
   ]
  },
  {
   "cell_type": "code",
   "execution_count": 18,
   "metadata": {},
   "outputs": [
    {
     "data": {
      "text/plain": [
       "EX                          148220\n",
       "Sport                       137010\n",
       "Limited                     135503\n",
       "LX                          128392\n",
       "LE                          105502\n",
       "                             ...  \n",
       "CDX/SX                           1\n",
       "Recharge (Level 1- Core)         1\n",
       "2.5i-S                           1\n",
       "E Hunting                        1\n",
       "4 (4WD)                          1\n",
       "Name: Trim, Length: 3995, dtype: int64"
      ]
     },
     "execution_count": 18,
     "metadata": {},
     "output_type": "execute_result"
    }
   ],
   "source": [
    "nydmvVinDecodeDf[\"Trim\"].value_counts().sort_values(ascending=False)"
   ]
  },
  {
   "cell_type": "code",
   "execution_count": 19,
   "metadata": {},
   "outputs": [
    {
     "data": {
      "text/plain": [
       "Wagon body style                  1115889\n",
       "Wagon Body Type                    348528\n",
       "Wagon Body Style                   225987\n",
       "Wagon Body type                     81190\n",
       "Wagon body                          76507\n",
       "                                   ...   \n",
       "MRU616                                  1\n",
       "GU814                                   1\n",
       "VN900FP                                 1\n",
       "Sleeper / Passener Compartment          1\n",
       "Supersport Touring                      1\n",
       "Name: Series2, Length: 420, dtype: int64"
      ]
     },
     "execution_count": 19,
     "metadata": {},
     "output_type": "execute_result"
    }
   ],
   "source": [
    "nydmvVinDecodeDf[\"Series2\"].value_counts().sort_values(ascending=False)"
   ]
  },
  {
   "cell_type": "code",
   "execution_count": 20,
   "metadata": {},
   "outputs": [],
   "source": [
    "#nydmvVinDecodeDf[\"Trim\"] = nydmvVinDecodeDf[\"Trim\"].astype(\"category\")\n",
    "#nydmvVinDecodeDf[\"Series\"] = nydmvVinDecodeDf[\"Series\"].astype(\"category\")\n",
    "#nydmvVinDecodeDf[\"Trim2\"] = nydmvVinDecodeDf[\"Trim2\"].astype(\"category\")\n",
    "#nydmvVinDecodeDf[\"Series2\"] = nydmvVinDecodeDf[\"Series2\"].astype(\"category\")"
   ]
  },
  {
   "cell_type": "code",
   "execution_count": 30,
   "metadata": {},
   "outputs": [
    {
     "data": {
      "text/plain": [
       "array([  nan, 2015., 2006., 2001., 2005., 2007., 1995., 2021., 2018.,\n",
       "       2020., 2019., 2017., 2012., 2016., 2011., 2009., 2014., 2013.,\n",
       "       2008., 2022., 2004., 2003., 2002., 2000., 1985., 1984., 1996.,\n",
       "       1994., 1991., 1993., 1989., 1988., 1987., 1990., 1986., 2010.,\n",
       "       2023., 1992., 1997., 1999., 1998., 1981., 1980., 1983., 1982.])"
      ]
     },
     "execution_count": 30,
     "metadata": {},
     "output_type": "execute_result"
    }
   ],
   "source": [
    "nydmvVinDecodeDf[\"ModelYear\"] = nydmvVinDecodeDf[\"ModelYear\"].astype(\"float64\")\n",
    "nydmvVinDecodeDf[\"ModelYear\"].unique()"
   ]
  },
  {
   "cell_type": "code",
   "execution_count": 31,
   "metadata": {},
   "outputs": [
    {
     "name": "stdout",
     "output_type": "stream",
     "text": [
      "<class 'pandas.core.frame.DataFrame'>\n",
      "Int64Index: 11350709 entries, 0 to 11351608\n",
      "Data columns (total 39 columns):\n",
      " #   Column                            Non-Null Count     Dtype  \n",
      "---  ------                            --------------     -----  \n",
      " 0   entry                             11350709 non-null  int64  \n",
      " 1   ORIG_VIN                          11350709 non-null  object \n",
      " 2   Doors                             8839517 non-null   object \n",
      " 3   EngineCylinders                   9965978 non-null   object \n",
      " 4   MakeID                            11172086 non-null  float64\n",
      " 5   ModelID                           11131970 non-null  float64\n",
      " 6   ModelYear                         11167924 non-null  float64\n",
      " 7   Seats                             3482691 non-null   object \n",
      " 8   Series                            7391479 non-null   object \n",
      " 9   Series2                           2570020 non-null   object \n",
      " 10  Trim                              4799069 non-null   object \n",
      " 11  Trim2                             412756 non-null    object \n",
      " 12  GoodVPICDecode                    11350709 non-null  bool   \n",
      " 13  AntilockBrakeSystemId             4021067 non-null   float64\n",
      " 14  AdaptiveCruiseControlId           2516625 non-null   float64\n",
      " 15  AdaptiveDrivingBeamId             1729409 non-null   float64\n",
      " 16  AutoPedestrianAlertingSoundId     714624 non-null    float64\n",
      " 17  BlindSpotInterventionId           119627 non-null    float64\n",
      " 18  BlindSpotWarningId                2889679 non-null   float64\n",
      " 19  CrashImminentBrakingID            2709269 non-null   float64\n",
      " 20  DaytimeRunningLightId             3892406 non-null   float64\n",
      " 21  DynamicBrakeSupportId             3546648 non-null   float64\n",
      " 22  ElectronicStabilityControlId      3708165 non-null   float64\n",
      " 23  ForwardCollisionWarningId         3096934 non-null   float64\n",
      " 24  LaneCenteringAssistanceId         409228 non-null    float64\n",
      " 25  LaneDepartureWarningId            2954874 non-null   float64\n",
      " 26  LaneKeepingAssistanceId           2712316 non-null   float64\n",
      " 27  HeadlampLightSourceId             2008617 non-null   float64\n",
      " 28  ParkAssistId                      1202116 non-null   float64\n",
      " 29  PedestrianAutoEmergencyBrakingId  1843750 non-null   float64\n",
      " 30  RearAutomaticEmergencyBrakingId   133926 non-null    float64\n",
      " 31  RearCrossTrafficAlertId           1478638 non-null   float64\n",
      " 32  SemiAutoHeadlampBeamSwitchingId   3824658 non-null   float64\n",
      " 33  TPMSId                            7842451 non-null   float64\n",
      " 34  TractionControlId                 3579302 non-null   float64\n",
      " 35  VehicleTypeId                     11179181 non-null  float64\n",
      " 36  GrossVehicleWeightRatingFromId    8256101 non-null   float64\n",
      " 37  GrossVehicleWeightRatingToId      12749 non-null     float64\n",
      " 38  BodyClassId                       11132344 non-null  float64\n",
      "dtypes: bool(1), float64(29), int64(1), object(8)\n",
      "memory usage: 3.3+ GB\n"
     ]
    }
   ],
   "source": [
    "nydmvVinDecodeDf.info(show_counts=True)"
   ]
  },
  {
   "cell_type": "code",
   "execution_count": 33,
   "metadata": {},
   "outputs": [],
   "source": [
    "nydmvVinDecodeDf.to_csv(\"tmp/nydmvvin-goodhdr/NYDMV-VIN-OUTPUT-merged-fixedquotes-cols-cleaned.csv\",index=False)"
   ]
  },
  {
   "cell_type": "code",
   "execution_count": 32,
   "metadata": {},
   "outputs": [],
   "source": [
    "nydmvVinDecodeDf.to_pickle(\"tmp/nydmv-vindecodedf.pkl\")"
   ]
  },
  {
   "cell_type": "code",
   "execution_count": 24,
   "metadata": {},
   "outputs": [
    {
     "data": {
      "text/plain": [
       "<AxesSubplot: ylabel='GrossVehicleWeightRatingFromId'>"
      ]
     },
     "execution_count": 24,
     "metadata": {},
     "output_type": "execute_result"
    },
    {
     "data": {
      "image/png": "[encoded data removed]",
      "text/plain": [
       "<Figure size 640x480 with 1 Axes>"
      ]
     },
     "metadata": {},
     "output_type": "display_data"
    }
   ],
   "source": [
    "nydmvVinDecodeDf.groupby(\"GrossVehicleWeightRatingFromId\").size().plot.barh()"
   ]
  },
  {
   "cell_type": "code",
   "execution_count": 25,
   "metadata": {},
   "outputs": [],
   "source": [
    "comb = nydmvVinDecodeDf.fillna(0).groupby([\"ModelID\",\"ModelYear\"]+list(safetyColMap.values())).size().values"
   ]
  },
  {
   "cell_type": "code",
   "execution_count": 26,
   "metadata": {},
   "outputs": [
    {
     "data": {
      "text/plain": [
       "(35457, 37923)"
      ]
     },
     "execution_count": 26,
     "metadata": {},
     "output_type": "execute_result"
    }
   ],
   "source": [
    "len(nydmvVinDecodeDf[[\"ModelID\",\"ModelYear\"]].drop_duplicates()), len(comb)"
   ]
  }
 ],
 "metadata": {
  "kernelspec": {
   "display_name": "Python 3.9.6 64-bit",
   "language": "python",
   "name": "python3"
  },
  "language_info": {
   "codemirror_mode": {
    "name": "ipython",
    "version": 3
   },
   "file_extension": ".py",
   "mimetype": "text/x-python",
   "name": "python",
   "nbconvert_exporter": "python",
   "pygments_lexer": "ipython3",
   "version": "3.9.6"
  },
  "orig_nbformat": 4,
  "vscode": {
   "interpreter": {
    "hash": "31f2aee4e71d21fbe5cf8b01ff0e069b9275f58929596ceb00d14d90e3e16cd6"
   }
  }
 },
 "nbformat": 4,
 "nbformat_minor": 2
}
