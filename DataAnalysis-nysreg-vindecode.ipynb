{
 "cells": [
  {
   "cell_type": "code",
   "execution_count": 1,
   "metadata": {},
   "outputs": [],
   "source": [
    "# define libraries to use\n",
    "import pandas as pd\n",
    "import numpy as np\n",
    "from pathlib import Path\n",
    "import requests,json\n",
    "import matplotlib.pyplot as plt\n",
    "%matplotlib inline\n",
    "import time"
   ]
  },
  {
   "cell_type": "code",
   "execution_count": 2,
   "metadata": {},
   "outputs": [],
   "source": [
    "#url = 'https://vpic.nhtsa.dot.gov/api/vehicles/DecodeVINValuesBatch/';\n",
    "#post_fields = {'format': 'json', 'data':'3GNDA13D76S000000;5XYKT3A12CG000000'};\n",
    "#r = requests.post(url, data=post_fields);\n",
    "#print(r.text);\t"
   ]
  },
  {
   "cell_type": "code",
   "execution_count": 3,
   "metadata": {},
   "outputs": [],
   "source": [
    "#print(r.json()[\"Results\"][0])"
   ]
  },
  {
   "cell_type": "code",
   "execution_count": 4,
   "metadata": {},
   "outputs": [],
   "source": [
    "\"\"\"\n",
    "vpicFieldToKeep = [\n",
    "\t[\"ForwardCollisionWarningId\",\"ForwardCollisionWarning\"],\n",
    "\t[\"DynamicBrakeSupportId\",\"DynamicBrakeSupport\"],\n",
    "\t[\"CrashImminentBrakingID\",\"CrashImminentBraking\"],\n",
    "\t[\"CrashImminentBrakingID\",\"CIB\"],\n",
    "\t[\"PedestrianAutoEmergencyBrakingId\",\"PedestrianAutoEmergencyBraking\"],\n",
    "\t[\"PedestrianAutoEmergencyBrakingId\",\"PedestrianAutomaticEmergencyBraking\"],\n",
    "\t[\"BlindSpotWarningId\",\"BlindSpotWarning\"],\n",
    "\t[\"BlindSpotWarningId\",\"BlindSpotMon\"],\n",
    "\t[\"BlindSpotInterventionId\",\"BlindSpotIntervention\"],\n",
    "\t[\"LaneDepartureWarningId\",\"LaneDepartureWarning\"],\n",
    "\t[\"LaneKeepingAssistanceId\",\"LaneKeepingAssistance\"],\n",
    "\t[\"LaneKeepingAssistanceId\",\"LaneKeepSystem\"],\n",
    "\t[\"LaneCenteringAssistanceId\",\"LaneCenteringAssistance\"],\n",
    "\t[\"BackupCameraId\",\"BackupCamera\"],\n",
    "\t[\"BackupCameraId\",\"RearVisibilitySystem\"],\n",
    "\t[\"RearCrossTrafficAlertId\",\"RearCrossTrafficAlert\"],\n",
    "\t[\"RearAutomaticEmergencyBrakingId\",\"RearAutomaticEmergencyBraking\"],\n",
    "\t[\"ParkAssistId\",\"ParkAssist\"],\n",
    "\t[\"DaytimeRunningLightId\",\"DaytimeRunningLight\"],\n",
    "\t[\"HeadlampLightSourceId\",\"HeadlampLightSource\"],\n",
    "\t[\"HeadlampLightSourceId\",\"LowerBeamHeadlampLightSource\"],\n",
    "\t[\"SemiAutoHeadlampBeamSwitchingId\",\"SemiAutoHeadlampBeamSwitching\"],\n",
    "\t[\"SemiAutoHeadlampBeamSwitchingId\",\"SemiautomaticHeadlampBeamSwitching\"],\n",
    "\t[\"AdaptiveDrivingBeamId\",\"AdaptiveDrivingBeam\"],\n",
    "\t[\"AdaptiveCruiseControlId\",\"AdaptiveCruiseControl\"],\n",
    "\t[\"AntilockBrakeSystemId\",\"AntilockBrakeSystem\"],\n",
    "\t[\"AntilockBrakeSystemId\",\"ABS\"],\n",
    "\t[\"ElectronicStabilityControlId\",\"ElectronicStabilityControl\"],\n",
    "\t[\"ElectronicStabilityControlId\",\"ESC\"],\n",
    "\t[\"TPMSId\",\"TPMS\"],\n",
    "\t[\"TractionControlId\",\"TractionControl\"],\n",
    "\t[\"AutoPedestrianAlertingSoundId\",\"AutoPedestrianAlertingSound\"],\n",
    "\t[\"AutoPedestrianAlertingSoundId\",\"AutomaticPedestrianAlertingSound\"],\n",
    "\t[\"vpicVIN\",\"VIN\"]\n",
    "]\n",
    "\"\"\"\n",
    "\n",
    "vpicFieldToKeep = [\n",
    "\t\"ForwardCollisionWarning\",\n",
    "\t\"DynamicBrakeSupport\",\n",
    "\t#\"CrashImminentBraking\",\n",
    "\t\"CIB\",\n",
    "\t#\"PedestrianAutoEmergencyBraking\",\n",
    "\t\"PedestrianAutomaticEmergencyBraking\",\n",
    "\t#\"BlindSpotWarning\",\n",
    "\t\"BlindSpotMon\",\n",
    "\t\"BlindSpotIntervention\",\n",
    "\t\"LaneDepartureWarning\",\n",
    "\t#\"LaneKeepingAssistance\",\n",
    "\t\"LaneKeepSystem\",\n",
    "\t\"LaneCenteringAssistance\",\n",
    "\t#\"BackupCamera\",\n",
    "\t\"RearVisibilitySystem\",\n",
    "\t\"RearCrossTrafficAlert\",\n",
    "\t\"RearAutomaticEmergencyBraking\",\n",
    "\t\"ParkAssist\",\n",
    "\t\"DaytimeRunningLight\",\n",
    "\t#\"HeadlampLightSource\",\n",
    "\t\"LowerBeamHeadlampLightSource\",\n",
    "\t#\"SemiAutoHeadlampBeamSwitching\",\n",
    "\t\"SemiautomaticHeadlampBeamSwitching\",\n",
    "\t\"AdaptiveDrivingBeam\",\n",
    "\t\"AdaptiveCruiseControl\",\n",
    "\t#\"AntilockBrakeSystem\",\n",
    "\t\"ABS\",\n",
    "\t#\"ElectronicStabilityControl\",\n",
    "\t\"ESC\",\n",
    "\t\"TPMS\",\n",
    "\t\"TractionControl\",\n",
    "\t#\"AutoPedestrianAlertingSound\",\n",
    "\t\"AutomaticPedestrianAlertingSound\",\n",
    "\t\"VIN\",\n",
    "\t\"BodyClass\",\n",
    "\t\"Make\",\n",
    "\t\"MakeID\",\n",
    "\t\"Model\",\n",
    "\t\"ModelID\",\n",
    "\t\"ModelYear\",\n",
    "\t\"ErrorCode\",\n",
    "]\n",
    "\n"
   ]
  },
  {
   "cell_type": "code",
   "execution_count": 5,
   "metadata": {},
   "outputs": [],
   "source": [
    "#print(r.json()[\"Results\"][1].keys())\n",
    "#for x in vpicFieldToKeep:\n",
    "#    if x in r.json()[\"Results\"][1].keys():\n",
    "#        print(x,r.json()[\"Results\"][0][x])\n",
    "#    else:\n",
    "#        print(x,\"N/A\")"
   ]
  },
  {
   "cell_type": "code",
   "execution_count": 6,
   "metadata": {},
   "outputs": [
    {
     "name": "stdout",
     "output_type": "stream",
     "text": [
      "<class 'pandas.core.frame.DataFrame'>\n",
      "Int64Index: 11350911 entries, 2 to 12586700\n",
      "Data columns (total 32 columns):\n",
      " #   Column                               Dtype \n",
      "---  ------                               ----- \n",
      " 0   ORIG_VIN                             object\n",
      " 1   ForwardCollisionWarning              object\n",
      " 2   DynamicBrakeSupport                  object\n",
      " 3   CIB                                  object\n",
      " 4   PedestrianAutomaticEmergencyBraking  object\n",
      " 5   BlindSpotMon                         object\n",
      " 6   BlindSpotIntervention                object\n",
      " 7   LaneDepartureWarning                 object\n",
      " 8   LaneKeepSystem                       object\n",
      " 9   LaneCenteringAssistance              object\n",
      " 10  RearVisibilitySystem                 object\n",
      " 11  RearCrossTrafficAlert                object\n",
      " 12  RearAutomaticEmergencyBraking        object\n",
      " 13  ParkAssist                           object\n",
      " 14  DaytimeRunningLight                  object\n",
      " 15  LowerBeamHeadlampLightSource         object\n",
      " 16  SemiautomaticHeadlampBeamSwitching   object\n",
      " 17  AdaptiveDrivingBeam                  object\n",
      " 18  AdaptiveCruiseControl                object\n",
      " 19  ABS                                  object\n",
      " 20  ESC                                  object\n",
      " 21  TPMS                                 object\n",
      " 22  TractionControl                      object\n",
      " 23  AutomaticPedestrianAlertingSound     object\n",
      " 24  VIN                                  object\n",
      " 25  BodyClass                            object\n",
      " 26  Make                                 object\n",
      " 27  MakeID                               object\n",
      " 28  Model                                object\n",
      " 29  ModelID                              object\n",
      " 30  ModelYear                            object\n",
      " 31  ErrorCode                            object\n",
      "dtypes: object(32)\n",
      "memory usage: 2.8+ GB\n"
     ]
    }
   ],
   "source": [
    "vinDf = pd.read_csv(\"tmp/NYDMV-VIN.csv\")\n",
    "vinDf.columns = [\"entry\",\"ORIG_VIN\"]\n",
    "for x in vpicFieldToKeep:\n",
    "    vinDf[x] = None\n",
    "vinDf.set_index(\"entry\", inplace=True)\n",
    "vinDf.info(verbose=True)"
   ]
  },
  {
   "cell_type": "code",
   "execution_count": 13,
   "metadata": {},
   "outputs": [
    {
     "name": "stdout",
     "output_type": "stream",
     "text": [
      "Current index: 315744 0.0 %\r"
     ]
    }
   ],
   "source": [
    "#for idx in range(0,vinDf.shape[0],50):\n",
    "url = 'https://vpic.nhtsa.dot.gov/api/vehicles/DecodeVINValuesBatch/';\n",
    "vinStep = 48\n",
    "vinRecords = vinDf.shape[0]\n",
    "vinStart = 214560\n",
    "vinStop = 1000000\n",
    "for idx in range(vinStart,vinStop,vinStep):\n",
    "    print(\"Current index:\",idx,round(idx/vinRecords,1),\"%\",end=\"\\r\")\n",
    "    if idx + vinStep < vinRecords:\n",
    "        vinsToCheck = vinDf.iloc[idx:idx+vinStep,0]\n",
    "    else:\n",
    "        vinsToCheck = vinDf.iloc[idx:,0]\n",
    "    vinsToCheckStr = vinsToCheck.to_csv(None,index=False,line_terminator=';',header=False)[:-1] # eliminate last ';'\n",
    "    #print(vinsToCheckStr)\n",
    "    post_fields = {'format': 'json', 'data':vinsToCheckStr};\n",
    "    r = requests.post(url, data=post_fields);\n",
    "    vpicResults = r.json()[\"Results\"]\n",
    "    # loop through resutls for every VIN\n",
    "\n",
    "    for resIdx in range(0,len(vpicResults)):\n",
    "        #rowLabel = vinDf.index[idx + resIdx]\n",
    "        for x in vpicFieldToKeep:\n",
    "            #vinDf.at[rowLabel,x] = vpicResults[resIdx][x]\n",
    "            vinDf.iat[idx + resIdx,vinDf.columns.get_loc(x)] = vpicResults[resIdx][x]\n",
    "            #print((rowLabel,x),(resIdx,x))\n",
    "    \n",
    "    #time.sleep(0.05)\n",
    "\n",
    "    "
   ]
  },
  {
   "cell_type": "code",
   "execution_count": 12,
   "metadata": {},
   "outputs": [
    {
     "name": "stdout",
     "output_type": "stream",
     "text": [
      "4\n"
     ]
    }
   ],
   "source": [
    "print(vinDf.columns.get_loc(\"PedestrianAutomaticEmergencyBraking\"))"
   ]
  },
  {
   "cell_type": "code",
   "execution_count": null,
   "metadata": {},
   "outputs": [],
   "source": [
    "#print(r.json()[\"Results\"])\n",
    "vinDf.to_csv(\"tmp/NYDMV-VIN-OUTPUT.csv\",index=True)"
   ]
  },
  {
   "cell_type": "code",
   "execution_count": 8,
   "metadata": {},
   "outputs": [
    {
     "name": "stdout",
     "output_type": "stream",
     "text": [
      "ï»¿<!DOCTYPE html>\n",
      "<html lang=\"en\">\n",
      "<head>\n",
      "\t<meta charset=\"utf-8\">\n",
      "\t<meta http-equiv=\"X-UA-Compatible\" content=\"IE=edge\">\n",
      "\t<meta name=\"viewport\" content=\"width=device-width, initial-scale=1\">\n",
      "\n",
      "\t<meta http-equiv=\"Content-Type\" content=\"text/html; charset=utf-8\" />\n",
      "\t<meta name=\"title\" content=\"vPIC (Vehicle product Information Catalog) by NHTSA\" />\n",
      "\n",
      "\t<meta name=\"keywords\" content=\"NHTSA, NHTSA vPIC, vPIC: Product Information Catalog and Vehicle Listing, VIN Decoder, Manufacturer Portal: Online Web-based Submittal Center, MID: Manufacturer Information Database, Modifiers: Adapted Vehicle Modifier Identification Database, API: Application Programming Interface\" />\n",
      "\t<meta name=\"description\" content=\"The NHTSA Product Information Catalog and Vehicle Listing (vPIC) is a consolidated platform that presents data collected within the manufacturer reported data from CFR 49 Parts 551 â 574 for use in a variety of modern tools. NHTSAâs vPIC platform is intended to serve as a centralized source for basic Vehicle Identification Number (VIN) decoding, Manufacturer Information Database (MID), Manufacturer Equipment Plant Identification and associated data.\" />\n",
      "\t<meta name=\"language\" content=\"en\" />\n",
      "\n",
      "\t<title>vPIC - Maintenance</title>\n",
      "\t<style>\n",
      "\t\thtml, body { height: 100%;}\n",
      "\t\tbody { display: flex; flex-direction: column; font-family: Helvetica, Arial, sans-serif; margin: 0; padding: 0;}\n",
      "\t\t.banner {background-color: #13386e;padding: 15px;font-family: Verdana, Tahoma, sans-serif;letter-spacing: 0.5px;font-size: 10px;}\n",
      "\t\t.banner img {width:15px; height:15px; opacity: 0.306;vertical-align:sub;}\n",
      "\t\t.banner a {color: #fff;text-decoration: none;background-color: transparent;}\n",
      "\t\t.header {background-color: #0183c1;margin: 0;color: #fff;}\n",
      "\t\t.header img {height: auto;width: 220px;}\n",
      "\t\t.header a {color: #fff;text-decoration: none;background-color: transparent;font-family: Helvetica, Arial, sans-serif;font-size:24px;float:left;padding:15px;}\n",
      "\t\t.footer {color: white;background-color: #828282;margin: 0;flex-shrink: 0;}\n",
      "\t\t.footer p {text-align:center;}\n",
      "\t\t.footer a {color: white;text-decoration: none;}\n",
      "\t\t.content {flex: 1 0 auto;padding: 50px;text-align: center;font-size: 18px;}\n",
      "\t\n",
      "\t</style>\n",
      "</head>\n",
      "<body>\n",
      "\n",
      "\t<div class=\"banner\">\n",
      "\t\t<a href=\"https://www.transportation.gov/\" target=\"_blank\">\n",
      "\t\t\t<img src=\"data:image/svg+xml;base64,PD94bWwgdmVyc2lvbj0iMS4wIiBlbmNvZGluZz0idXRmLTgiPz4NCjwhLS0gR2VuZXJhdG9yOiBBZG9iZSBJbGx1c3RyYXRvciAxNi4wLjQsIFNWRyBFeHBvcnQgUGx1Zy1JbiAuIFNWRyBWZXJzaW9uOiA2LjAwIEJ1aWxkIDApICAtLT4NCjwhRE9DVFlQRSBzdmcgUFVCTElDICItLy9XM0MvL0RURCBTVkcgMS4xLy9FTiIgImh0dHA6Ly93d3cudzMub3JnL0dyYXBoaWNzL1NWRy8xLjEvRFREL3N2ZzExLmR0ZCI+DQo8c3ZnIHZlcnNpb249IjEuMSIgaWQ9IkxheWVyXzEiIHhtbG5zPSJodHRwOi8vd3d3LnczLm9yZy8yMDAwL3N2ZyIgeG1sbnM6eGxpbms9Imh0dHA6Ly93d3cudzMub3JnLzE5OTkveGxpbmsiIHg9IjBweCIgeT0iMHB4Ig0KCSB3aWR0aD0iMjM2LjA0NXB4IiBoZWlnaHQ9IjIzNi40NzZweCIgdmlld0JveD0iMCAwIDIzNi4wNDUgMjM2LjQ3NiIgZW5hYmxlLWJhY2tncm91bmQ9Im5ldyAwIDAgMjM2LjA0NSAyMzYuNDc2Ig0KCSB4bWw6c3BhY2U9InByZXNlcnZlIj4NCjxwYXRoIGZpbGw9IiNmZmYiIGQ9Ik04MS41MjcsMTA3LjM4NmMxOS45NjEtNC41MzYsMzQuODY3LTIyLjM3NywzNC44NjctNDMuNzFjMC0yNC43NjMtMjAuMDc1LTQ0LjgzOC00NC44MzctNDQuODM4DQoJYy05LjEzNSwwLTE3LjYyOCwyLjczOS0yNC43MTQsNy40M2wtMC4wMDktMC4wMjFDMi4zNTgsNTAuNzQzLDAuMjE4LDEwOS40ODYsMC4yMTgsMTA5LjQ4NmMwLDc5LjkwOSw1NC40NCwxMDYuMzUsNTQuNDQsMTA2LjM1DQoJQzYuODg1LDEyOS44NDIsNzUuMzM2LDEwOS4wNjUsODEuNTI3LDEwNy4zODZ6Ii8+DQo8cGF0aCBmaWxsPSIjZmZmIiBkPSJNMTI4LjE4OCwxNTQuMjg3Yy0xNC4wMjEtMTQuOTE2LTM2Ljk1NS0xOC43MzItNTUuMzQ5LTcuOTI4Yy0yMS4zNTMsMTIuNTQyLTI4LjQ5Niw0MC4wMTgtMTUuOTU1LDYxLjM3DQoJYzQuNjI2LDcuODc3LDExLjI4OSwxMy44MTIsMTguOTIzLDE3LjU0N2wtMC4wMTQsMC4wMTljNDMuNjQ3LDI1Ljk0Miw5NS4zODMtMS45NjIsOTUuMzgzLTEuOTYyDQoJYzY4LjkwMy00MC40NzEsNjQuMTMxLTEwMC44MDUsNjQuMTMxLTEwMC44MDVDMTg1LjM1NCwyMDcuMjc0LDEzMi43NzEsMTU4Ljc3MywxMjguMTg4LDE1NC4yODd6Ii8+DQo8cGF0aCBmaWxsPSIjZmZmIiBkPSJNMTQ0LjIyMyw5MC45MzJjLTYuMDQ2LDE5LjU1OSwxLjk1OSw0MS4zODMsMjAuNDM4LDUyLjA0NGMyMS40NSwxMi4zNzUsNDguODcsNS4wMTksNjEuMjQzLTE2LjQzDQoJYzQuNTY2LTcuOTEzLDYuNDM4LTE2LjYzOCw1LjkxNS0yNS4xMjFsMC4wMjQsMC4wMDNjMS4wMDYtNTAuNzY1LTQ4LjgwNy04MS45NzQtNDguODA3LTgxLjk3NA0KCUMxMTMuODItMjAuNDc5LDYzLjcxLDEzLjQ2NSw2My43MSwxMy40NjVDMTYyLjA3MiwxNS4wNTYsMTQ1Ljg2Miw4NC43MywxNDQuMjIzLDkwLjkzMnoiLz4NCjwvc3ZnPg0K\">\n",
      "\t\t\tUnited States Department of Transportation\n",
      "\t\t</a>\n",
      "\t</div>\n",
      "\t<div class=\" header\">\n",
      "\t\t<a href=\"https://www.nhtsa.gov/\" target=\"_blank\">\n",
      "\t\t\t<img alt=\"National Highway Traffic Safety Administration\" src=\"data:image/svg+xml;base64,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\">\n",
      "\t\t</a>\n",
      "\t\t<a href=\"//vpic.nhtsa.dot.gov/\" target=\"_blank\">\n",
      "\t\t\tProduct Information Catalog and Vehicle Listing (vPIC)\n",
      "\t\t</a>\n",
      "\t</div>\n",
      "\t<article class=\"content\">\n",
      "\t\t<p>\n",
      "\t\t\tvPIC API application  is currently undergoing Maintenance. Please check back at a later time.\n",
      "\t\t</p>\n",
      "\t</article>\n",
      "\t<footer class=\"footer\">\n",
      "\t\t<p>\n",
      "\t\t\tFor any additional information and questions: Contact NHTSA Manufacturer Helpdesk at <a href=\"mailto:manufacturerinfo@dot.gov\">manufacturerinfo@dot.gov</a> or 1-888-399-3277\n",
      "\t\t</p>\n",
      "\t</footer>\n",
      "</body>\n",
      "</html>\n",
      "\n"
     ]
    }
   ],
   "source": [
    "print(r.text)"
   ]
  }
 ],
 "metadata": {
  "kernelspec": {
   "display_name": "Python 3.9.6 64-bit",
   "language": "python",
   "name": "python3"
  },
  "language_info": {
   "codemirror_mode": {
    "name": "ipython",
    "version": 3
   },
   "file_extension": ".py",
   "mimetype": "text/x-python",
   "name": "python",
   "nbconvert_exporter": "python",
   "pygments_lexer": "ipython3",
   "version": "3.9.6"
  },
  "orig_nbformat": 4,
  "vscode": {
   "interpreter": {
    "hash": "31f2aee4e71d21fbe5cf8b01ff0e069b9275f58929596ceb00d14d90e3e16cd6"
   }
  }
 },
 "nbformat": 4,
 "nbformat_minor": 2
}
