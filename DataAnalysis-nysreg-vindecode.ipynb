{
 "cells": [
  {
   "cell_type": "code",
   "execution_count": 40,
   "metadata": {},
   "outputs": [],
   "source": [
    "# define libraries to use\n",
    "import pandas as pd\n",
    "import numpy as np\n",
    "from pathlib import Path\n",
    "import requests,json\n",
    "import matplotlib.pyplot as plt\n",
    "%matplotlib inline\n",
    "import time"
   ]
  },
  {
   "cell_type": "code",
   "execution_count": 2,
   "metadata": {},
   "outputs": [
    {
     "name": "stdout",
     "output_type": "stream",
     "text": [
      "{\"Count\":2,\"Message\":\"Results returned successfully. NOTE: Any missing decoded values should be interpreted as NHTSA does not have data on the specific variable. Missing value should NOT be interpreted as an indication that a feature or technology is unavailable for a vehicle.\",\"SearchCriteria\":\"\",\"Results\":[{\"ABS\":\"\",\"ActiveSafetySysNote\":\"\",\"AdaptiveCruiseControl\":\"\",\"AdaptiveDrivingBeam\":\"\",\"AdaptiveHeadlights\":\"\",\"AdditionalErrorText\":\"\",\"AirBagLocCurtain\":\"\",\"AirBagLocFront\":\"\",\"AirBagLocKnee\":\"\",\"AirBagLocSeatCushion\":\"\",\"AirBagLocSide\":\"\",\"AutoReverseSystem\":\"\",\"AutomaticPedestrianAlertingSound\":\"\",\"AxleConfiguration\":\"\",\"Axles\":\"\",\"BasePrice\":\"\",\"BatteryA\":\"\",\"BatteryA_to\":\"\",\"BatteryCells\":\"\",\"BatteryInfo\":\"\",\"BatteryKWh\":\"\",\"BatteryKWh_to\":\"\",\"BatteryModules\":\"\",\"BatteryPacks\":\"\",\"BatteryType\":\"\",\"BatteryV\":\"\",\"BatteryV_to\":\"\",\"BedLengthIN\":\"\",\"BedType\":\"\",\"BlindSpotIntervention\":\"\",\"BlindSpotMon\":\"\",\"BodyCabType\":\"\",\"BodyClass\":\"Sport Utility Vehicle (SUV)\\/Multi-Purpose Vehicle (MPV)\",\"BrakeSystemDesc\":\"\",\"BrakeSystemType\":\"Hydraulic\",\"BusFloorConfigType\":\"Not Applicable\",\"BusLength\":\"\",\"BusType\":\"Not Applicable\",\"CAN_AACN\":\"\",\"CIB\":\"\",\"CashForClunkers\":\"\",\"ChargerLevel\":\"\",\"ChargerPowerKW\":\"\",\"CoolingType\":\"\",\"CurbWeightLB\":\"\",\"CustomMotorcycleType\":\"Not Applicable\",\"DaytimeRunningLight\":\"\",\"DestinationMarket\":\"\",\"DisplacementCC\":\"2200.0\",\"DisplacementCI\":\"134.25223700841\",\"DisplacementL\":\"2.2\",\"Doors\":\"4\",\"DriveType\":\"\",\"DriverAssist\":\"\",\"DynamicBrakeSupport\":\"\",\"EDR\":\"\",\"ESC\":\"\",\"EVDriveUnit\":\"\",\"ElectrificationLevel\":\"\",\"EngineConfiguration\":\"\",\"EngineCycles\":\"\",\"EngineCylinders\":\"4\",\"EngineHP\":\"\",\"EngineHP_to\":\"\",\"EngineKW\":\"\",\"EngineManufacturer\":\"GM\",\"EngineModel\":\"L61\\/LBZ\",\"EntertainmentSystem\":\"\",\"ErrorCode\":\"1\",\"ErrorText\":\"1 - Check Digit (9th position) does not calculate properly\",\"ForwardCollisionWarning\":\"\",\"FuelInjectionType\":\"Multipoint Fuel Injection (MPFI)\",\"FuelTypePrimary\":\"Gasoline\",\"FuelTypeSecondary\":\"\",\"GCWR\":\"\",\"GCWR_to\":\"\",\"GVWR\":\"Class 1D: 5,001 - 6,000 lb (2,268 - 2,722 kg)\",\"GVWR_to\":\"\",\"KeylessIgnition\":\"\",\"LaneCenteringAssistance\":\"\",\"LaneDepartureWarning\":\"\",\"LaneKeepSystem\":\"\",\"LowerBeamHeadlampLightSource\":\"\",\"Make\":\"CHEVROLET\",\"MakeID\":\"467\",\"Manufacturer\":\"GENERAL MOTORS LLC\",\"ManufacturerId\":\"984\",\"Model\":\"HHR\",\"ModelID\":\"4586\",\"ModelYear\":\"2006\",\"MotorcycleChassisType\":\"Not Applicable\",\"MotorcycleSuspensionType\":\"Not Applicable\",\"NCSABodyType\":\"\",\"NCSAMake\":\"\",\"NCSAMapExcApprovedBy\":\"\",\"NCSAMapExcApprovedOn\":\"\",\"NCSAMappingException\":\"\",\"NCSAModel\":\"\",\"NCSANote\":\"\",\"NonLandUse\":\"\",\"Note\":\"\",\"OtherBusInfo\":\"\",\"OtherEngineInfo\":\"L61: 2.2L, 4Cyl, Aluminium, DOHC MFI  LBZ: 6.6L, V8, DI, Turbo Diesel, inc HP\",\"OtherMotorcycleInfo\":\"\",\"OtherRestraintSystemInfo\":\"\",\"OtherTrailerInfo\":\"\",\"ParkAssist\":\"\",\"PedestrianAutomaticEmergencyBraking\":\"\",\"PlantCity\":\"RAMOS ARIZPE\",\"PlantCompanyName\":\"GMNA\",\"PlantCountry\":\"MEXICO\",\"PlantState\":\"\",\"PossibleValues\":\"\",\"Pretensioner\":\"\",\"RearAutomaticEmergencyBraking\":\"\",\"RearCrossTrafficAlert\":\"\",\"RearVisibilitySystem\":\"\",\"SAEAutomationLevel\":\"\",\"SAEAutomationLevel_to\":\"\",\"SeatBeltsAll\":\"\",\"SeatRows\":\"\",\"Seats\":\"\",\"SemiautomaticHeadlampBeamSwitching\":\"\",\"Series\":\"LS\",\"Series2\":\"\",\"SteeringLocation\":\"\",\"SuggestedVIN\":\"\",\"TPMS\":\"\",\"TopSpeedMPH\":\"\",\"TrackWidth\":\"\",\"TractionControl\":\"\",\"TrailerBodyType\":\"Not Applicable\",\"TrailerLength\":\"\",\"TrailerType\":\"Not Applicable\",\"TransmissionSpeeds\":\"\",\"TransmissionStyle\":\"\",\"Trim\":\"1\\/2 Ton\",\"Trim2\":\"\",\"Turbo\":\"\",\"VIN\":\"3GNDA13D76S000000\",\"ValveTrainDesign\":\"Dual Overhead Cam (DOHC)\",\"VehicleDescriptor\":\"3GNDA13D*6S\",\"VehicleType\":\"MULTIPURPOSE PASSENGER VEHICLE (MPV)\",\"WheelBaseLong\":\"\",\"WheelBaseShort\":\"\",\"WheelBaseType\":\"\",\"WheelSizeFront\":\"\",\"WheelSizeRear\":\"\",\"Wheels\":\"\",\"Windows\":\"\"},{\"ABS\":\"\",\"ActiveSafetySysNote\":\"\",\"AdaptiveCruiseControl\":\"\",\"AdaptiveDrivingBeam\":\"\",\"AdaptiveHeadlights\":\"\",\"AdditionalErrorText\":\"\",\"AirBagLocCurtain\":\"1st and 2nd Rows\",\"AirBagLocFront\":\"1st Row (Driver and Passenger)\",\"AirBagLocKnee\":\"\",\"AirBagLocSeatCushion\":\"\",\"AirBagLocSide\":\"1st Row (Driver and Passenger)\",\"AutoReverseSystem\":\"\",\"AutomaticPedestrianAlertingSound\":\"\",\"AxleConfiguration\":\"\",\"Axles\":\"\",\"BasePrice\":\"\",\"BatteryA\":\"\",\"BatteryA_to\":\"\",\"BatteryCells\":\"\",\"BatteryInfo\":\"\",\"BatteryKWh\":\"\",\"BatteryKWh_to\":\"\",\"BatteryModules\":\"\",\"BatteryPacks\":\"\",\"BatteryType\":\"\",\"BatteryV\":\"\",\"BatteryV_to\":\"\",\"BedLengthIN\":\"\",\"BedType\":\"\",\"BlindSpotIntervention\":\"\",\"BlindSpotMon\":\"\",\"BodyCabType\":\"\",\"BodyClass\":\"Sport Utility Vehicle (SUV)\\/Multi-Purpose Vehicle (MPV)\",\"BrakeSystemDesc\":\"\",\"BrakeSystemType\":\"\",\"BusFloorConfigType\":\"Not Applicable\",\"BusLength\":\"\",\"BusType\":\"Not Applicable\",\"CAN_AACN\":\"\",\"CIB\":\"\",\"CashForClunkers\":\"\",\"ChargerLevel\":\"\",\"ChargerPowerKW\":\"\",\"CoolingType\":\"\",\"CurbWeightLB\":\"\",\"CustomMotorcycleType\":\"Not Applicable\",\"DaytimeRunningLight\":\"\",\"DestinationMarket\":\"\",\"DisplacementCC\":\"2400.0\",\"DisplacementCI\":\"146.45698582735\",\"DisplacementL\":\"2.4\",\"Doors\":\"4\",\"DriveType\":\"4x2\",\"DriverAssist\":\"\",\"DynamicBrakeSupport\":\"\",\"EDR\":\"\",\"ESC\":\"\",\"EVDriveUnit\":\"\",\"ElectrificationLevel\":\"\",\"EngineConfiguration\":\"\",\"EngineCycles\":\"\",\"EngineCylinders\":\"\",\"EngineHP\":\"\",\"EngineHP_to\":\"\",\"EngineKW\":\"\",\"EngineManufacturer\":\"\",\"EngineModel\":\"DOHC MPI THETA-II\",\"EntertainmentSystem\":\"\",\"ErrorCode\":\"1\",\"ErrorText\":\"1 - Check Digit (9th position) does not calculate properly\",\"ForwardCollisionWarning\":\"\",\"FuelInjectionType\":\"Multipoint Fuel Injection (MPFI)\",\"FuelTypePrimary\":\"Gasoline\",\"FuelTypeSecondary\":\"\",\"GCWR\":\"\",\"GCWR_to\":\"\",\"GVWR\":\"Class 1C: 4,001 - 5,000 lb (1,814 - 2,268 kg)\",\"GVWR_to\":\"\",\"KeylessIgnition\":\"\",\"LaneCenteringAssistance\":\"\",\"LaneDepartureWarning\":\"\",\"LaneKeepSystem\":\"\",\"LowerBeamHeadlampLightSource\":\"\",\"Make\":\"KIA\",\"MakeID\":\"499\",\"Manufacturer\":\"KIA GEORGIA, INC\",\"ManufacturerId\":\"20996\",\"Model\":\"Sorento\",\"ModelID\":\"2769\",\"ModelYear\":\"2012\",\"MotorcycleChassisType\":\"Not Applicable\",\"MotorcycleSuspensionType\":\"Not Applicable\",\"NCSABodyType\":\"\",\"NCSAMake\":\"\",\"NCSAMapExcApprovedBy\":\"\",\"NCSAMapExcApprovedOn\":\"\",\"NCSAMappingException\":\"\",\"NCSAModel\":\"\",\"NCSANote\":\"\",\"NonLandUse\":\"\",\"Note\":\"\",\"OtherBusInfo\":\"\",\"OtherEngineInfo\":\"\",\"OtherMotorcycleInfo\":\"\",\"OtherRestraintSystemInfo\":\"\",\"OtherTrailerInfo\":\"\",\"ParkAssist\":\"\",\"PedestrianAutomaticEmergencyBraking\":\"\",\"PlantCity\":\"\",\"PlantCompanyName\":\"Kia Motor Manufacturing, Georgia\",\"PlantCountry\":\"UNITED STATES (USA)\",\"PlantState\":\"GEORGIA\",\"PossibleValues\":\"\",\"Pretensioner\":\"\",\"RearAutomaticEmergencyBraking\":\"\",\"RearCrossTrafficAlert\":\"\",\"RearVisibilitySystem\":\"\",\"SAEAutomationLevel\":\"\",\"SAEAutomationLevel_to\":\"\",\"SeatBeltsAll\":\"Manual\",\"SeatRows\":\"\",\"Seats\":\"\",\"SemiautomaticHeadlampBeamSwitching\":\"\",\"Series\":\"GL(Middle-low grade)\",\"Series2\":\"wagon body Type\",\"SteeringLocation\":\"\",\"SuggestedVIN\":\"\",\"TPMS\":\"Direct\",\"TopSpeedMPH\":\"\",\"TrackWidth\":\"\",\"TractionControl\":\"\",\"TrailerBodyType\":\"Not Applicable\",\"TrailerLength\":\"\",\"TrailerType\":\"Not Applicable\",\"TransmissionSpeeds\":\"\",\"TransmissionStyle\":\"\",\"Trim\":\"\",\"Trim2\":\"\",\"Turbo\":\"\",\"VIN\":\"5XYKT3A12CG000000\",\"ValveTrainDesign\":\"Dual Overhead Cam (DOHC)\",\"VehicleDescriptor\":\"5XYKT3A1*CG\",\"VehicleType\":\"MULTIPURPOSE PASSENGER VEHICLE (MPV)\",\"WheelBaseLong\":\"\",\"WheelBaseShort\":\"\",\"WheelBaseType\":\"\",\"WheelSizeFront\":\"\",\"WheelSizeRear\":\"\",\"Wheels\":\"\",\"Windows\":\"\"}]}\n"
     ]
    }
   ],
   "source": [
    "url = 'https://vpic.nhtsa.dot.gov/api/vehicles/DecodeVINValuesBatch/';\n",
    "post_fields = {'format': 'json', 'data':'3GNDA13D76S000000;5XYKT3A12CG000000'};\n",
    "r = requests.post(url, data=post_fields);\n",
    "print(r.text);\t"
   ]
  },
  {
   "cell_type": "code",
   "execution_count": 3,
   "metadata": {},
   "outputs": [
    {
     "name": "stdout",
     "output_type": "stream",
     "text": [
      "{'ABS': '', 'ActiveSafetySysNote': '', 'AdaptiveCruiseControl': '', 'AdaptiveDrivingBeam': '', 'AdaptiveHeadlights': '', 'AdditionalErrorText': '', 'AirBagLocCurtain': '', 'AirBagLocFront': '', 'AirBagLocKnee': '', 'AirBagLocSeatCushion': '', 'AirBagLocSide': '', 'AutoReverseSystem': '', 'AutomaticPedestrianAlertingSound': '', 'AxleConfiguration': '', 'Axles': '', 'BasePrice': '', 'BatteryA': '', 'BatteryA_to': '', 'BatteryCells': '', 'BatteryInfo': '', 'BatteryKWh': '', 'BatteryKWh_to': '', 'BatteryModules': '', 'BatteryPacks': '', 'BatteryType': '', 'BatteryV': '', 'BatteryV_to': '', 'BedLengthIN': '', 'BedType': '', 'BlindSpotIntervention': '', 'BlindSpotMon': '', 'BodyCabType': '', 'BodyClass': 'Sport Utility Vehicle (SUV)/Multi-Purpose Vehicle (MPV)', 'BrakeSystemDesc': '', 'BrakeSystemType': 'Hydraulic', 'BusFloorConfigType': 'Not Applicable', 'BusLength': '', 'BusType': 'Not Applicable', 'CAN_AACN': '', 'CIB': '', 'CashForClunkers': '', 'ChargerLevel': '', 'ChargerPowerKW': '', 'CoolingType': '', 'CurbWeightLB': '', 'CustomMotorcycleType': 'Not Applicable', 'DaytimeRunningLight': '', 'DestinationMarket': '', 'DisplacementCC': '2200.0', 'DisplacementCI': '134.25223700841', 'DisplacementL': '2.2', 'Doors': '4', 'DriveType': '', 'DriverAssist': '', 'DynamicBrakeSupport': '', 'EDR': '', 'ESC': '', 'EVDriveUnit': '', 'ElectrificationLevel': '', 'EngineConfiguration': '', 'EngineCycles': '', 'EngineCylinders': '4', 'EngineHP': '', 'EngineHP_to': '', 'EngineKW': '', 'EngineManufacturer': 'GM', 'EngineModel': 'L61/LBZ', 'EntertainmentSystem': '', 'ErrorCode': '1', 'ErrorText': '1 - Check Digit (9th position) does not calculate properly', 'ForwardCollisionWarning': '', 'FuelInjectionType': 'Multipoint Fuel Injection (MPFI)', 'FuelTypePrimary': 'Gasoline', 'FuelTypeSecondary': '', 'GCWR': '', 'GCWR_to': '', 'GVWR': 'Class 1D: 5,001 - 6,000 lb (2,268 - 2,722 kg)', 'GVWR_to': '', 'KeylessIgnition': '', 'LaneCenteringAssistance': '', 'LaneDepartureWarning': '', 'LaneKeepSystem': '', 'LowerBeamHeadlampLightSource': '', 'Make': 'CHEVROLET', 'MakeID': '467', 'Manufacturer': 'GENERAL MOTORS LLC', 'ManufacturerId': '984', 'Model': 'HHR', 'ModelID': '4586', 'ModelYear': '2006', 'MotorcycleChassisType': 'Not Applicable', 'MotorcycleSuspensionType': 'Not Applicable', 'NCSABodyType': '', 'NCSAMake': '', 'NCSAMapExcApprovedBy': '', 'NCSAMapExcApprovedOn': '', 'NCSAMappingException': '', 'NCSAModel': '', 'NCSANote': '', 'NonLandUse': '', 'Note': '', 'OtherBusInfo': '', 'OtherEngineInfo': 'L61: 2.2L, 4Cyl, Aluminium, DOHC MFI  LBZ: 6.6L, V8, DI, Turbo Diesel, inc HP', 'OtherMotorcycleInfo': '', 'OtherRestraintSystemInfo': '', 'OtherTrailerInfo': '', 'ParkAssist': '', 'PedestrianAutomaticEmergencyBraking': '', 'PlantCity': 'RAMOS ARIZPE', 'PlantCompanyName': 'GMNA', 'PlantCountry': 'MEXICO', 'PlantState': '', 'PossibleValues': '', 'Pretensioner': '', 'RearAutomaticEmergencyBraking': '', 'RearCrossTrafficAlert': '', 'RearVisibilitySystem': '', 'SAEAutomationLevel': '', 'SAEAutomationLevel_to': '', 'SeatBeltsAll': '', 'SeatRows': '', 'Seats': '', 'SemiautomaticHeadlampBeamSwitching': '', 'Series': 'LS', 'Series2': '', 'SteeringLocation': '', 'SuggestedVIN': '', 'TPMS': '', 'TopSpeedMPH': '', 'TrackWidth': '', 'TractionControl': '', 'TrailerBodyType': 'Not Applicable', 'TrailerLength': '', 'TrailerType': 'Not Applicable', 'TransmissionSpeeds': '', 'TransmissionStyle': '', 'Trim': '1/2 Ton', 'Trim2': '', 'Turbo': '', 'VIN': '3GNDA13D76S000000', 'ValveTrainDesign': 'Dual Overhead Cam (DOHC)', 'VehicleDescriptor': '3GNDA13D*6S', 'VehicleType': 'MULTIPURPOSE PASSENGER VEHICLE (MPV)', 'WheelBaseLong': '', 'WheelBaseShort': '', 'WheelBaseType': '', 'WheelSizeFront': '', 'WheelSizeRear': '', 'Wheels': '', 'Windows': ''}\n"
     ]
    }
   ],
   "source": [
    "print(r.json()[\"Results\"][0])"
   ]
  },
  {
   "cell_type": "code",
   "execution_count": 4,
   "metadata": {},
   "outputs": [],
   "source": [
    "\"\"\"\n",
    "vpicFieldToKeep = [\n",
    "\t[\"ForwardCollisionWarningId\",\"ForwardCollisionWarning\"],\n",
    "\t[\"DynamicBrakeSupportId\",\"DynamicBrakeSupport\"],\n",
    "\t[\"CrashImminentBrakingID\",\"CrashImminentBraking\"],\n",
    "\t[\"CrashImminentBrakingID\",\"CIB\"],\n",
    "\t[\"PedestrianAutoEmergencyBrakingId\",\"PedestrianAutoEmergencyBraking\"],\n",
    "\t[\"PedestrianAutoEmergencyBrakingId\",\"PedestrianAutomaticEmergencyBraking\"],\n",
    "\t[\"BlindSpotWarningId\",\"BlindSpotWarning\"],\n",
    "\t[\"BlindSpotWarningId\",\"BlindSpotMon\"],\n",
    "\t[\"BlindSpotInterventionId\",\"BlindSpotIntervention\"],\n",
    "\t[\"LaneDepartureWarningId\",\"LaneDepartureWarning\"],\n",
    "\t[\"LaneKeepingAssistanceId\",\"LaneKeepingAssistance\"],\n",
    "\t[\"LaneKeepingAssistanceId\",\"LaneKeepSystem\"],\n",
    "\t[\"LaneCenteringAssistanceId\",\"LaneCenteringAssistance\"],\n",
    "\t[\"BackupCameraId\",\"BackupCamera\"],\n",
    "\t[\"BackupCameraId\",\"RearVisibilitySystem\"],\n",
    "\t[\"RearCrossTrafficAlertId\",\"RearCrossTrafficAlert\"],\n",
    "\t[\"RearAutomaticEmergencyBrakingId\",\"RearAutomaticEmergencyBraking\"],\n",
    "\t[\"ParkAssistId\",\"ParkAssist\"],\n",
    "\t[\"DaytimeRunningLightId\",\"DaytimeRunningLight\"],\n",
    "\t[\"HeadlampLightSourceId\",\"HeadlampLightSource\"],\n",
    "\t[\"HeadlampLightSourceId\",\"LowerBeamHeadlampLightSource\"],\n",
    "\t[\"SemiAutoHeadlampBeamSwitchingId\",\"SemiAutoHeadlampBeamSwitching\"],\n",
    "\t[\"SemiAutoHeadlampBeamSwitchingId\",\"SemiautomaticHeadlampBeamSwitching\"],\n",
    "\t[\"AdaptiveDrivingBeamId\",\"AdaptiveDrivingBeam\"],\n",
    "\t[\"AdaptiveCruiseControlId\",\"AdaptiveCruiseControl\"],\n",
    "\t[\"AntilockBrakeSystemId\",\"AntilockBrakeSystem\"],\n",
    "\t[\"AntilockBrakeSystemId\",\"ABS\"],\n",
    "\t[\"ElectronicStabilityControlId\",\"ElectronicStabilityControl\"],\n",
    "\t[\"ElectronicStabilityControlId\",\"ESC\"],\n",
    "\t[\"TPMSId\",\"TPMS\"],\n",
    "\t[\"TractionControlId\",\"TractionControl\"],\n",
    "\t[\"AutoPedestrianAlertingSoundId\",\"AutoPedestrianAlertingSound\"],\n",
    "\t[\"AutoPedestrianAlertingSoundId\",\"AutomaticPedestrianAlertingSound\"],\n",
    "\t[\"vpicVIN\",\"VIN\"]\n",
    "]\n",
    "\"\"\"\n",
    "\n",
    "vpicFieldToKeep = [\n",
    "\t\"ForwardCollisionWarning\",\n",
    "\t\"DynamicBrakeSupport\",\n",
    "\t#\"CrashImminentBraking\",\n",
    "\t\"CIB\",\n",
    "\t#\"PedestrianAutoEmergencyBraking\",\n",
    "\t\"PedestrianAutomaticEmergencyBraking\",\n",
    "\t#\"BlindSpotWarning\",\n",
    "\t\"BlindSpotMon\",\n",
    "\t\"BlindSpotIntervention\",\n",
    "\t\"LaneDepartureWarning\",\n",
    "\t#\"LaneKeepingAssistance\",\n",
    "\t\"LaneKeepSystem\",\n",
    "\t\"LaneCenteringAssistance\",\n",
    "\t#\"BackupCamera\",\n",
    "\t\"RearVisibilitySystem\",\n",
    "\t\"RearCrossTrafficAlert\",\n",
    "\t\"RearAutomaticEmergencyBraking\",\n",
    "\t\"ParkAssist\",\n",
    "\t\"DaytimeRunningLight\",\n",
    "\t#\"HeadlampLightSource\",\n",
    "\t\"LowerBeamHeadlampLightSource\",\n",
    "\t#\"SemiAutoHeadlampBeamSwitching\",\n",
    "\t\"SemiautomaticHeadlampBeamSwitching\",\n",
    "\t\"AdaptiveDrivingBeam\",\n",
    "\t\"AdaptiveCruiseControl\",\n",
    "\t#\"AntilockBrakeSystem\",\n",
    "\t\"ABS\",\n",
    "\t#\"ElectronicStabilityControl\",\n",
    "\t\"ESC\",\n",
    "\t\"TPMS\",\n",
    "\t\"TractionControl\",\n",
    "\t#\"AutoPedestrianAlertingSound\",\n",
    "\t\"AutomaticPedestrianAlertingSound\",\n",
    "\t\"VIN\",\n",
    "\t\"BodyClass\",\n",
    "\t\"Make\",\n",
    "\t\"MakeID\",\n",
    "\t\"Model\",\n",
    "\t\"ModelID\",\n",
    "\t\"ModelYear\",\n",
    "\t\"ErrorCode\",\n",
    "]\n",
    "\n"
   ]
  },
  {
   "cell_type": "code",
   "execution_count": 5,
   "metadata": {},
   "outputs": [
    {
     "name": "stdout",
     "output_type": "stream",
     "text": [
      "ForwardCollisionWarning \n",
      "DynamicBrakeSupport \n",
      "CIB \n",
      "PedestrianAutomaticEmergencyBraking \n",
      "BlindSpotMon \n",
      "BlindSpotIntervention \n",
      "LaneDepartureWarning \n",
      "LaneKeepSystem \n",
      "LaneCenteringAssistance \n",
      "RearVisibilitySystem \n",
      "RearCrossTrafficAlert \n",
      "RearAutomaticEmergencyBraking \n",
      "ParkAssist \n",
      "DaytimeRunningLight \n",
      "LowerBeamHeadlampLightSource \n",
      "SemiautomaticHeadlampBeamSwitching \n",
      "AdaptiveDrivingBeam \n",
      "AdaptiveCruiseControl \n",
      "ABS \n",
      "ESC \n",
      "TPMS \n",
      "TractionControl \n",
      "AutomaticPedestrianAlertingSound \n",
      "VIN 3GNDA13D76S000000\n",
      "BodyClass Sport Utility Vehicle (SUV)/Multi-Purpose Vehicle (MPV)\n",
      "Make CHEVROLET\n",
      "MakeID 467\n",
      "Model HHR\n",
      "ModelID 4586\n",
      "ModelYear 2006\n",
      "ErrorCode 1\n"
     ]
    }
   ],
   "source": [
    "#print(r.json()[\"Results\"][1].keys())\n",
    "for x in vpicFieldToKeep:\n",
    "    if x in r.json()[\"Results\"][1].keys():\n",
    "        print(x,r.json()[\"Results\"][0][x])\n",
    "    else:\n",
    "        print(x,\"N/A\")"
   ]
  },
  {
   "cell_type": "code",
   "execution_count": 6,
   "metadata": {},
   "outputs": [
    {
     "name": "stdout",
     "output_type": "stream",
     "text": [
      "<class 'pandas.core.frame.DataFrame'>\n",
      "Int64Index: 11350911 entries, 2 to 12586700\n",
      "Data columns (total 32 columns):\n",
      " #   Column                               Dtype \n",
      "---  ------                               ----- \n",
      " 0   ORIG_VIN                             object\n",
      " 1   ForwardCollisionWarning              object\n",
      " 2   DynamicBrakeSupport                  object\n",
      " 3   CIB                                  object\n",
      " 4   PedestrianAutomaticEmergencyBraking  object\n",
      " 5   BlindSpotMon                         object\n",
      " 6   BlindSpotIntervention                object\n",
      " 7   LaneDepartureWarning                 object\n",
      " 8   LaneKeepSystem                       object\n",
      " 9   LaneCenteringAssistance              object\n",
      " 10  RearVisibilitySystem                 object\n",
      " 11  RearCrossTrafficAlert                object\n",
      " 12  RearAutomaticEmergencyBraking        object\n",
      " 13  ParkAssist                           object\n",
      " 14  DaytimeRunningLight                  object\n",
      " 15  LowerBeamHeadlampLightSource         object\n",
      " 16  SemiautomaticHeadlampBeamSwitching   object\n",
      " 17  AdaptiveDrivingBeam                  object\n",
      " 18  AdaptiveCruiseControl                object\n",
      " 19  ABS                                  object\n",
      " 20  ESC                                  object\n",
      " 21  TPMS                                 object\n",
      " 22  TractionControl                      object\n",
      " 23  AutomaticPedestrianAlertingSound     object\n",
      " 24  VIN                                  object\n",
      " 25  BodyClass                            object\n",
      " 26  Make                                 object\n",
      " 27  MakeID                               object\n",
      " 28  Model                                object\n",
      " 29  ModelID                              object\n",
      " 30  ModelYear                            object\n",
      " 31  ErrorCode                            object\n",
      "dtypes: object(32)\n",
      "memory usage: 2.8+ GB\n"
     ]
    }
   ],
   "source": [
    "vinDf = pd.read_csv(\"tmp/NYDMV-VIN.csv\")\n",
    "vinDf.columns = [\"entry\",\"ORIG_VIN\"]\n",
    "for x in vpicFieldToKeep:\n",
    "    vinDf[x] = None\n",
    "vinDf.set_index(\"entry\", inplace=True)\n",
    "vinDf.info(verbose=True)"
   ]
  },
  {
   "cell_type": "code",
   "execution_count": 44,
   "metadata": {},
   "outputs": [
    {
     "name": "stdout",
     "output_type": "stream",
     "text": [
      "Current index: 14040 0.0 %\r"
     ]
    },
    {
     "ename": "KeyboardInterrupt",
     "evalue": "",
     "output_type": "error",
     "traceback": [
      "\u001b[0;31m---------------------------------------------------------------------------\u001b[0m",
      "\u001b[0;31mKeyboardInterrupt\u001b[0m                         Traceback (most recent call last)",
      "Cell \u001b[0;32mIn [44], line 15\u001b[0m\n\u001b[1;32m     13\u001b[0m \u001b[39m#print(vinsToCheckStr)\u001b[39;00m\n\u001b[1;32m     14\u001b[0m post_fields \u001b[39m=\u001b[39m {\u001b[39m'\u001b[39m\u001b[39mformat\u001b[39m\u001b[39m'\u001b[39m: \u001b[39m'\u001b[39m\u001b[39mjson\u001b[39m\u001b[39m'\u001b[39m, \u001b[39m'\u001b[39m\u001b[39mdata\u001b[39m\u001b[39m'\u001b[39m:vinsToCheckStr};\n\u001b[0;32m---> 15\u001b[0m r \u001b[39m=\u001b[39m requests\u001b[39m.\u001b[39;49mpost(url, data\u001b[39m=\u001b[39;49mpost_fields);\n\u001b[1;32m     16\u001b[0m vpicResults \u001b[39m=\u001b[39m r\u001b[39m.\u001b[39mjson()[\u001b[39m\"\u001b[39m\u001b[39mResults\u001b[39m\u001b[39m\"\u001b[39m]\n\u001b[1;32m     17\u001b[0m \u001b[39m# loop through resutls for every VIN\u001b[39;00m\n",
      "File \u001b[0;32m~/Library/Python/3.9/lib/python/site-packages/requests/api.py:115\u001b[0m, in \u001b[0;36mpost\u001b[0;34m(url, data, json, **kwargs)\u001b[0m\n\u001b[1;32m    103\u001b[0m \u001b[39mdef\u001b[39;00m \u001b[39mpost\u001b[39m(url, data\u001b[39m=\u001b[39m\u001b[39mNone\u001b[39;00m, json\u001b[39m=\u001b[39m\u001b[39mNone\u001b[39;00m, \u001b[39m*\u001b[39m\u001b[39m*\u001b[39mkwargs):\n\u001b[1;32m    104\u001b[0m     \u001b[39mr\u001b[39m\u001b[39m\"\"\"Sends a POST request.\u001b[39;00m\n\u001b[1;32m    105\u001b[0m \n\u001b[1;32m    106\u001b[0m \u001b[39m    :param url: URL for the new :class:`Request` object.\u001b[39;00m\n\u001b[0;32m   (...)\u001b[0m\n\u001b[1;32m    112\u001b[0m \u001b[39m    :rtype: requests.Response\u001b[39;00m\n\u001b[1;32m    113\u001b[0m \u001b[39m    \"\"\"\u001b[39;00m\n\u001b[0;32m--> 115\u001b[0m     \u001b[39mreturn\u001b[39;00m request(\u001b[39m\"\u001b[39;49m\u001b[39mpost\u001b[39;49m\u001b[39m\"\u001b[39;49m, url, data\u001b[39m=\u001b[39;49mdata, json\u001b[39m=\u001b[39;49mjson, \u001b[39m*\u001b[39;49m\u001b[39m*\u001b[39;49mkwargs)\n",
      "File \u001b[0;32m~/Library/Python/3.9/lib/python/site-packages/requests/api.py:59\u001b[0m, in \u001b[0;36mrequest\u001b[0;34m(method, url, **kwargs)\u001b[0m\n\u001b[1;32m     55\u001b[0m \u001b[39m# By using the 'with' statement we are sure the session is closed, thus we\u001b[39;00m\n\u001b[1;32m     56\u001b[0m \u001b[39m# avoid leaving sockets open which can trigger a ResourceWarning in some\u001b[39;00m\n\u001b[1;32m     57\u001b[0m \u001b[39m# cases, and look like a memory leak in others.\u001b[39;00m\n\u001b[1;32m     58\u001b[0m \u001b[39mwith\u001b[39;00m sessions\u001b[39m.\u001b[39mSession() \u001b[39mas\u001b[39;00m session:\n\u001b[0;32m---> 59\u001b[0m     \u001b[39mreturn\u001b[39;00m session\u001b[39m.\u001b[39;49mrequest(method\u001b[39m=\u001b[39;49mmethod, url\u001b[39m=\u001b[39;49murl, \u001b[39m*\u001b[39;49m\u001b[39m*\u001b[39;49mkwargs)\n",
      "File \u001b[0;32m~/Library/Python/3.9/lib/python/site-packages/requests/sessions.py:587\u001b[0m, in \u001b[0;36mSession.request\u001b[0;34m(self, method, url, params, data, headers, cookies, files, auth, timeout, allow_redirects, proxies, hooks, stream, verify, cert, json)\u001b[0m\n\u001b[1;32m    582\u001b[0m send_kwargs \u001b[39m=\u001b[39m {\n\u001b[1;32m    583\u001b[0m     \u001b[39m\"\u001b[39m\u001b[39mtimeout\u001b[39m\u001b[39m\"\u001b[39m: timeout,\n\u001b[1;32m    584\u001b[0m     \u001b[39m\"\u001b[39m\u001b[39mallow_redirects\u001b[39m\u001b[39m\"\u001b[39m: allow_redirects,\n\u001b[1;32m    585\u001b[0m }\n\u001b[1;32m    586\u001b[0m send_kwargs\u001b[39m.\u001b[39mupdate(settings)\n\u001b[0;32m--> 587\u001b[0m resp \u001b[39m=\u001b[39m \u001b[39mself\u001b[39;49m\u001b[39m.\u001b[39;49msend(prep, \u001b[39m*\u001b[39;49m\u001b[39m*\u001b[39;49msend_kwargs)\n\u001b[1;32m    589\u001b[0m \u001b[39mreturn\u001b[39;00m resp\n",
      "File \u001b[0;32m~/Library/Python/3.9/lib/python/site-packages/requests/sessions.py:701\u001b[0m, in \u001b[0;36mSession.send\u001b[0;34m(self, request, **kwargs)\u001b[0m\n\u001b[1;32m    698\u001b[0m start \u001b[39m=\u001b[39m preferred_clock()\n\u001b[1;32m    700\u001b[0m \u001b[39m# Send the request\u001b[39;00m\n\u001b[0;32m--> 701\u001b[0m r \u001b[39m=\u001b[39m adapter\u001b[39m.\u001b[39;49msend(request, \u001b[39m*\u001b[39;49m\u001b[39m*\u001b[39;49mkwargs)\n\u001b[1;32m    703\u001b[0m \u001b[39m# Total elapsed time of the request (approximately)\u001b[39;00m\n\u001b[1;32m    704\u001b[0m elapsed \u001b[39m=\u001b[39m preferred_clock() \u001b[39m-\u001b[39m start\n",
      "File \u001b[0;32m~/Library/Python/3.9/lib/python/site-packages/requests/adapters.py:489\u001b[0m, in \u001b[0;36mHTTPAdapter.send\u001b[0;34m(self, request, stream, timeout, verify, cert, proxies)\u001b[0m\n\u001b[1;32m    487\u001b[0m \u001b[39mtry\u001b[39;00m:\n\u001b[1;32m    488\u001b[0m     \u001b[39mif\u001b[39;00m \u001b[39mnot\u001b[39;00m chunked:\n\u001b[0;32m--> 489\u001b[0m         resp \u001b[39m=\u001b[39m conn\u001b[39m.\u001b[39;49murlopen(\n\u001b[1;32m    490\u001b[0m             method\u001b[39m=\u001b[39;49mrequest\u001b[39m.\u001b[39;49mmethod,\n\u001b[1;32m    491\u001b[0m             url\u001b[39m=\u001b[39;49murl,\n\u001b[1;32m    492\u001b[0m             body\u001b[39m=\u001b[39;49mrequest\u001b[39m.\u001b[39;49mbody,\n\u001b[1;32m    493\u001b[0m             headers\u001b[39m=\u001b[39;49mrequest\u001b[39m.\u001b[39;49mheaders,\n\u001b[1;32m    494\u001b[0m             redirect\u001b[39m=\u001b[39;49m\u001b[39mFalse\u001b[39;49;00m,\n\u001b[1;32m    495\u001b[0m             assert_same_host\u001b[39m=\u001b[39;49m\u001b[39mFalse\u001b[39;49;00m,\n\u001b[1;32m    496\u001b[0m             preload_content\u001b[39m=\u001b[39;49m\u001b[39mFalse\u001b[39;49;00m,\n\u001b[1;32m    497\u001b[0m             decode_content\u001b[39m=\u001b[39;49m\u001b[39mFalse\u001b[39;49;00m,\n\u001b[1;32m    498\u001b[0m             retries\u001b[39m=\u001b[39;49m\u001b[39mself\u001b[39;49m\u001b[39m.\u001b[39;49mmax_retries,\n\u001b[1;32m    499\u001b[0m             timeout\u001b[39m=\u001b[39;49mtimeout,\n\u001b[1;32m    500\u001b[0m         )\n\u001b[1;32m    502\u001b[0m     \u001b[39m# Send the request.\u001b[39;00m\n\u001b[1;32m    503\u001b[0m     \u001b[39melse\u001b[39;00m:\n\u001b[1;32m    504\u001b[0m         \u001b[39mif\u001b[39;00m \u001b[39mhasattr\u001b[39m(conn, \u001b[39m\"\u001b[39m\u001b[39mproxy_pool\u001b[39m\u001b[39m\"\u001b[39m):\n",
      "File \u001b[0;32m~/Library/Python/3.9/lib/python/site-packages/urllib3/connectionpool.py:703\u001b[0m, in \u001b[0;36mHTTPConnectionPool.urlopen\u001b[0;34m(self, method, url, body, headers, retries, redirect, assert_same_host, timeout, pool_timeout, release_conn, chunked, body_pos, **response_kw)\u001b[0m\n\u001b[1;32m    700\u001b[0m     \u001b[39mself\u001b[39m\u001b[39m.\u001b[39m_prepare_proxy(conn)\n\u001b[1;32m    702\u001b[0m \u001b[39m# Make the request on the httplib connection object.\u001b[39;00m\n\u001b[0;32m--> 703\u001b[0m httplib_response \u001b[39m=\u001b[39m \u001b[39mself\u001b[39;49m\u001b[39m.\u001b[39;49m_make_request(\n\u001b[1;32m    704\u001b[0m     conn,\n\u001b[1;32m    705\u001b[0m     method,\n\u001b[1;32m    706\u001b[0m     url,\n\u001b[1;32m    707\u001b[0m     timeout\u001b[39m=\u001b[39;49mtimeout_obj,\n\u001b[1;32m    708\u001b[0m     body\u001b[39m=\u001b[39;49mbody,\n\u001b[1;32m    709\u001b[0m     headers\u001b[39m=\u001b[39;49mheaders,\n\u001b[1;32m    710\u001b[0m     chunked\u001b[39m=\u001b[39;49mchunked,\n\u001b[1;32m    711\u001b[0m )\n\u001b[1;32m    713\u001b[0m \u001b[39m# If we're going to release the connection in ``finally:``, then\u001b[39;00m\n\u001b[1;32m    714\u001b[0m \u001b[39m# the response doesn't need to know about the connection. Otherwise\u001b[39;00m\n\u001b[1;32m    715\u001b[0m \u001b[39m# it will also try to release it and we'll have a double-release\u001b[39;00m\n\u001b[1;32m    716\u001b[0m \u001b[39m# mess.\u001b[39;00m\n\u001b[1;32m    717\u001b[0m response_conn \u001b[39m=\u001b[39m conn \u001b[39mif\u001b[39;00m \u001b[39mnot\u001b[39;00m release_conn \u001b[39melse\u001b[39;00m \u001b[39mNone\u001b[39;00m\n",
      "File \u001b[0;32m~/Library/Python/3.9/lib/python/site-packages/urllib3/connectionpool.py:449\u001b[0m, in \u001b[0;36mHTTPConnectionPool._make_request\u001b[0;34m(self, conn, method, url, timeout, chunked, **httplib_request_kw)\u001b[0m\n\u001b[1;32m    444\u001b[0m             httplib_response \u001b[39m=\u001b[39m conn\u001b[39m.\u001b[39mgetresponse()\n\u001b[1;32m    445\u001b[0m         \u001b[39mexcept\u001b[39;00m \u001b[39mBaseException\u001b[39;00m \u001b[39mas\u001b[39;00m e:\n\u001b[1;32m    446\u001b[0m             \u001b[39m# Remove the TypeError from the exception chain in\u001b[39;00m\n\u001b[1;32m    447\u001b[0m             \u001b[39m# Python 3 (including for exceptions like SystemExit).\u001b[39;00m\n\u001b[1;32m    448\u001b[0m             \u001b[39m# Otherwise it looks like a bug in the code.\u001b[39;00m\n\u001b[0;32m--> 449\u001b[0m             six\u001b[39m.\u001b[39;49mraise_from(e, \u001b[39mNone\u001b[39;49;00m)\n\u001b[1;32m    450\u001b[0m \u001b[39mexcept\u001b[39;00m (SocketTimeout, BaseSSLError, SocketError) \u001b[39mas\u001b[39;00m e:\n\u001b[1;32m    451\u001b[0m     \u001b[39mself\u001b[39m\u001b[39m.\u001b[39m_raise_timeout(err\u001b[39m=\u001b[39me, url\u001b[39m=\u001b[39murl, timeout_value\u001b[39m=\u001b[39mread_timeout)\n",
      "File \u001b[0;32m<string>:3\u001b[0m, in \u001b[0;36mraise_from\u001b[0;34m(value, from_value)\u001b[0m\n",
      "File \u001b[0;32m~/Library/Python/3.9/lib/python/site-packages/urllib3/connectionpool.py:444\u001b[0m, in \u001b[0;36mHTTPConnectionPool._make_request\u001b[0;34m(self, conn, method, url, timeout, chunked, **httplib_request_kw)\u001b[0m\n\u001b[1;32m    441\u001b[0m \u001b[39mexcept\u001b[39;00m \u001b[39mTypeError\u001b[39;00m:\n\u001b[1;32m    442\u001b[0m     \u001b[39m# Python 3\u001b[39;00m\n\u001b[1;32m    443\u001b[0m     \u001b[39mtry\u001b[39;00m:\n\u001b[0;32m--> 444\u001b[0m         httplib_response \u001b[39m=\u001b[39m conn\u001b[39m.\u001b[39;49mgetresponse()\n\u001b[1;32m    445\u001b[0m     \u001b[39mexcept\u001b[39;00m \u001b[39mBaseException\u001b[39;00m \u001b[39mas\u001b[39;00m e:\n\u001b[1;32m    446\u001b[0m         \u001b[39m# Remove the TypeError from the exception chain in\u001b[39;00m\n\u001b[1;32m    447\u001b[0m         \u001b[39m# Python 3 (including for exceptions like SystemExit).\u001b[39;00m\n\u001b[1;32m    448\u001b[0m         \u001b[39m# Otherwise it looks like a bug in the code.\u001b[39;00m\n\u001b[1;32m    449\u001b[0m         six\u001b[39m.\u001b[39mraise_from(e, \u001b[39mNone\u001b[39;00m)\n",
      "File \u001b[0;32m/Library/Developer/CommandLineTools/Library/Frameworks/Python3.framework/Versions/3.9/lib/python3.9/http/client.py:1349\u001b[0m, in \u001b[0;36mHTTPConnection.getresponse\u001b[0;34m(self)\u001b[0m\n\u001b[1;32m   1347\u001b[0m \u001b[39mtry\u001b[39;00m:\n\u001b[1;32m   1348\u001b[0m     \u001b[39mtry\u001b[39;00m:\n\u001b[0;32m-> 1349\u001b[0m         response\u001b[39m.\u001b[39;49mbegin()\n\u001b[1;32m   1350\u001b[0m     \u001b[39mexcept\u001b[39;00m \u001b[39mConnectionError\u001b[39;00m:\n\u001b[1;32m   1351\u001b[0m         \u001b[39mself\u001b[39m\u001b[39m.\u001b[39mclose()\n",
      "File \u001b[0;32m/Library/Developer/CommandLineTools/Library/Frameworks/Python3.framework/Versions/3.9/lib/python3.9/http/client.py:316\u001b[0m, in \u001b[0;36mHTTPResponse.begin\u001b[0;34m(self)\u001b[0m\n\u001b[1;32m    314\u001b[0m \u001b[39m# read until we get a non-100 response\u001b[39;00m\n\u001b[1;32m    315\u001b[0m \u001b[39mwhile\u001b[39;00m \u001b[39mTrue\u001b[39;00m:\n\u001b[0;32m--> 316\u001b[0m     version, status, reason \u001b[39m=\u001b[39m \u001b[39mself\u001b[39;49m\u001b[39m.\u001b[39;49m_read_status()\n\u001b[1;32m    317\u001b[0m     \u001b[39mif\u001b[39;00m status \u001b[39m!=\u001b[39m CONTINUE:\n\u001b[1;32m    318\u001b[0m         \u001b[39mbreak\u001b[39;00m\n",
      "File \u001b[0;32m/Library/Developer/CommandLineTools/Library/Frameworks/Python3.framework/Versions/3.9/lib/python3.9/http/client.py:277\u001b[0m, in \u001b[0;36mHTTPResponse._read_status\u001b[0;34m(self)\u001b[0m\n\u001b[1;32m    276\u001b[0m \u001b[39mdef\u001b[39;00m \u001b[39m_read_status\u001b[39m(\u001b[39mself\u001b[39m):\n\u001b[0;32m--> 277\u001b[0m     line \u001b[39m=\u001b[39m \u001b[39mstr\u001b[39m(\u001b[39mself\u001b[39;49m\u001b[39m.\u001b[39;49mfp\u001b[39m.\u001b[39;49mreadline(_MAXLINE \u001b[39m+\u001b[39;49m \u001b[39m1\u001b[39;49m), \u001b[39m\"\u001b[39m\u001b[39miso-8859-1\u001b[39m\u001b[39m\"\u001b[39m)\n\u001b[1;32m    278\u001b[0m     \u001b[39mif\u001b[39;00m \u001b[39mlen\u001b[39m(line) \u001b[39m>\u001b[39m _MAXLINE:\n\u001b[1;32m    279\u001b[0m         \u001b[39mraise\u001b[39;00m LineTooLong(\u001b[39m\"\u001b[39m\u001b[39mstatus line\u001b[39m\u001b[39m\"\u001b[39m)\n",
      "File \u001b[0;32m/Library/Developer/CommandLineTools/Library/Frameworks/Python3.framework/Versions/3.9/lib/python3.9/socket.py:704\u001b[0m, in \u001b[0;36mSocketIO.readinto\u001b[0;34m(self, b)\u001b[0m\n\u001b[1;32m    702\u001b[0m \u001b[39mwhile\u001b[39;00m \u001b[39mTrue\u001b[39;00m:\n\u001b[1;32m    703\u001b[0m     \u001b[39mtry\u001b[39;00m:\n\u001b[0;32m--> 704\u001b[0m         \u001b[39mreturn\u001b[39;00m \u001b[39mself\u001b[39;49m\u001b[39m.\u001b[39;49m_sock\u001b[39m.\u001b[39;49mrecv_into(b)\n\u001b[1;32m    705\u001b[0m     \u001b[39mexcept\u001b[39;00m timeout:\n\u001b[1;32m    706\u001b[0m         \u001b[39mself\u001b[39m\u001b[39m.\u001b[39m_timeout_occurred \u001b[39m=\u001b[39m \u001b[39mTrue\u001b[39;00m\n",
      "File \u001b[0;32m/Library/Developer/CommandLineTools/Library/Frameworks/Python3.framework/Versions/3.9/lib/python3.9/ssl.py:1241\u001b[0m, in \u001b[0;36mSSLSocket.recv_into\u001b[0;34m(self, buffer, nbytes, flags)\u001b[0m\n\u001b[1;32m   1237\u001b[0m     \u001b[39mif\u001b[39;00m flags \u001b[39m!=\u001b[39m \u001b[39m0\u001b[39m:\n\u001b[1;32m   1238\u001b[0m         \u001b[39mraise\u001b[39;00m \u001b[39mValueError\u001b[39;00m(\n\u001b[1;32m   1239\u001b[0m           \u001b[39m\"\u001b[39m\u001b[39mnon-zero flags not allowed in calls to recv_into() on \u001b[39m\u001b[39m%s\u001b[39;00m\u001b[39m\"\u001b[39m \u001b[39m%\u001b[39m\n\u001b[1;32m   1240\u001b[0m           \u001b[39mself\u001b[39m\u001b[39m.\u001b[39m\u001b[39m__class__\u001b[39m)\n\u001b[0;32m-> 1241\u001b[0m     \u001b[39mreturn\u001b[39;00m \u001b[39mself\u001b[39;49m\u001b[39m.\u001b[39;49mread(nbytes, buffer)\n\u001b[1;32m   1242\u001b[0m \u001b[39melse\u001b[39;00m:\n\u001b[1;32m   1243\u001b[0m     \u001b[39mreturn\u001b[39;00m \u001b[39msuper\u001b[39m()\u001b[39m.\u001b[39mrecv_into(buffer, nbytes, flags)\n",
      "File \u001b[0;32m/Library/Developer/CommandLineTools/Library/Frameworks/Python3.framework/Versions/3.9/lib/python3.9/ssl.py:1099\u001b[0m, in \u001b[0;36mSSLSocket.read\u001b[0;34m(self, len, buffer)\u001b[0m\n\u001b[1;32m   1097\u001b[0m \u001b[39mtry\u001b[39;00m:\n\u001b[1;32m   1098\u001b[0m     \u001b[39mif\u001b[39;00m buffer \u001b[39mis\u001b[39;00m \u001b[39mnot\u001b[39;00m \u001b[39mNone\u001b[39;00m:\n\u001b[0;32m-> 1099\u001b[0m         \u001b[39mreturn\u001b[39;00m \u001b[39mself\u001b[39;49m\u001b[39m.\u001b[39;49m_sslobj\u001b[39m.\u001b[39;49mread(\u001b[39mlen\u001b[39;49m, buffer)\n\u001b[1;32m   1100\u001b[0m     \u001b[39melse\u001b[39;00m:\n\u001b[1;32m   1101\u001b[0m         \u001b[39mreturn\u001b[39;00m \u001b[39mself\u001b[39m\u001b[39m.\u001b[39m_sslobj\u001b[39m.\u001b[39mread(\u001b[39mlen\u001b[39m)\n",
      "\u001b[0;31mKeyboardInterrupt\u001b[0m: "
     ]
    }
   ],
   "source": [
    "#for idx in range(0,vinDf.shape[0],50):\n",
    "url = 'https://vpic.nhtsa.dot.gov/api/vehicles/DecodeVINValuesBatch/';\n",
    "vinStep = 45\n",
    "vinRecords = vinDf.shape[0]\n",
    "vinStart = 5760\n",
    "for idx in range(vinStart,vinRecords,vinStep):\n",
    "    print(\"Current index:\",idx,round(idx/vinRecords,1),\"%\",end=\"\\r\")\n",
    "    if idx + vinStep < vinRecords:\n",
    "        vinsToCheck = vinDf.iloc[idx:idx+vinStep,0]\n",
    "    else:\n",
    "        vinsToCheck = vinDf.iloc[idx:,0]\n",
    "    vinsToCheckStr = vinsToCheck.to_csv(None,index=False,line_terminator=';',header=False)[:-1] # eliminate last ';'\n",
    "    #print(vinsToCheckStr)\n",
    "    post_fields = {'format': 'json', 'data':vinsToCheckStr};\n",
    "    r = requests.post(url, data=post_fields);\n",
    "    vpicResults = r.json()[\"Results\"]\n",
    "    # loop through resutls for every VIN\n",
    "\n",
    "    for resIdx in range(0,len(vpicResults)):\n",
    "        rowLabel = vinDf.index[idx + resIdx]\n",
    "        for x in vpicFieldToKeep:\n",
    "            vinDf.at[rowLabel,x] = vpicResults[resIdx][x]\n",
    "            #print((rowLabel,x),(resIdx,x))\n",
    "    \n",
    "    time.sleep(0.25)\n",
    "\n",
    "    "
   ]
  },
  {
   "cell_type": "code",
   "execution_count": 39,
   "metadata": {},
   "outputs": [
    {
     "data": {
      "text/plain": [
       "(11350911, 32)"
      ]
     },
     "execution_count": 39,
     "metadata": {},
     "output_type": "execute_result"
    }
   ],
   "source": [
    "#print(r.json()[\"Results\"])\n",
    "vinDf.shape"
   ]
  }
 ],
 "metadata": {
  "kernelspec": {
   "display_name": "Python 3.9.6 64-bit",
   "language": "python",
   "name": "python3"
  },
  "language_info": {
   "codemirror_mode": {
    "name": "ipython",
    "version": 3
   },
   "file_extension": ".py",
   "mimetype": "text/x-python",
   "name": "python",
   "nbconvert_exporter": "python",
   "pygments_lexer": "ipython3",
   "version": "3.9.6"
  },
  "orig_nbformat": 4,
  "vscode": {
   "interpreter": {
    "hash": "31f2aee4e71d21fbe5cf8b01ff0e069b9275f58929596ceb00d14d90e3e16cd6"
   }
  }
 },
 "nbformat": 4,
 "nbformat_minor": 2
}
