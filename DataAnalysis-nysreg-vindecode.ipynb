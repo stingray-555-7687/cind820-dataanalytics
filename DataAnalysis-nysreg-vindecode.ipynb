{
 "cells": [
  {
   "cell_type": "code",
   "execution_count": 1,
   "metadata": {},
   "outputs": [],
   "source": [
    "# define libraries to use\n",
    "import pandas as pd\n",
    "import numpy as np\n",
    "from pathlib import Path\n",
    "import requests,json\n",
    "import matplotlib.pyplot as plt\n",
    "%matplotlib inline\n",
    "import time"
   ]
  },
  {
   "cell_type": "code",
   "execution_count": 2,
   "metadata": {},
   "outputs": [],
   "source": [
    "#url = 'https://vpic.nhtsa.dot.gov/api/vehicles/DecodeVINValuesBatch/';\n",
    "#post_fields = {'format': 'json', 'data':'3GNDA13D76S000000;5XYKT3A12CG000000'};\n",
    "#r = requests.post(url, data=post_fields);\n",
    "#print(r.text);\t"
   ]
  },
  {
   "cell_type": "code",
   "execution_count": 3,
   "metadata": {},
   "outputs": [],
   "source": [
    "#print(r.json()[\"Results\"][0])"
   ]
  },
  {
   "cell_type": "code",
   "execution_count": 4,
   "metadata": {},
   "outputs": [],
   "source": [
    "\"\"\"\n",
    "vpicFieldToKeep = [\n",
    "\t[\"ForwardCollisionWarningId\",\"ForwardCollisionWarning\"],\n",
    "\t[\"DynamicBrakeSupportId\",\"DynamicBrakeSupport\"],\n",
    "\t[\"CrashImminentBrakingID\",\"CrashImminentBraking\"],\n",
    "\t[\"CrashImminentBrakingID\",\"CIB\"],\n",
    "\t[\"PedestrianAutoEmergencyBrakingId\",\"PedestrianAutoEmergencyBraking\"],\n",
    "\t[\"PedestrianAutoEmergencyBrakingId\",\"PedestrianAutomaticEmergencyBraking\"],\n",
    "\t[\"BlindSpotWarningId\",\"BlindSpotWarning\"],\n",
    "\t[\"BlindSpotWarningId\",\"BlindSpotMon\"],\n",
    "\t[\"BlindSpotInterventionId\",\"BlindSpotIntervention\"],\n",
    "\t[\"LaneDepartureWarningId\",\"LaneDepartureWarning\"],\n",
    "\t[\"LaneKeepingAssistanceId\",\"LaneKeepingAssistance\"],\n",
    "\t[\"LaneKeepingAssistanceId\",\"LaneKeepSystem\"],\n",
    "\t[\"LaneCenteringAssistanceId\",\"LaneCenteringAssistance\"],\n",
    "\t[\"BackupCameraId\",\"BackupCamera\"],\n",
    "\t[\"BackupCameraId\",\"RearVisibilitySystem\"],\n",
    "\t[\"RearCrossTrafficAlertId\",\"RearCrossTrafficAlert\"],\n",
    "\t[\"RearAutomaticEmergencyBrakingId\",\"RearAutomaticEmergencyBraking\"],\n",
    "\t[\"ParkAssistId\",\"ParkAssist\"],\n",
    "\t[\"DaytimeRunningLightId\",\"DaytimeRunningLight\"],\n",
    "\t[\"HeadlampLightSourceId\",\"HeadlampLightSource\"],\n",
    "\t[\"HeadlampLightSourceId\",\"LowerBeamHeadlampLightSource\"],\n",
    "\t[\"SemiAutoHeadlampBeamSwitchingId\",\"SemiAutoHeadlampBeamSwitching\"],\n",
    "\t[\"SemiAutoHeadlampBeamSwitchingId\",\"SemiautomaticHeadlampBeamSwitching\"],\n",
    "\t[\"AdaptiveDrivingBeamId\",\"AdaptiveDrivingBeam\"],\n",
    "\t[\"AdaptiveCruiseControlId\",\"AdaptiveCruiseControl\"],\n",
    "\t[\"AntilockBrakeSystemId\",\"AntilockBrakeSystem\"],\n",
    "\t[\"AntilockBrakeSystemId\",\"ABS\"],\n",
    "\t[\"ElectronicStabilityControlId\",\"ElectronicStabilityControl\"],\n",
    "\t[\"ElectronicStabilityControlId\",\"ESC\"],\n",
    "\t[\"TPMSId\",\"TPMS\"],\n",
    "\t[\"TractionControlId\",\"TractionControl\"],\n",
    "\t[\"AutoPedestrianAlertingSoundId\",\"AutoPedestrianAlertingSound\"],\n",
    "\t[\"AutoPedestrianAlertingSoundId\",\"AutomaticPedestrianAlertingSound\"],\n",
    "\t[\"vpicVIN\",\"VIN\"]\n",
    "]\n",
    "\"\"\"\n",
    "\n",
    "vpicFieldToKeep = [\n",
    "\t\"ForwardCollisionWarning\",\n",
    "\t\"DynamicBrakeSupport\",\n",
    "\t#\"CrashImminentBraking\",\n",
    "\t\"CIB\",\n",
    "\t#\"PedestrianAutoEmergencyBraking\",\n",
    "\t\"PedestrianAutomaticEmergencyBraking\",\n",
    "\t#\"BlindSpotWarning\",\n",
    "\t\"BlindSpotMon\",\n",
    "\t\"BlindSpotIntervention\",\n",
    "\t\"LaneDepartureWarning\",\n",
    "\t#\"LaneKeepingAssistance\",\n",
    "\t\"LaneKeepSystem\",\n",
    "\t\"LaneCenteringAssistance\",\n",
    "\t#\"BackupCamera\",\n",
    "\t\"RearVisibilitySystem\",\n",
    "\t\"RearCrossTrafficAlert\",\n",
    "\t\"RearAutomaticEmergencyBraking\",\n",
    "\t\"ParkAssist\",\n",
    "\t\"DaytimeRunningLight\",\n",
    "\t#\"HeadlampLightSource\",\n",
    "\t\"LowerBeamHeadlampLightSource\",\n",
    "\t#\"SemiAutoHeadlampBeamSwitching\",\n",
    "\t\"SemiautomaticHeadlampBeamSwitching\",\n",
    "\t\"AdaptiveDrivingBeam\",\n",
    "\t\"AdaptiveCruiseControl\",\n",
    "\t#\"AntilockBrakeSystem\",\n",
    "\t\"ABS\",\n",
    "\t#\"ElectronicStabilityControl\",\n",
    "\t\"ESC\",\n",
    "\t\"TPMS\",\n",
    "\t\"TractionControl\",\n",
    "\t#\"AutoPedestrianAlertingSound\",\n",
    "\t\"AutomaticPedestrianAlertingSound\",\n",
    "\t\"VIN\",\n",
    "\t\"BodyClass\",\n",
    "\t\"Make\",\n",
    "\t\"MakeID\",\n",
    "\t\"Model\",\n",
    "\t\"ModelID\",\n",
    "\t\"ModelYear\",\n",
    "\t\"ErrorCode\",\n",
    "]\n",
    "\n"
   ]
  },
  {
   "cell_type": "code",
   "execution_count": 5,
   "metadata": {},
   "outputs": [],
   "source": [
    "#print(r.json()[\"Results\"][1].keys())\n",
    "#for x in vpicFieldToKeep:\n",
    "#    if x in r.json()[\"Results\"][1].keys():\n",
    "#        print(x,r.json()[\"Results\"][0][x])\n",
    "#    else:\n",
    "#        print(x,\"N/A\")"
   ]
  },
  {
   "cell_type": "code",
   "execution_count": 6,
   "metadata": {},
   "outputs": [
    {
     "name": "stdout",
     "output_type": "stream",
     "text": [
      "<class 'pandas.core.frame.DataFrame'>\n",
      "Int64Index: 11350911 entries, 2 to 12586700\n",
      "Data columns (total 32 columns):\n",
      " #   Column                               Dtype \n",
      "---  ------                               ----- \n",
      " 0   ORIG_VIN                             object\n",
      " 1   ForwardCollisionWarning              object\n",
      " 2   DynamicBrakeSupport                  object\n",
      " 3   CIB                                  object\n",
      " 4   PedestrianAutomaticEmergencyBraking  object\n",
      " 5   BlindSpotMon                         object\n",
      " 6   BlindSpotIntervention                object\n",
      " 7   LaneDepartureWarning                 object\n",
      " 8   LaneKeepSystem                       object\n",
      " 9   LaneCenteringAssistance              object\n",
      " 10  RearVisibilitySystem                 object\n",
      " 11  RearCrossTrafficAlert                object\n",
      " 12  RearAutomaticEmergencyBraking        object\n",
      " 13  ParkAssist                           object\n",
      " 14  DaytimeRunningLight                  object\n",
      " 15  LowerBeamHeadlampLightSource         object\n",
      " 16  SemiautomaticHeadlampBeamSwitching   object\n",
      " 17  AdaptiveDrivingBeam                  object\n",
      " 18  AdaptiveCruiseControl                object\n",
      " 19  ABS                                  object\n",
      " 20  ESC                                  object\n",
      " 21  TPMS                                 object\n",
      " 22  TractionControl                      object\n",
      " 23  AutomaticPedestrianAlertingSound     object\n",
      " 24  VIN                                  object\n",
      " 25  BodyClass                            object\n",
      " 26  Make                                 object\n",
      " 27  MakeID                               object\n",
      " 28  Model                                object\n",
      " 29  ModelID                              object\n",
      " 30  ModelYear                            object\n",
      " 31  ErrorCode                            object\n",
      "dtypes: object(32)\n",
      "memory usage: 2.8+ GB\n"
     ]
    }
   ],
   "source": [
    "vinDf = pd.read_csv(\"tmp/NYDMV-VIN.csv\")\n",
    "vinDf.columns = [\"entry\",\"ORIG_VIN\"]\n",
    "for x in vpicFieldToKeep:\n",
    "    vinDf[x] = None\n",
    "vinDf.set_index(\"entry\", inplace=True)\n",
    "vinDf.info(verbose=True)"
   ]
  },
  {
   "cell_type": "code",
   "execution_count": 15,
   "metadata": {},
   "outputs": [
    {
     "name": "stdout",
     "output_type": "stream",
     "text": [
      "Current index: 349968 0.0 %\r"
     ]
    }
   ],
   "source": [
    "#for idx in range(0,vinDf.shape[0],50):\n",
    "url = 'https://vpic.nhtsa.dot.gov/api/vehicles/DecodeVINValuesBatch/';\n",
    "vinStep = 48\n",
    "vinRecords = vinDf.shape[0]\n",
    "vinStart = 339648\n",
    "vinStop = 350000\n",
    "for idx in range(vinStart,vinStop,vinStep):\n",
    "    print(\"Current index:\",idx,round(idx/vinRecords,1),\"%\",end=\"\\r\")\n",
    "    if idx + vinStep < vinRecords:\n",
    "        vinsToCheck = vinDf.iloc[idx:idx+vinStep,0]\n",
    "    else:\n",
    "        vinsToCheck = vinDf.iloc[idx:,0]\n",
    "    vinsToCheckStr = vinsToCheck.to_csv(None,index=False,line_terminator=';',header=False)[:-1] # eliminate last ';'\n",
    "    #print(vinsToCheckStr)\n",
    "    post_fields = {'format': 'json', 'data':vinsToCheckStr};\n",
    "    r = requests.post(url, data=post_fields);\n",
    "    vpicResults = r.json()[\"Results\"]\n",
    "    # loop through resutls for every VIN\n",
    "\n",
    "    for resIdx in range(0,len(vpicResults)):\n",
    "        #rowLabel = vinDf.index[idx + resIdx]\n",
    "        for x in vpicFieldToKeep:\n",
    "            #vinDf.at[rowLabel,x] = vpicResults[resIdx][x]\n",
    "            vinDf.iat[idx + resIdx,vinDf.columns.get_loc(x)] = vpicResults[resIdx][x]\n",
    "            #print((rowLabel,x),(resIdx,x))\n",
    "    \n",
    "    #time.sleep(0.05)\n",
    "\n",
    "    "
   ]
  },
  {
   "cell_type": "code",
   "execution_count": 16,
   "metadata": {},
   "outputs": [],
   "source": [
    "#print(r.json()[\"Results\"])\n",
    "vinDf.to_csv(\"tmp/NYDMV-VIN-OUTPUT.csv\",index=True)"
   ]
  }
 ],
 "metadata": {
  "kernelspec": {
   "display_name": "Python 3.9.6 64-bit",
   "language": "python",
   "name": "python3"
  },
  "language_info": {
   "codemirror_mode": {
    "name": "ipython",
    "version": 3
   },
   "file_extension": ".py",
   "mimetype": "text/x-python",
   "name": "python",
   "nbconvert_exporter": "python",
   "pygments_lexer": "ipython3",
   "version": "3.9.6"
  },
  "orig_nbformat": 4,
  "vscode": {
   "interpreter": {
    "hash": "31f2aee4e71d21fbe5cf8b01ff0e069b9275f58929596ceb00d14d90e3e16cd6"
   }
  }
 },
 "nbformat": 4,
 "nbformat_minor": 2
}
