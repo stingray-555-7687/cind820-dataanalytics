{
 "cells": [
  {
   "cell_type": "code",
   "execution_count": 17,
   "metadata": {},
   "outputs": [],
   "source": [
    "# define libraries to use\n",
    "import pandas as pd\n",
    "import numpy as np\n",
    "from pathlib import Path\n",
    "import requests,json\n",
    "import matplotlib.pyplot as plt\n",
    "%matplotlib inline\n",
    "\n",
    "# variables that need initialization\n",
    "\n",
    "# NY state vehicle registrations\n",
    "nydmvDf = None\n",
    "\n"
   ]
  },
  {
   "cell_type": "code",
   "execution_count": 18,
   "metadata": {},
   "outputs": [],
   "source": [
    "nydmvDf = pd.read_csv(\"data/nydmv/nydmv.csv\",encoding = \"unicode_escape\", low_memory=False)"
   ]
  },
  {
   "cell_type": "markdown",
   "metadata": {},
   "source": [
    "# NYS DMV Data Verification"
   ]
  },
  {
   "cell_type": "code",
   "execution_count": 19,
   "metadata": {},
   "outputs": [
    {
     "name": "stdout",
     "output_type": "stream",
     "text": [
      "<class 'pandas.core.frame.DataFrame'>\n",
      "RangeIndex: 12586701 entries, 0 to 12586700\n",
      "Data columns (total 20 columns):\n",
      " #   Column                Non-Null Count     Dtype  \n",
      "---  ------                --------------     -----  \n",
      " 0   Record Type           12586701 non-null  object \n",
      " 1   VIN                   12586515 non-null  object \n",
      " 2   Registration Class    12586701 non-null  object \n",
      " 3   City                  12586701 non-null  object \n",
      " 4   State                 12586701 non-null  object \n",
      " 5   Zip                   12586701 non-null  int64  \n",
      " 6   County                12586701 non-null  object \n",
      " 7   Model Year            12586677 non-null  float64\n",
      " 8   Make                  12586691 non-null  object \n",
      " 9   Body Type             12586701 non-null  object \n",
      " 10  Fuel Type             12567068 non-null  object \n",
      " 11  Unladen Weight        9695237 non-null   float64\n",
      " 12  Maximum Gross Weight  2271426 non-null   float64\n",
      " 13  Passengers            221924 non-null    float64\n",
      " 14  Reg Valid Date        12586701 non-null  object \n",
      " 15  Reg Expiration Date   12391190 non-null  object \n",
      " 16  Color                 12208361 non-null  object \n",
      " 17  Scofflaw Indicator    12586701 non-null  object \n",
      " 18  Suspension Indicator  12586701 non-null  object \n",
      " 19  Revocation Indicator  12586701 non-null  object \n",
      "dtypes: float64(4), int64(1), object(15)\n",
      "memory usage: 1.9+ GB\n"
     ]
    }
   ],
   "source": [
    "nydmvDf.info(verbose=True,show_counts=True)"
   ]
  },
  {
   "cell_type": "code",
   "execution_count": 20,
   "metadata": {},
   "outputs": [
    {
     "name": "stdout",
     "output_type": "stream",
     "text": [
      "<class 'pandas.core.frame.DataFrame'>\n",
      "Int64Index: 11350911 entries, 2 to 12586700\n",
      "Data columns (total 11 columns):\n",
      " #   Column               Non-Null Count     Dtype  \n",
      "---  ------               --------------     -----  \n",
      " 0   VIN                  11350905 non-null  object \n",
      " 1   City                 11350911 non-null  object \n",
      " 2   State                11350911 non-null  object \n",
      " 3   Zip                  11350911 non-null  int64  \n",
      " 4   County               11350911 non-null  object \n",
      " 5   Model Year           11350911 non-null  float64\n",
      " 6   Make                 11350909 non-null  object \n",
      " 7   Body Type            11350911 non-null  object \n",
      " 8   Fuel Type            11350911 non-null  object \n",
      " 9   Reg Valid Date       11350911 non-null  object \n",
      " 10  Reg Expiration Date  11155400 non-null  object \n",
      "dtypes: float64(1), int64(1), object(9)\n",
      "memory usage: 1.0+ GB\n"
     ]
    }
   ],
   "source": [
    "nydmvDf = nydmvDf[nydmvDf[\"Record Type\"] == \"VEH\"]\n",
    "nydmvDf.drop(columns=[\"Record Type\",\"Registration Class\",\"Unladen Weight\",\"Maximum Gross Weight\",\"Passengers\",\"Color\",\"Scofflaw Indicator\",\"Suspension Indicator\",\"Revocation Indicator\"],inplace=True)\n",
    "nydmvDf.info(verbose=True,show_counts=True)"
   ]
  },
  {
   "cell_type": "code",
   "execution_count": 21,
   "metadata": {},
   "outputs": [
    {
     "name": "stdout",
     "output_type": "stream",
     "text": [
      "<class 'pandas.core.frame.DataFrame'>\n",
      "Int64Index: 11350911 entries, 2 to 12586700\n",
      "Data columns (total 11 columns):\n",
      " #   Column               Non-Null Count     Dtype   \n",
      "---  ------               --------------     -----   \n",
      " 0   VIN                  11350905 non-null  object  \n",
      " 1   City                 11350911 non-null  object  \n",
      " 2   State                11350911 non-null  category\n",
      " 3   Zip                  11350911 non-null  int64   \n",
      " 4   County               11350911 non-null  object  \n",
      " 5   Model Year           11350911 non-null  float64 \n",
      " 6   Make                 11350909 non-null  category\n",
      " 7   Body Type            11350911 non-null  category\n",
      " 8   Fuel Type            11350911 non-null  category\n",
      " 9   Reg Valid Date       11350911 non-null  object  \n",
      " 10  Reg Expiration Date  11155400 non-null  object  \n",
      "dtypes: category(4), float64(1), int64(1), object(5)\n",
      "memory usage: 747.2+ MB\n"
     ]
    }
   ],
   "source": [
    "# Set categorical variables\n",
    "nydmvDf[\"State\"] = nydmvDf[\"State\"].astype('category')\n",
    "nydmvDf[\"Make\"] = nydmvDf[\"Make\"].astype('category')\n",
    "nydmvDf[\"Body Type\"] = nydmvDf[\"Body Type\"].astype('category')\n",
    "nydmvDf[\"Fuel Type\"] = nydmvDf[\"Fuel Type\"].astype('category')\n",
    "nydmvDf.rename_axis(\"entry\",inplace=True)\n",
    "nydmvDf.info(verbose=True,show_counts=True)"
   ]
  },
  {
   "cell_type": "code",
   "execution_count": 22,
   "metadata": {},
   "outputs": [
    {
     "data": {
      "text/html": [
       "<div>\n",
       "<style scoped>\n",
       "    .dataframe tbody tr th:only-of-type {\n",
       "        vertical-align: middle;\n",
       "    }\n",
       "\n",
       "    .dataframe tbody tr th {\n",
       "        vertical-align: top;\n",
       "    }\n",
       "\n",
       "    .dataframe thead th {\n",
       "        text-align: right;\n",
       "    }\n",
       "</style>\n",
       "<table border=\"1\" class=\"dataframe\">\n",
       "  <thead>\n",
       "    <tr style=\"text-align: right;\">\n",
       "      <th></th>\n",
       "      <th>Zip</th>\n",
       "      <th>Model Year</th>\n",
       "    </tr>\n",
       "  </thead>\n",
       "  <tbody>\n",
       "    <tr>\n",
       "      <th>count</th>\n",
       "      <td>1.135091e+07</td>\n",
       "      <td>1.135091e+07</td>\n",
       "    </tr>\n",
       "    <tr>\n",
       "      <th>mean</th>\n",
       "      <td>1.270068e+04</td>\n",
       "      <td>2.012962e+03</td>\n",
       "    </tr>\n",
       "    <tr>\n",
       "      <th>std</th>\n",
       "      <td>4.961370e+03</td>\n",
       "      <td>9.149883e+00</td>\n",
       "    </tr>\n",
       "    <tr>\n",
       "      <th>min</th>\n",
       "      <td>0.000000e+00</td>\n",
       "      <td>1.900000e+03</td>\n",
       "    </tr>\n",
       "    <tr>\n",
       "      <th>25%</th>\n",
       "      <td>1.123600e+04</td>\n",
       "      <td>2.009000e+03</td>\n",
       "    </tr>\n",
       "    <tr>\n",
       "      <th>50%</th>\n",
       "      <td>1.195000e+04</td>\n",
       "      <td>2.015000e+03</td>\n",
       "    </tr>\n",
       "    <tr>\n",
       "      <th>75%</th>\n",
       "      <td>1.350100e+04</td>\n",
       "      <td>2.019000e+03</td>\n",
       "    </tr>\n",
       "    <tr>\n",
       "      <th>max</th>\n",
       "      <td>9.999900e+04</td>\n",
       "      <td>2.024000e+03</td>\n",
       "    </tr>\n",
       "  </tbody>\n",
       "</table>\n",
       "</div>"
      ],
      "text/plain": [
       "                Zip    Model Year\n",
       "count  1.135091e+07  1.135091e+07\n",
       "mean   1.270068e+04  2.012962e+03\n",
       "std    4.961370e+03  9.149883e+00\n",
       "min    0.000000e+00  1.900000e+03\n",
       "25%    1.123600e+04  2.009000e+03\n",
       "50%    1.195000e+04  2.015000e+03\n",
       "75%    1.350100e+04  2.019000e+03\n",
       "max    9.999900e+04  2.024000e+03"
      ]
     },
     "execution_count": 22,
     "metadata": {},
     "output_type": "execute_result"
    }
   ],
   "source": [
    "nydmvDf.describe()"
   ]
  },
  {
   "cell_type": "code",
   "execution_count": 23,
   "metadata": {},
   "outputs": [
    {
     "data": {
      "text/plain": [
       "VIN                         6\n",
       "City                        0\n",
       "State                       0\n",
       "Zip                         0\n",
       "County                      0\n",
       "Model Year                  0\n",
       "Make                        2\n",
       "Body Type                   0\n",
       "Fuel Type                   0\n",
       "Reg Valid Date              0\n",
       "Reg Expiration Date    195511\n",
       "dtype: int64"
      ]
     },
     "execution_count": 23,
     "metadata": {},
     "output_type": "execute_result"
    }
   ],
   "source": [
    "nydmvDf.isna().sum()\n"
   ]
  },
  {
   "cell_type": "code",
   "execution_count": 24,
   "metadata": {},
   "outputs": [
    {
     "data": {
      "text/html": [
       "<div>\n",
       "<style scoped>\n",
       "    .dataframe tbody tr th:only-of-type {\n",
       "        vertical-align: middle;\n",
       "    }\n",
       "\n",
       "    .dataframe tbody tr th {\n",
       "        vertical-align: top;\n",
       "    }\n",
       "\n",
       "    .dataframe thead th {\n",
       "        text-align: right;\n",
       "    }\n",
       "</style>\n",
       "<table border=\"1\" class=\"dataframe\">\n",
       "  <thead>\n",
       "    <tr style=\"text-align: right;\">\n",
       "      <th></th>\n",
       "      <th>VIN</th>\n",
       "      <th>City</th>\n",
       "      <th>State</th>\n",
       "      <th>Zip</th>\n",
       "      <th>County</th>\n",
       "      <th>Model Year</th>\n",
       "      <th>Make</th>\n",
       "      <th>Body Type</th>\n",
       "      <th>Fuel Type</th>\n",
       "      <th>Reg Valid Date</th>\n",
       "      <th>Reg Expiration Date</th>\n",
       "    </tr>\n",
       "    <tr>\n",
       "      <th>entry</th>\n",
       "      <th></th>\n",
       "      <th></th>\n",
       "      <th></th>\n",
       "      <th></th>\n",
       "      <th></th>\n",
       "      <th></th>\n",
       "      <th></th>\n",
       "      <th></th>\n",
       "      <th></th>\n",
       "      <th></th>\n",
       "      <th></th>\n",
       "    </tr>\n",
       "  </thead>\n",
       "  <tbody>\n",
       "    <tr>\n",
       "      <th>12586517</th>\n",
       "      <td>NaN</td>\n",
       "      <td>SARATOGA SPRNG</td>\n",
       "      <td>NY</td>\n",
       "      <td>12866</td>\n",
       "      <td>SARATOGA</td>\n",
       "      <td>1908.0</td>\n",
       "      <td>FORD</td>\n",
       "      <td>CONV</td>\n",
       "      <td>GAS</td>\n",
       "      <td>09/16/2022</td>\n",
       "      <td>09/30/2024</td>\n",
       "    </tr>\n",
       "    <tr>\n",
       "      <th>12586521</th>\n",
       "      <td>NaN</td>\n",
       "      <td>BUFFALO</td>\n",
       "      <td>NY</td>\n",
       "      <td>14216</td>\n",
       "      <td>ERIE</td>\n",
       "      <td>1966.0</td>\n",
       "      <td>FORD</td>\n",
       "      <td>2DSD</td>\n",
       "      <td>GAS</td>\n",
       "      <td>08/10/2022</td>\n",
       "      <td>09/20/2023</td>\n",
       "    </tr>\n",
       "    <tr>\n",
       "      <th>12586534</th>\n",
       "      <td>NaN</td>\n",
       "      <td>STERLING</td>\n",
       "      <td>NY</td>\n",
       "      <td>13156</td>\n",
       "      <td>CAYUGA</td>\n",
       "      <td>1966.0</td>\n",
       "      <td>FORD</td>\n",
       "      <td>PICK</td>\n",
       "      <td>GAS</td>\n",
       "      <td>06/14/2022</td>\n",
       "      <td>06/16/2023</td>\n",
       "    </tr>\n",
       "    <tr>\n",
       "      <th>12586572</th>\n",
       "      <td>NaN</td>\n",
       "      <td>RYE</td>\n",
       "      <td>NY</td>\n",
       "      <td>10580</td>\n",
       "      <td>WESTCHESTER</td>\n",
       "      <td>1967.0</td>\n",
       "      <td>FORD</td>\n",
       "      <td>2DSD</td>\n",
       "      <td>GAS</td>\n",
       "      <td>02/04/2022</td>\n",
       "      <td>02/28/2024</td>\n",
       "    </tr>\n",
       "    <tr>\n",
       "      <th>12586644</th>\n",
       "      <td>NaN</td>\n",
       "      <td>ORCHARD PARK</td>\n",
       "      <td>NY</td>\n",
       "      <td>14127</td>\n",
       "      <td>ERIE</td>\n",
       "      <td>1948.0</td>\n",
       "      <td>PLAYB</td>\n",
       "      <td>2DSD</td>\n",
       "      <td>GAS</td>\n",
       "      <td>03/14/2021</td>\n",
       "      <td>05/28/2023</td>\n",
       "    </tr>\n",
       "    <tr>\n",
       "      <th>12586700</th>\n",
       "      <td>NaN</td>\n",
       "      <td>COPAKE</td>\n",
       "      <td>NY</td>\n",
       "      <td>12516</td>\n",
       "      <td>COLUMBIA</td>\n",
       "      <td>1968.0</td>\n",
       "      <td>STEVE</td>\n",
       "      <td>TRLR</td>\n",
       "      <td>NONE</td>\n",
       "      <td>08/01/2014</td>\n",
       "      <td>NaN</td>\n",
       "    </tr>\n",
       "  </tbody>\n",
       "</table>\n",
       "</div>"
      ],
      "text/plain": [
       "          VIN            City State    Zip       County  Model Year   Make  \\\n",
       "entry                                                                        \n",
       "12586517  NaN  SARATOGA SPRNG    NY  12866     SARATOGA      1908.0   FORD   \n",
       "12586521  NaN         BUFFALO    NY  14216         ERIE      1966.0   FORD   \n",
       "12586534  NaN        STERLING    NY  13156       CAYUGA      1966.0   FORD   \n",
       "12586572  NaN             RYE    NY  10580  WESTCHESTER      1967.0   FORD   \n",
       "12586644  NaN    ORCHARD PARK    NY  14127         ERIE      1948.0  PLAYB   \n",
       "12586700  NaN          COPAKE    NY  12516     COLUMBIA      1968.0  STEVE   \n",
       "\n",
       "         Body Type Fuel Type Reg Valid Date Reg Expiration Date  \n",
       "entry                                                            \n",
       "12586517      CONV       GAS     09/16/2022          09/30/2024  \n",
       "12586521      2DSD       GAS     08/10/2022          09/20/2023  \n",
       "12586534      PICK       GAS     06/14/2022          06/16/2023  \n",
       "12586572      2DSD       GAS     02/04/2022          02/28/2024  \n",
       "12586644      2DSD       GAS     03/14/2021          05/28/2023  \n",
       "12586700      TRLR      NONE     08/01/2014                 NaN  "
      ]
     },
     "execution_count": 24,
     "metadata": {},
     "output_type": "execute_result"
    }
   ],
   "source": [
    "nydmvDf[nydmvDf[\"VIN\"].isna()]"
   ]
  },
  {
   "cell_type": "code",
   "execution_count": 25,
   "metadata": {},
   "outputs": [
    {
     "data": {
      "text/html": [
       "<div>\n",
       "<style scoped>\n",
       "    .dataframe tbody tr th:only-of-type {\n",
       "        vertical-align: middle;\n",
       "    }\n",
       "\n",
       "    .dataframe tbody tr th {\n",
       "        vertical-align: top;\n",
       "    }\n",
       "\n",
       "    .dataframe thead th {\n",
       "        text-align: right;\n",
       "    }\n",
       "</style>\n",
       "<table border=\"1\" class=\"dataframe\">\n",
       "  <thead>\n",
       "    <tr style=\"text-align: right;\">\n",
       "      <th></th>\n",
       "      <th>VIN</th>\n",
       "      <th>City</th>\n",
       "      <th>State</th>\n",
       "      <th>Zip</th>\n",
       "      <th>County</th>\n",
       "      <th>Model Year</th>\n",
       "      <th>Make</th>\n",
       "      <th>Body Type</th>\n",
       "      <th>Fuel Type</th>\n",
       "      <th>Reg Valid Date</th>\n",
       "      <th>Reg Expiration Date</th>\n",
       "    </tr>\n",
       "    <tr>\n",
       "      <th>entry</th>\n",
       "      <th></th>\n",
       "      <th></th>\n",
       "      <th></th>\n",
       "      <th></th>\n",
       "      <th></th>\n",
       "      <th></th>\n",
       "      <th></th>\n",
       "      <th></th>\n",
       "      <th></th>\n",
       "      <th></th>\n",
       "      <th></th>\n",
       "    </tr>\n",
       "  </thead>\n",
       "  <tbody>\n",
       "    <tr>\n",
       "      <th>10020191</th>\n",
       "      <td>TZE367V100330</td>\n",
       "      <td>SOUTHAMPTON</td>\n",
       "      <td>NY</td>\n",
       "      <td>11968</td>\n",
       "      <td>SUFFOLK</td>\n",
       "      <td>1977.0</td>\n",
       "      <td>NaN</td>\n",
       "      <td>H/WH</td>\n",
       "      <td>GAS</td>\n",
       "      <td>11/17/2020</td>\n",
       "      <td>11/16/2022</td>\n",
       "    </tr>\n",
       "    <tr>\n",
       "      <th>10062339</th>\n",
       "      <td>SMT920K11DT575348</td>\n",
       "      <td>WOODSIDE</td>\n",
       "      <td>NY</td>\n",
       "      <td>11377</td>\n",
       "      <td>QUEENS</td>\n",
       "      <td>2013.0</td>\n",
       "      <td>NaN</td>\n",
       "      <td>MCY</td>\n",
       "      <td>GAS</td>\n",
       "      <td>04/27/2022</td>\n",
       "      <td>04/30/2023</td>\n",
       "    </tr>\n",
       "  </tbody>\n",
       "</table>\n",
       "</div>"
      ],
      "text/plain": [
       "                        VIN         City State    Zip   County  Model Year  \\\n",
       "entry                                                                        \n",
       "10020191      TZE367V100330  SOUTHAMPTON    NY  11968  SUFFOLK      1977.0   \n",
       "10062339  SMT920K11DT575348     WOODSIDE    NY  11377   QUEENS      2013.0   \n",
       "\n",
       "         Make Body Type Fuel Type Reg Valid Date Reg Expiration Date  \n",
       "entry                                                                 \n",
       "10020191  NaN      H/WH       GAS     11/17/2020          11/16/2022  \n",
       "10062339  NaN       MCY       GAS     04/27/2022          04/30/2023  "
      ]
     },
     "execution_count": 25,
     "metadata": {},
     "output_type": "execute_result"
    }
   ],
   "source": [
    "nydmvDf[nydmvDf[\"Make\"].isna()]"
   ]
  },
  {
   "cell_type": "code",
   "execution_count": 26,
   "metadata": {},
   "outputs": [],
   "source": [
    "#nydmvDf.dropna(axis=1,subset=[\"VIN\",\"Make\"])"
   ]
  },
  {
   "cell_type": "code",
   "execution_count": 27,
   "metadata": {},
   "outputs": [
    {
     "name": "stdout",
     "output_type": "stream",
     "text": [
      "Vehicles reg in NY State =  98.72594367095293 %\n"
     ]
    }
   ],
   "source": [
    "print(\"Vehicles reg in NY State = \",nydmvDf[\"State\"].value_counts()[\"NY\"]/len(nydmvDf)*100,\"%\")"
   ]
  },
  {
   "cell_type": "code",
   "execution_count": 36,
   "metadata": {},
   "outputs": [
    {
     "name": "stdout",
     "output_type": "stream",
     "text": [
      ",Body Type\n",
      "SUBN,5458792\n",
      "4DSD,2995213\n",
      "PICK,1272846\n",
      "2DSD,383798\n",
      "MCY,330966\n",
      "VAN,232900\n",
      "CONV,170976\n",
      "DUMP,85000\n",
      "ATV,83806\n",
      "BUS,59954\n",
      "UTIL,43525\n",
      "TRAC,40335\n",
      "H/WH,25592\n",
      "DELV,25418\n",
      "SEDN,22263\n",
      "FLAT,17578\n",
      "TRLR,15973\n",
      "P/SH,9726\n",
      "MOPD,9517\n",
      "STAK,9259\n",
      "TANK,8639\n",
      "TAXI,7492\n",
      "TOW,6814\n",
      "REFG,5110\n",
      "LTRL,4501\n",
      "RBM,4497\n",
      "CMIX,2601\n",
      "RD/S,2495\n",
      "TR/C,2282\n",
      "SEMI,2017\n",
      "AMBU,1501\n",
      "FIRE,1134\n",
      "LSV,1118\n",
      "S/SP,949\n",
      "T/CR,804\n",
      "HRSE,780\n",
      "SN/P,720\n",
      "SWT,690\n",
      "EMVR,599\n",
      "LIM,500\n",
      "W/DR,421\n",
      "DCOM,337\n",
      "H/TR,260\n",
      "W/SR,245\n",
      "????,241\n",
      "CUST,219\n",
      "R/RD,214\n",
      "FPM,80\n",
      "MCC,64\n",
      "LSVT,37\n",
      "H/IN,36\n",
      "BOAT,26\n",
      "TR/E,18\n",
      "LOCO,18\n",
      "RPLC,9\n",
      "TRAV,4\n",
      "POLE,2\n",
      "\n"
     ]
    }
   ],
   "source": [
    "print(nydmvDf[\"Body Type\"].value_counts().sort_values(ascending=False).to_csv(None))"
   ]
  },
  {
   "cell_type": "code",
   "execution_count": 28,
   "metadata": {},
   "outputs": [
    {
     "data": {
      "image/png": "[encoded data removed]",
      "text/plain": [
       "<Figure size 640x480 with 1 Axes>"
      ]
     },
     "metadata": {},
     "output_type": "display_data"
    }
   ],
   "source": [
    "ax = nydmvDf.boxplot(column=\"Model Year\")\n",
    "_ = ax.set_title(\"NY State Registered Vehicle Model Year\")"
   ]
  },
  {
   "cell_type": "code",
   "execution_count": 29,
   "metadata": {},
   "outputs": [
    {
     "data": {
      "image/png": "[encoded data removed]",
      "text/plain": [
       "<Figure size 640x480 with 1 Axes>"
      ]
     },
     "metadata": {},
     "output_type": "display_data"
    }
   ],
   "source": [
    "_ = nydmvDf[\"Model Year\"].plot.hist(bins=40,title=\"NY State Vehicle Model Year Distribution\")"
   ]
  },
  {
   "cell_type": "code",
   "execution_count": 30,
   "metadata": {},
   "outputs": [
    {
     "data": {
      "text/html": [
       "<div>\n",
       "<style scoped>\n",
       "    .dataframe tbody tr th:only-of-type {\n",
       "        vertical-align: middle;\n",
       "    }\n",
       "\n",
       "    .dataframe tbody tr th {\n",
       "        vertical-align: top;\n",
       "    }\n",
       "\n",
       "    .dataframe thead th {\n",
       "        text-align: right;\n",
       "    }\n",
       "</style>\n",
       "<table border=\"1\" class=\"dataframe\">\n",
       "  <thead>\n",
       "    <tr style=\"text-align: right;\">\n",
       "      <th></th>\n",
       "      <th>TotalVehicles</th>\n",
       "    </tr>\n",
       "  </thead>\n",
       "  <tbody>\n",
       "    <tr>\n",
       "      <th>TOYOT</th>\n",
       "      <td>1287162</td>\n",
       "    </tr>\n",
       "    <tr>\n",
       "      <th>HONDA</th>\n",
       "      <td>1237490</td>\n",
       "    </tr>\n",
       "    <tr>\n",
       "      <th>CHEVR</th>\n",
       "      <td>1198927</td>\n",
       "    </tr>\n",
       "    <tr>\n",
       "      <th>FORD</th>\n",
       "      <td>1184186</td>\n",
       "    </tr>\n",
       "    <tr>\n",
       "      <th>NISSA</th>\n",
       "      <td>687168</td>\n",
       "    </tr>\n",
       "    <tr>\n",
       "      <th>JEEP</th>\n",
       "      <td>609702</td>\n",
       "    </tr>\n",
       "    <tr>\n",
       "      <th>SUBAR</th>\n",
       "      <td>510668</td>\n",
       "    </tr>\n",
       "    <tr>\n",
       "      <th>HYUND</th>\n",
       "      <td>412515</td>\n",
       "    </tr>\n",
       "    <tr>\n",
       "      <th>DODGE</th>\n",
       "      <td>312955</td>\n",
       "    </tr>\n",
       "    <tr>\n",
       "      <th>BMW</th>\n",
       "      <td>291507</td>\n",
       "    </tr>\n",
       "    <tr>\n",
       "      <th>GMC</th>\n",
       "      <td>274571</td>\n",
       "    </tr>\n",
       "    <tr>\n",
       "      <th>ME/BE</th>\n",
       "      <td>270206</td>\n",
       "    </tr>\n",
       "    <tr>\n",
       "      <th>KIA</th>\n",
       "      <td>252353</td>\n",
       "    </tr>\n",
       "    <tr>\n",
       "      <th>VOLKS</th>\n",
       "      <td>219493</td>\n",
       "    </tr>\n",
       "    <tr>\n",
       "      <th>RAM</th>\n",
       "      <td>206301</td>\n",
       "    </tr>\n",
       "    <tr>\n",
       "      <th>LEXUS</th>\n",
       "      <td>199966</td>\n",
       "    </tr>\n",
       "    <tr>\n",
       "      <th>MAZDA</th>\n",
       "      <td>191937</td>\n",
       "    </tr>\n",
       "    <tr>\n",
       "      <th>ACURA</th>\n",
       "      <td>163935</td>\n",
       "    </tr>\n",
       "    <tr>\n",
       "      <th>AUDI</th>\n",
       "      <td>139619</td>\n",
       "    </tr>\n",
       "    <tr>\n",
       "      <th>HA/DA</th>\n",
       "      <td>131815</td>\n",
       "    </tr>\n",
       "    <tr>\n",
       "      <th>Others</th>\n",
       "      <td>1568435</td>\n",
       "    </tr>\n",
       "  </tbody>\n",
       "</table>\n",
       "</div>"
      ],
      "text/plain": [
       "        TotalVehicles\n",
       "TOYOT         1287162\n",
       "HONDA         1237490\n",
       "CHEVR         1198927\n",
       "FORD          1184186\n",
       "NISSA          687168\n",
       "JEEP           609702\n",
       "SUBAR          510668\n",
       "HYUND          412515\n",
       "DODGE          312955\n",
       "BMW            291507\n",
       "GMC            274571\n",
       "ME/BE          270206\n",
       "KIA            252353\n",
       "VOLKS          219493\n",
       "RAM            206301\n",
       "LEXUS          199966\n",
       "MAZDA          191937\n",
       "ACURA          163935\n",
       "AUDI           139619\n",
       "HA/DA          131815\n",
       "Others        1568435"
      ]
     },
     "execution_count": 30,
     "metadata": {},
     "output_type": "execute_result"
    }
   ],
   "source": [
    "# Vehicle Make \n",
    "# accidents harmul events\n",
    "nysVehMake = pd.DataFrame(nydmvDf[\"Make\"].value_counts().sort_values(ascending=False)).head(20)\n",
    "nysVehMake.columns = [\"TotalVehicles\"]\n",
    "#nysVehMake[\"Make\"] = vehModDf.index.values\n",
    "#nysVehMake.set_index(\"Make\",inplace=True)\n",
    "totalNYVeh = len(nydmvDf)\n",
    "nysVehMake.loc[\"Others\"] = [totalNYVeh - nysVehMake[\"TotalVehicles\"].sum()]\n",
    "nysVehMake"
   ]
  },
  {
   "cell_type": "code",
   "execution_count": 31,
   "metadata": {},
   "outputs": [
    {
     "data": {
      "image/png": "[encoded data removed]",
      "text/plain": [
       "<Figure size 640x480 with 1 Axes>"
      ]
     },
     "metadata": {},
     "output_type": "display_data"
    }
   ],
   "source": [
    "ax = nysVehMake[\"TotalVehicles\"].plot.barh(title = \"Makes of Vehicles Registerd in NYS\")\n",
    "#nysVehMake[\"TotalVehicles\"]"
   ]
  },
  {
   "cell_type": "code",
   "execution_count": 32,
   "metadata": {},
   "outputs": [],
   "source": [
    "#nydmvDf[\"VIN\"].to_csv(\"tmp/NYDMV-VIN.csv\")"
   ]
  }
 ],
 "metadata": {
  "kernelspec": {
   "display_name": "Python 3.9.6 64-bit",
   "language": "python",
   "name": "python3"
  },
  "language_info": {
   "codemirror_mode": {
    "name": "ipython",
    "version": 3
   },
   "file_extension": ".py",
   "mimetype": "text/x-python",
   "name": "python",
   "nbconvert_exporter": "python",
   "pygments_lexer": "ipython3",
   "version": "3.9.6"
  },
  "orig_nbformat": 4,
  "vscode": {
   "interpreter": {
    "hash": "31f2aee4e71d21fbe5cf8b01ff0e069b9275f58929596ceb00d14d90e3e16cd6"
   }
  }
 },
 "nbformat": 4,
 "nbformat_minor": 2
}
