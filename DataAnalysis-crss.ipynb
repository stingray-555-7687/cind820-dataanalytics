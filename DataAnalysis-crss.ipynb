{
 "cells": [
  {
   "cell_type": "code",
   "execution_count": null,
   "metadata": {},
   "outputs": [],
   "source": [
    "# define libraries to use\n",
    "import pandas as pd\n",
    "import numpy as np\n",
    "from pathlib import Path\n",
    "import requests,json\n",
    "import matplotlib.pyplot as plt\n",
    "import math\n",
    "\n",
    "# variables that need initialization\n",
    "\n",
    "# dict of dataframes\n",
    "\n",
    "# CRRS\n",
    "crssDf = {}\n",
    "# NY state vehicle registrations\n",
    "#nydmvDf = None\n",
    "\n",
    "# Main Table\n",
    "farsMainTbl = \"accident\"\n",
    "farsKey = \"CASENUM\"\n",
    "crssMainTbl = \"accident\"\n",
    "crssKey = \"CASENUM\"\n",
    "\n",
    "def bulkreadcsv2df(myFolder, printProgress = False, lowMemory = True):\n",
    "    \"\"\"read each csv file in a folder into a df, each df added to as a separate dictionary entry with index a filename\"\"\"\n",
    "    p = Path(myFolder)\n",
    "    resDct = {}\n",
    "    fileList = list(p.glob(\"*.CSV\")) + list(p.glob(\"*.csv\"))\n",
    "    # sort file list based on stem of filename in lowercase\n",
    "    fileList = sorted(fileList,key=lambda ppath: str(ppath.stem).lower())\n",
    "    for myFile in fileList:\n",
    "        dfName = myFile.stem.lower()\n",
    "        if printProgress:\n",
    "            print(\"Reading \",dfName)\n",
    "        resDct[dfName] = pd.read_csv(str(myFile),encoding = 'unicode_escape', low_memory=lowMemory)\n",
    "\n",
    "    return resDct\n",
    "\n"
   ]
  },
  {
   "cell_type": "code",
   "execution_count": null,
   "metadata": {},
   "outputs": [],
   "source": [
    "#crssDf = bulkreadcsv2df(\"data/FARS2020NationalCSV/\", lowMemory= False)\n",
    "crssDf = bulkreadcsv2df(\"data/CRSS2020CSV/\", lowMemory= False)\n",
    "#crssDf = bulkreadcsv2df(\"data/CRSS2016CSV/\", lowMemory= False)\n",
    "#nydmvDf = pd.read_csv(\"data/nydmv/nydmv.csv\",encoding = \"unicode_escape\", low_memory=False)\n",
    "\n",
    "#print(\"FARS Tables = \",list(crssDf.keys()))\n",
    "print(\"CRSS Tables = \",list(crssDf.keys()))"
   ]
  },
  {
   "cell_type": "code",
   "execution_count": null,
   "metadata": {},
   "outputs": [],
   "source": [
    "print(\"                               C    R    S    S                                                           \")\n",
    "for idx in crssDf.keys():\n",
    "    print(\"==========================================================================================================\")\n",
    "    print(\"=                                                                                                        =\")\n",
    "    print(\"=\",idx)\n",
    "    crssDf[idx].info(verbose=True,show_counts=True)\n",
    "    print(\"=                                                                                                        =\")\n",
    "    print(\"==========================================================================================================\")\n"
   ]
  },
  {
   "cell_type": "markdown",
   "metadata": {},
   "source": [
    "# CRSS Table Cleanup to reduce to columns of interest and remove redundant data"
   ]
  },
  {
   "cell_type": "markdown",
   "metadata": {},
   "source": [
    "## Create Categorical variables based on data\n",
    "\n",
    "Pandas categorical data type not used so as to keep the original category codes"
   ]
  },
  {
   "cell_type": "code",
   "execution_count": null,
   "metadata": {},
   "outputs": [],
   "source": [
    "# crssCategories will hold the categorical mappings for categorical colums\n",
    "\n",
    "crssCategories = {}\n",
    "\n",
    "crssCategoricalColumns = {\n",
    "    \"accident\" : [\n",
    "        [\"STRATUM\",\"STRATUMNAME\"],\n",
    "        [\"REGION\",\"REGIONNAME\"],\n",
    "        [\"MONTH\",\"MONTHNAME\"],\n",
    "        [\"DAY_WEEK\",\"DAY_WEEKNAME\"],\n",
    "        [\"URBANICITY\",\"URBANICITYNAME\"],\n",
    "        [\"HARM_EV\",\"HARM_EVNAME\"],\n",
    "        [\"MAN_COLL\",\"MAN_COLLNAME\"],\n",
    "        [\"ALCOHOL\",\"ALCOHOLNAME\"],\n",
    "        [\"MAX_SEV\",\"MAX_SEVNAME\"],\n",
    "        [\"LGT_COND\",\"LGT_CONDNAME\"],\n",
    "        [\"WEATHER\",\"WEATHERNAME\"],\n",
    "        [\"LGTCON_IM\",\"LGTCON_IMNAME\"],\n",
    "        [\"WEATHR_IM\",\"WEATHR_IMNAME\"],\n",
    "        [\"MAXSEV_IM\",\"MAXSEV_IMNAME\"],\n",
    "        [\"ALCHL_IM\",\"ALCHL_IMNAME\"],\n",
    "    ],\n",
    "    \"vehicle\" : [\n",
    "        [\"NUMOCCS\",\"NUMOCCSNAME\"],\n",
    "        [\"MAKE\",\"MAKENAME\"],\n",
    "        [\"MAK_MOD\",\"MAK_MODNAME\"],\n",
    "        [\"BODY_TYP\",\"BODY_TYPNAME\"],\n",
    "        [\"BDYTYP_IM\",\"BDYTYP_IMNAME\"],\n",
    "        [\"TOW_VEH\",\"TOW_VEHNAME\"],\n",
    "        [\"TRAV_SP\",\"TRAV_SPNAME\"],\n",
    "        [\"ROLLOVER\",\"ROLLOVERNAME\"],\n",
    "        [\"M_HARM\",\"M_HARMNAME\"],\n",
    "        [\"DR_PRES\",\"DR_PRESNAME\"],\n",
    "        #[\"L_STATUS\",\"L_STATUSNAME\"],\n",
    "        #[\"L_TYPE\",\"L_TYPENAME\"],\n",
    "        #[\"PREV_ACC\",\"PREV_ACCNAME\"],\n",
    "        #[\"PREV_DWI\",\"PREV_DWINAME\"],\n",
    "        #[\"PREV_SPD\",\"PREV_SPDNAME\"],\n",
    "        #[\"PREV_OTH\",\"PREV_OTHNAME\"],\n",
    "        [\"SPEEDREL\",\"SPEEDRELNAME\"],\n",
    "        [\"VSURCOND\",\"VSURCONDNAME\"],\n",
    "        [\"P_CRASH2\",\"P_CRASH2NAME\"],\n",
    "        [\"ACC_TYPE\",\"ACC_TYPENAME\"],\n",
    "        [\"VEH_ALCH\",\"VEH_ALCHNAME\"],\n",
    "        [\"V_ALCH_IM\",\"V_ALCH_IMNAME\"],\n",
    "        [\"VPICMAKE\",\"VPICMAKENAME\"],\n",
    "        [\"VPICMODEL\",\"VPICMODELNAME\"],\n",
    "        [\"VPICBODYCLASS\",\"VPICBODYCLASSNAME\"],\n",
    "    ],\n",
    "    \"person\" : [\n",
    "        [\"SEX\",\"SEXNAME\"],\n",
    "        [\"SEX_IM\",\"SEX_IMNAME\"],\n",
    "        [\"PER_TYP\",\"PER_TYPNAME\"],\n",
    "        [\"INJ_SEV\",\"INJ_SEVNAME\"],\n",
    "        [\"INJSEV_IM\",\"INJSEV_IMNAME\"],\n",
    "        [\"SEAT_POS\",\"SEAT_POSNAME\"],\n",
    "        [\"REST_USE\",\"REST_USENAME\"],\n",
    "        [\"AIR_BAG\",\"AIR_BAGNAME\"],\n",
    "        [\"EJECTION\",\"EJECTIONNAME\"],\n",
    "        [\"EJECT_IM\",\"EJECT_IMNAME\"],\n",
    "        [\"LOCATION\",\"LOCATIONNAME\"],\n",
    "        [\"DRINKING\",\"DRINKINGNAME\"],\n",
    "        [\"PERALCH_IM\",\"PERALCH_IMNAME\"],\n",
    "    ],\n",
    "    \"parkwork\" : [\n",
    "\t\t[\"PNUMOCCS\",\"PNUMOCCSNAME\"],\n",
    "\t\t[\"PTYPE\",\"PTYPENAME\"],\n",
    "\t\t[\"PMAKE\",\"PMAKENAME\"],\n",
    "\t\t[\"PMAK_MOD\",\"PBODYTYP\"],\n",
    "\t\t[\"PTRAILER\",\"PTRAILERNAME\"],\n",
    "\t\t[\"PM_HARM\",\"PM_HARMNAME\"],\n",
    "    ],\n",
    "    \"pbtype\" : [\n",
    "        [\"PBPTYPE\",\"PBPTYPENAME\"],\n",
    "        [\"PBAGE\",\"PBAGENAME\"],\n",
    "        [\"PBSEX\",\"PBSEXNAME\"],\n",
    "    ],\n",
    "    \"vevent\" : [\n",
    "        [\"AOI1\",\"AOI1NAME\"],\n",
    "        [\"AOI2\",\"AOI2NAME\"],\n",
    "    ],\n",
    "    \"crashrf\" : [\n",
    "        [\"CRASHRF\",\"CRASHRFNAME\"],\n",
    "    ],\n",
    "    \"driverrf\" : [\n",
    "        [\"DRIVERRF\",\"DRIVERRFNAME\"],\n",
    "    ],\n",
    "    \"distract\" : [\n",
    "        [\"DRDISTRACT\",\"DRDISTRACTNAME\"],\n",
    "    ],\n",
    "    \"drimpair\" : [\n",
    "        [\"DRIMPAIR\", \"DRIMPAIRNAME\"],\n",
    "    ],\n",
    "    \"factor\" : [\n",
    "        [\"VEHICLECC\",\"VEHICLECCNAME\"],\n",
    "    ],\n",
    "    \"vision\" : [\n",
    "        [\"VISION\", \"VISIONNAME\"],\n",
    "    ],\n",
    "    \"nmcrash\" : [\n",
    "        [\"NMCC\",\"NMCCNAME\"],\n",
    "    ],\n",
    "    \"vpicdecode\" : [\n",
    "        [\"VehicleTypeId\",\"VehicleType\"],\n",
    "\t\t[\"ManufacturerFullNameId\",\"ManufacturerFullName\"],\n",
    "\t\t[\"MakeId\",\"Make\"],\n",
    "\t\t[\"ModelId\",\"Model\"],\n",
    "\t\t[\"BodyClassId\",\"BodyClass\"],\n",
    "        [\"GrossVehicleWeightRatingFromId\",\"GrossVehicleWeightRatingFrom\"],\n",
    "        [\"GrossVehicleWeightRatingToId\",\"GrossVehicleWeightRatingTo\"],\n",
    "        # safety features\n",
    "\t\t[\"ForwardCollisionWarningId\",\"ForwardCollisionWarning\"],\n",
    "\t\t[\"DynamicBrakeSupportId\",\"DynamicBrakeSupport\"],\n",
    "\t\t[\"CrashImminentBrakingID\",\"CrashImminentBraking\"],\n",
    "\t\t[\"PedestrianAutoEmergencyBrakingId\",\"PedestrianAutoEmergencyBraking\"],\n",
    "\t\t[\"BlindSpotWarningId\",\"BlindSpotWarning\"],\n",
    "\t\t[\"BlindSpotInterventionId\",\"BlindSpotIntervention\"],\n",
    "\t\t[\"LaneDepartureWarningId\",\"LaneDepartureWarning\"],\n",
    "\t\t[\"LaneKeepingAssistanceId\",\"LaneKeepingAssistance\"],\n",
    "\t\t[\"LaneCenteringAssistanceId\",\"LaneCenteringAssistance\"],\n",
    "\t\t[\"BackupCameraId\",\"BackupCamera\"],\n",
    "\t\t[\"RearCrossTrafficAlertId\",\"RearCrossTrafficAlert\"],\n",
    "\t\t[\"RearAutomaticEmergencyBrakingId\",\"RearAutomaticEmergencyBraking\"],\n",
    "\t\t[\"ParkAssistId\",\"ParkAssist\"],\n",
    "\t\t[\"DaytimeRunningLightId\",\"DaytimeRunningLight\"],\n",
    "\t\t[\"HeadlampLightSourceId\",\"HeadlampLightSource\"],\n",
    "\t\t[\"SemiAutoHeadlampBeamSwitchingId\",\"SemiAutoHeadlampBeamSwitching\"],\n",
    "\t\t[\"AdaptiveDrivingBeamId\",\"AdaptiveDrivingBeam\"],\n",
    "\t\t[\"AdaptiveCruiseControlId\",\"AdaptiveCruiseControl\"],\n",
    "\t\t[\"AntilockBrakeSystemId\",\"AntilockBrakeSystem\"],\n",
    "\t\t[\"ElectronicStabilityControlId\",\"ElectronicStabilityControl\"],\n",
    "\t\t[\"TPMSId\",\"TPMS\"],\n",
    "\t\t[\"TractionControlId\",\"TractionControl\"],\n",
    "\t\t[\"AutoPedestrianAlertingSoundId\",\"AutoPedestrianAlertingSound\"],\n",
    "    ]\n",
    "}\n",
    "\n",
    "for dataFile in crssCategoricalColumns.keys():\n",
    "    print(dataFile, \"======================================\")\n",
    "    for catCol in crssCategoricalColumns[dataFile]:\n",
    "        print(catCol, end=\",\")\n",
    "        crssCategories[catCol[0]] = dict(np.array(crssDf[dataFile][catCol].drop_duplicates()))\n",
    "    print()\n",
    "\n"
   ]
  },
  {
   "cell_type": "code",
   "execution_count": null,
   "metadata": {},
   "outputs": [],
   "source": [
    "# FARS non-categorical Columns\n",
    "\n",
    "crssNumericalColumns = {\n",
    "    \"accident\" : [\n",
    "\t\t\"CASENUM\",\n",
    "\t\t\"PSU\",\n",
    "\t\t\"PJ\",\n",
    "\t\t\"PSU_VAR\",\n",
    "\t\t\"VE_TOTAL\",\n",
    "\t\t\"VE_FORMS\",\n",
    "\t\t\"PVH_INVL\",\n",
    "\t\t\"PEDS\",\n",
    "\t\t#\"PERSONS\",\n",
    "\t\t\"PERMVIT\",\n",
    "\t\t\"PERNOTMVIT\",\n",
    "\t\t#\"DAY\",\n",
    "\t\t\"YEAR\",\n",
    "\t\t\"HOUR\",\n",
    "\t\t\"MINUTE\",\n",
    "\t\t#\"FATALS\",\n",
    "\t\t\"NUM_INJ\",\n",
    "\t\t\"NO_INJ_IM\",\n",
    "\t\t\"WEIGHT\",\n",
    "    ],\n",
    "    \"vehicle\" : [\n",
    "\t\t\"CASENUM\",\n",
    "\t\t\"VEH_NO\",\n",
    "\t\t\"MOD_YEAR\",\n",
    "\t\t\"MDLYR_IM\",\n",
    "\t\t\"VIN\",\n",
    "\t\t#\"DEATHS\",\n",
    "\t\t\"WEIGHT\",\n",
    "    ],\n",
    "    \"person\" : [\n",
    "\t\t\"CASENUM\",\n",
    "\t\t\"VEH_NO\",\n",
    "\t\t\"PER_NO\",\n",
    "\t\t\"STR_VEH\",\n",
    "\t\t\"AGE\",\n",
    "\t\t\"AGE_IM\",\n",
    "\t\t\"WEIGHT\",\n",
    "    ],\n",
    "    \"parkwork\" : [\n",
    "\t\t\"CASENUM\",\n",
    "\t\t\"VEH_NO\",\n",
    "\t\t\"PBODYTYPNAME\",\n",
    "\t\t\"PMODYEAR\",\n",
    "\t\t\"PVIN\",\n",
    "\t\t#\"PDEATHS\",\n",
    "\t\t\"WEIGHT\",\n",
    "    ],\n",
    "    \"pbtype\" : [\n",
    "\t\t\"CASENUM\",\n",
    "\t\t\"VEH_NO\",\n",
    "\t\t\"PER_NO\",\n",
    "\t\t\"WEIGHT\",\n",
    "    ],\n",
    "    \"vevent\" : [\n",
    "\t\t\"CASENUM\",\n",
    "\t\t\"VEH_NO\",\n",
    "\t\t#\"VEVENTNUM\",\n",
    "\t\t\"VNumber1\",\n",
    "\t\t\"VNumber2\",\n",
    "\t\t\"VNumber2NAME\",\n",
    "\t\t\"WEIGHT\",\n",
    "    ],\n",
    "    \"crashrf\" : [\n",
    "\t\t\"CASENUM\",\n",
    "\t\t\"WEIGHT\",\n",
    "    ],\n",
    "    \"driverrf\" : [\n",
    "\t\t\"CASENUM\",\n",
    "\t\t\"VEH_NO\",\n",
    "\t\t\"WEIGHT\",\n",
    "    ],\n",
    "    \"distract\" : [\n",
    "\t\t\"CASENUM\",\n",
    "\t\t\"VEH_NO\",\n",
    "\t\t\"WEIGHT\",\n",
    "    ],\n",
    "    \"drimpair\" : [\n",
    "\t\t\"CASENUM\",\n",
    "\t\t\"VEH_NO\",\n",
    "\t\t\"WEIGHT\",\n",
    "    ],\n",
    "    \"factor\" : [\n",
    "\t\t\"CASENUM\",\n",
    "\t\t\"VEH_NO\",\n",
    "\t\t\"WEIGHT\",\n",
    "    ],\n",
    "    \"vision\" : [\n",
    "\t\t\"CASENUM\",\n",
    "\t\t\"VEH_NO\",\n",
    "\t\t\"WEIGHT\",\n",
    "    ],\n",
    "    \"nmcrash\" : [\n",
    "\t\t\"CASENUM\",\n",
    "\t\t\"VEH_NO\",\n",
    "\t\t\"PER_NO\",\n",
    "\t\t\"WEIGHT\",\n",
    "    ],\n",
    "\t\"vpicdecode\" : [\n",
    "\t\t\"CASENUM\",\n",
    "\t\t\"VEH_NO\",\n",
    "\t\t\"VehicleDescriptor\",\n",
    "\t\t\"VINDecodeError\",\n",
    "\t\t\"ModelYear\",\n",
    "\t\t\"Series\",\n",
    "\t\t\"Trim\",\n",
    "\t\t\"Series2\",\n",
    "\t\t\"Trim2\",\n",
    "\t\t\"CurbWeightLB\",\n",
    "\t]\n",
    "} \n",
    "\n",
    "# Drop all columns except chosen ones\n",
    "for dataFile in crssNumericalColumns.keys():\n",
    "\tprint(dataFile, \"======================================\")\n",
    "\t# all columns\n",
    "\tcolumnSet = set(crssDf[dataFile].columns)\n",
    "\tfor catCol in crssCategoricalColumns[dataFile]:\n",
    "\t\t# remove categorical index column so that it is preserved (not dropped)\n",
    "\t\tcolumnSet.remove(catCol[0])\n",
    "\tfor catCol in crssNumericalColumns[dataFile]:\n",
    "\t\t# remove numerical column we want to preserve (not dropped)\n",
    "\t\tcolumnSet.remove(catCol)\n",
    "\t# remove unwanted columns\n",
    "\tcrssDf[dataFile].drop(columns = columnSet,inplace = True)\n",
    "\tprint(crssDf[dataFile].columns) "
   ]
  },
  {
   "cell_type": "code",
   "execution_count": null,
   "metadata": {},
   "outputs": [],
   "source": [
    "#pd.DataFrame(crssCategories[\"HARM_EV\"],columns=[\"id\",\"name\"]).to_csv(\"HARM_EV.csv\")\n",
    "\n",
    "# add simplified HARM_EV category HARM_EV_SIMP, and simplified PHARM_EV_SIMP\n",
    "crssCategories[\"HARM_EV_SIMP\"] = dict(\n",
    "    [\n",
    "        [1,\"Animal\"],\n",
    "\t    [2,\"Building\"],\n",
    "\t    [3,\"Fixed object\"],\n",
    "\t    [4,\"Jackknife\"],\n",
    "\t    [5,\"Motor Vehicle In-Transport\"],\n",
    "\t    [6,\"Non-Collision\"],\n",
    "\t    [7,\"Non-Motorist on Personal Conveyance\"],\n",
    "\t    [8,\"Object not-fixed\"],\n",
    "\t    [9,\"Parked Motor Vehicle\"],\n",
    "\t    [10,\"Road Surface\"],\n",
    "\t    [11,\"Pedalcyclist\"],\n",
    "\t    [12,\"Pedestrian\"],\n",
    "\t    [13,\"Railway Vehicle\"],\n",
    "\t    [14,\"Rollover/Overturn\"],\n",
    "\t    [15,\"Snow Bank\"],\n",
    "\t    [16,\"Traffic Barrier\"],\n",
    "\t    [17,\"Working Motor Vehicle\"],\n",
    "\t    [99,\"Unknown\"]\n",
    "    ]\n",
    ")\n",
    "#crssCategories[\"PHARM_EV_SIMP\"] = crssCategories[\"HARM_EV_SIMP\"].copy()\n",
    "\n",
    "# HARM_EV mapping to HARM_EV_SIMP\n",
    "harmEvSimpMap = {\n",
    "\t1 : 14,\n",
    "\t2 : 6,\n",
    "\t3 : 6,\n",
    "\t5 : 6,\n",
    "\t6 : 6,\n",
    "\t7 : 6,\n",
    "\t8 : 12,\n",
    "\t9 : 11,\n",
    "\t10 : 13,\n",
    "\t11 : 1,\n",
    "\t12 : 5,\n",
    "\t14 : 9,\n",
    "\t15 : 7,\n",
    "\t16 : 8,\n",
    "\t17 : 8,\n",
    "\t18 : 8,\n",
    "\t19 : 2,\n",
    "\t20 : 16,\n",
    "\t21 : 16,\n",
    "\t23 : 16,\n",
    "\t24 : 16,\n",
    "\t25 : 16,\n",
    "\t26 : 16,\n",
    "\t30 : 3,\n",
    "\t31 : 3,\n",
    "\t32 : 3,\n",
    "\t33 : 3,\n",
    "\t34 : 3,\n",
    "\t35 : 3,\n",
    "\t38 : 3,\n",
    "\t39 : 3,\n",
    "\t40 : 3,\n",
    "\t41 : 3,\n",
    "\t42 : 3,\n",
    "\t43 : 3,\n",
    "\t44 : 10,\n",
    "\t45 : 17,\n",
    "\t46 : 16,\n",
    "\t48 : 15,\n",
    "\t49 : 1,\n",
    "\t50 : 16,\n",
    "\t51 : 4,\n",
    "\t52 : 16,\n",
    "\t53 : 3,\n",
    "\t54 : 5,\n",
    "\t55 : 5,\n",
    "\t57 : 3,\n",
    "\t58 : 10,\n",
    "\t59 : 3,\n",
    "\t72 : 8,\n",
    "\t73 : 8,\n",
    "\t74 : 13,\n",
    "\t91 : 8,\n",
    "\t93 : 3,\n",
    "\t98 : 99,\n",
    "\t99 : 99,\n",
    "}\n",
    "\n",
    "# new columns based on mappings\n",
    "crssDf[\"accident\"][\"HARM_EV_SIMP\"] = crssDf[\"accident\"].apply(lambda row: harmEvSimpMap[row[\"HARM_EV\"]],axis=1)\n",
    "crssDf[\"parkwork\"][\"PM_HARM_SIMP\"] = crssDf[\"parkwork\"].apply(lambda row: harmEvSimpMap[row[\"PM_HARM\"]],axis=1)"
   ]
  },
  {
   "cell_type": "code",
   "execution_count": null,
   "metadata": {},
   "outputs": [],
   "source": [
    "crssDf[\"accident\"].describe(include=\"all\")"
   ]
  },
  {
   "cell_type": "code",
   "execution_count": null,
   "metadata": {},
   "outputs": [],
   "source": [
    "crssDf[\"accident\"].info(verbose=True,show_counts=True)"
   ]
  },
  {
   "cell_type": "code",
   "execution_count": null,
   "metadata": {},
   "outputs": [],
   "source": [
    "crssDf[\"vehicle\"].describe(include=\"all\")"
   ]
  },
  {
   "cell_type": "code",
   "execution_count": null,
   "metadata": {},
   "outputs": [],
   "source": [
    "crssDf[\"vehicle\"].info(verbose=True,show_counts=True)"
   ]
  },
  {
   "cell_type": "code",
   "execution_count": null,
   "metadata": {},
   "outputs": [],
   "source": [
    "crssDf[\"vpicdecode\"].describe(include=\"all\")"
   ]
  },
  {
   "cell_type": "code",
   "execution_count": null,
   "metadata": {},
   "outputs": [],
   "source": [
    "crssDf[\"vpicdecode\"].info(verbose=True,show_counts=True)"
   ]
  },
  {
   "cell_type": "code",
   "execution_count": null,
   "metadata": {},
   "outputs": [],
   "source": [
    "totalWeightedAccidentsOrig = round(crssDf[\"accident\"][\"WEIGHT\"].sum())\n",
    "totalWeightedVehiclesOrig  = round(crssDf[\"vehicle\"][\"WEIGHT\"].sum())\n",
    "totalWeightedFatalsOrig    = round(crssDf[\"accident\"][crssDf[\"accident\"][\"MAXSEV_IM\"]==4][\"WEIGHT\"].sum())\n",
    "print(\"Total Accidents (weighted) of original dataset       =\",totalWeightedAccidentsOrig)\n",
    "print(\"Total Fatal Accidents (weighted) of original dataset =\",totalWeightedFatalsOrig)\n",
    "print(\"Total Vehicles (weighted) of original dataset        =\",totalWeightedVehiclesOrig)"
   ]
  },
  {
   "cell_type": "code",
   "execution_count": null,
   "metadata": {},
   "outputs": [],
   "source": [
    "# verify if all CASENUM combinations are present\n",
    "accStCaseSet = set(crssDf[\"accident\"][\"CASENUM\"].dropna().unique())\n",
    "vehStCaseSet = set(crssDf[\"vehicle\"][\"CASENUM\"].dropna().unique())\n",
    "vpicStCaseSet = set(crssDf[\"vpicdecode\"][\"CASENUM\"].dropna().unique())\n",
    "\n",
    "print(len(accStCaseSet),len(vehStCaseSet),len(vpicStCaseSet))\n",
    "print(\"Set diff 'accident' - 'vehicle' \\t=\\t\",len(accStCaseSet.copy().difference(vehStCaseSet)))\n",
    "print(\"Set diff 'accident' - 'vpicdecode' \\t=\\t\",len(accStCaseSet.copy().difference(vpicStCaseSet)))\n",
    "print(\"Set diff 'vehicle' - 'vpicdecode' \\t=\\t\",len(vehStCaseSet.copy().difference(vpicStCaseSet)))\n",
    "print(\"Set diff 'vpicdecode' - 'vehicle' \\t=\\t\",len(vpicStCaseSet.copy().difference(vehStCaseSet)))\n",
    "print(len(accStCaseSet),len(vehStCaseSet),len(vpicStCaseSet))\n",
    "\n",
    "# there are cases without vpicdecode entries, all cases have vehicle entries\n",
    "\n",
    "# find cases without vpic decode entry\n",
    "tempDf = crssDf[\"accident\"][~crssDf[\"accident\"][\"CASENUM\"].isin(vpicStCaseSet)]\n",
    "accCountWithoutVPIC = len(tempDf)\n",
    "\n",
    "# find all vehicles wihtout vpic decode entry\n",
    "temp2Df = crssDf[\"vehicle\"][~crssDf[\"vehicle\"][\"CASENUM\"].isin(vpicStCaseSet)]\n",
    "vehBodyTypeWithoutVPIC = temp2Df.apply(lambda row: crssCategories[\"BODY_TYP\"][row[\"BODY_TYP\"]],axis=1).value_counts()\n",
    "vehMakeWithoutVPIC = temp2Df.apply(lambda row: crssCategories[\"MAKE\"][row[\"MAKE\"]],axis=1).value_counts()\n",
    "vehModelWithoutVPIC = temp2Df.apply(lambda row: crssCategories[\"MAK_MOD\"][row[\"MAK_MOD\"]],axis=1).value_counts()\n",
    "#vehModelYearWithoutVPIC = temp2Df[\"MOD_YEAR\"].value_counts()\n",
    "vehModelYearWithoutVPIC = temp2Df[\"MDLYR_IM\"].value_counts()\n",
    "vehCountWithoutVPIC = len(temp2Df)\n",
    "print(\"total accidents wiht vehicles wihtout VPIC =\\t\",accCountWithoutVPIC,accCountWithoutVPIC/len(crssDf[\"accident\"])*100,\"%\")\n",
    "print(\"total vehicles wihtout VPIC =\\t\\t\\t\",vehCountWithoutVPIC,vehCountWithoutVPIC/len(crssDf[\"vehicle\"])*100,\"%\")\n",
    "print(\"Most frequent Body Type without VPIC =\\t\",vehBodyTypeWithoutVPIC.head(1).index[0],\"\\tfreq =\",vehBodyTypeWithoutVPIC.head(1)[0],vehBodyTypeWithoutVPIC.head(1)[0]/vehCountWithoutVPIC*100,\"%\")\n",
    "print(\"Most frequent Make without VPIC =\\t\",vehMakeWithoutVPIC.head(1).index[0],\"\\t\\tfreq =\",vehMakeWithoutVPIC.head(1)[0],vehMakeWithoutVPIC.head(1)[0]/vehCountWithoutVPIC*100,\"%\")\n",
    "print(\"Most frequent Model without VPIC =\\t\",vehModelWithoutVPIC.head(1).index[0],\"\\t\\tfreq =\",vehModelWithoutVPIC.head(1)[0],vehModelWithoutVPIC.head(1)[0]/vehCountWithoutVPIC*100,\"%\")\n",
    "print(\"Most frequent Model Year without VPIC =\\t\",vehModelYearWithoutVPIC.head(1).index[0],\"\\t\\t\\tfreq =\",vehModelYearWithoutVPIC.head(1).values[0],vehModelYearWithoutVPIC.head(1).values[0]/vehCountWithoutVPIC*100,\"%\")\n",
    "\n",
    "#tempDf = None\n",
    "#temp2Df = None\n",
    "\n",
    "print(crssDf[\"vehicle\"][\"MDLYR_IM\"].drop_duplicates().sort_values().values)\n",
    "print(crssDf[\"vehicle\"][\"MOD_YEAR\"].drop_duplicates().sort_values().values)\n",
    "print(crssDf[\"vpicdecode\"][\"ModelYear\"].drop_duplicates().sort_values().values)\n",
    "print(vehModelWithoutVPIC)"
   ]
  },
  {
   "cell_type": "code",
   "execution_count": null,
   "metadata": {},
   "outputs": [],
   "source": [
    "print(\"Total (Weighted) accidents without VPIC = \",round(tempDf[\"WEIGHT\"].sum()),tempDf[\"WEIGHT\"].sum()/totalWeightedAccidentsOrig*100,\"%\")\n",
    "print(\"Total (Weighted) vehicles  without VPIC = \",round(temp2Df[\"WEIGHT\"].sum()),temp2Df[\"WEIGHT\"].sum()/totalWeightedVehiclesOrig*100,\"%\")\n",
    "\n",
    "#temp2Df[[\"MAK_MOD\",\"MDLYR_IM\",\"WEIGHT\"]].groupby([\"MAK_MOD\",\"MDLYR_IM\"]).sum()\n",
    "topModelsWithoutVPIC = temp2Df[[\"MAK_MOD\",\"WEIGHT\"]].groupby([\"MAK_MOD\"]).sum().sort_values(by=\"WEIGHT\",ascending=False)\n",
    "topModelsWithoutVPIC[\"Model\"] = topModelsWithoutVPIC.index\n",
    "topModelsWithoutVPIC[\"Model\"] = topModelsWithoutVPIC.apply(lambda row: crssCategories[\"MAK_MOD\"][row[\"Model\"]],axis=1)\n",
    "topModelsWithoutVPIC[\"Pct\"] = topModelsWithoutVPIC[\"WEIGHT\"] / temp2Df[\"WEIGHT\"].sum() * 100\n",
    "topModelsWithoutVPIC.head(10)\n"
   ]
  },
  {
   "cell_type": "code",
   "execution_count": null,
   "metadata": {},
   "outputs": [],
   "source": [
    "#tempDf = crssDf[\"accident\"][~crssDf[\"accident\"][\"CASENUM\"].isin(vpicStCaseSet)]\n",
    "#temp2Df = crssDf[\"vehicle\"][~crssDf[\"vehicle\"][\"CASENUM\"].isin(vpicStCaseSet)]\n",
    "#temp2Df[temp2Df[\"MOD_YEAR\"]==2019][\"VIN\"].value_counts()"
   ]
  },
  {
   "cell_type": "code",
   "execution_count": null,
   "metadata": {},
   "outputs": [],
   "source": [
    "# remove accidents and vehicles without vpic decode\n",
    "# vehicles without vpic record\n",
    "crssDf[\"vehicle\"] = pd.merge(crssDf[\"vehicle\"],crssDf[\"vpicdecode\"], on = [\"CASENUM\",\"VEH_NO\"])[crssDf[\"vehicle\"].columns]\n",
    "# remove accidents that have vehicles without vpic records\n",
    "crssDf[\"accident\"] = crssDf[\"accident\"][crssDf[\"accident\"][\"CASENUM\"].isin(set(crssDf[\"vehicle\"][\"CASENUM\"].dropna().unique()))].copy()\n"
   ]
  },
  {
   "cell_type": "code",
   "execution_count": null,
   "metadata": {},
   "outputs": [],
   "source": [
    "crssDf[\"accident\"].describe(include=\"all\")"
   ]
  },
  {
   "cell_type": "markdown",
   "metadata": {},
   "source": [
    "# CRSS Data Verification"
   ]
  },
  {
   "cell_type": "code",
   "execution_count": null,
   "metadata": {},
   "outputs": [],
   "source": [
    "totalAcc = len(crssDf[\"accident\"])"
   ]
  },
  {
   "cell_type": "code",
   "execution_count": null,
   "metadata": {},
   "outputs": [],
   "source": [
    "accStatesDf = pd.DataFrame(crssDf[\"accident\"][\"REGION\"].value_counts().sort_values(ascending=False))\n",
    "accStatesDf.columns = [\"TotalAcc\"]\n",
    "accStatesDf[\"REGION\"] = accStatesDf.index.values\n",
    "accStatesDf[\"REGION\"] = accStatesDf.apply(lambda row: crssCategories[\"REGION\"][row[\"REGION\"]],axis=1)\n",
    "#accStatesDf.loc[\"Others\"] = [crssDf[\"accident\"][\"REGION\"].count() - accStatesDf[\"TotalAcc\"].sum(),\"Others\"]\n",
    "accStatesDf.set_index(\"REGION\",inplace=True)\n",
    "accStatesDf"
   ]
  },
  {
   "cell_type": "code",
   "execution_count": null,
   "metadata": {},
   "outputs": [],
   "source": [
    "\n",
    "def func(pct):\n",
    "    absolute = int(pct/100.*crssDf[\"accident\"][\"REGION\"].count())\n",
    "    return \"{:.1f}%\\n({:d})\".format(pct, absolute)\n",
    "\n",
    "#autopct = \"%1.1f%%\" if not using function\n",
    "\n",
    "_ = accStatesDf.plot.pie(y=\"TotalAcc\",figsize=(8,8),legend = False, title = \"Traffic Accident Sample Distribution per U.S. Region (2020)\", \\\n",
    "    ylabel = \"\", autopct=lambda pct: func(pct), pctdistance = 0.9, rotatelabels = False)\n",
    "\n"
   ]
  },
  {
   "cell_type": "code",
   "execution_count": null,
   "metadata": {},
   "outputs": [],
   "source": [
    "accStatesWghtDf = crssDf[\"accident\"][[\"REGION\",\"WEIGHT\"]].groupby(\"REGION\").sum().sort_values(by=\"WEIGHT\",ascending=False)\n",
    "accStatesWghtDf.columns = [\"TotalAcc\"]\n",
    "accStatesWghtDf[\"REGION\"] = accStatesWghtDf.index.values\n",
    "accStatesWghtDf[\"REGION\"] = accStatesWghtDf.apply(lambda row: crssCategories[\"REGION\"][row[\"REGION\"]],axis=1)\n",
    "##accStatesDf.loc[\"Others\"] = [crssDf[\"accident\"][\"REGION\"].count() - accStatesDf[\"TotalAcc\"].sum(),\"Others\"]\n",
    "accStatesWghtDf.set_index(\"REGION\",inplace=True)\n",
    "totalWeightedAccidents = accStatesWghtDf[\"TotalAcc\"].sum()\n",
    "accStatesWghtDf"
   ]
  },
  {
   "cell_type": "code",
   "execution_count": null,
   "metadata": {},
   "outputs": [],
   "source": [
    "\n",
    "def func(pct):\n",
    "    absolute = int(pct/100.*totalWeightedAccidents)\n",
    "    return \"{:.1f}%\\n({:,})\".format(pct, absolute)\n",
    "\n",
    "#autopct = \"%1.1f%%\" if not using function\n",
    "\n",
    "_ = accStatesWghtDf.plot.pie(y=\"TotalAcc\",figsize=(8,8),legend = False, title = \"Traffic Accident Weighted Sample Distribution per U.S. Region (2020)\", \\\n",
    "    ylabel = \"\", autopct=lambda pct: func(pct), pctdistance = 0.9, rotatelabels = False)\n",
    "\n"
   ]
  },
  {
   "cell_type": "code",
   "execution_count": null,
   "metadata": {},
   "outputs": [],
   "source": [
    "#accTotalsDf = pd.DataFrame(dict(crssDf[\"accident\"][[\"VE_TOTAL\",\"VE_FORMS\",\"PVH_INVL\",\"PERSONS\",\"PERMVIT\",\"PERNOTMVIT\",\"PEDS\",\"FATALS\"]].sum()),index = [\"Total\"])\n",
    "accTotalsDf = pd.DataFrame(dict(crssDf[\"accident\"][[\"VE_TOTAL\",\"VE_FORMS\",\"PVH_INVL\",\"PERMVIT\",\"PERNOTMVIT\",\"PEDS\",\"NUM_INJ\"]].sum()),index = [\"Total\"])\n",
    "accTotalsDf[\"Accidents\"] = len(crssDf[\"accident\"])\n",
    "accTotalsDf[\"Occupants in Parked and Work Vehicles\"] = accTotalsDf[\"PERNOTMVIT\"] - accTotalsDf[\"PEDS\"]\n",
    "accTotalsDf = accTotalsDf.reindex(columns=['Accidents', 'VE_TOTAL', \"VE_FORMS\", 'PVH_INVL', 'PERMVIT', 'PERNOTMVIT', \"Occupants in Parked and Work Vehicles\",'PEDS','NUM_INJ'])\n",
    "accTotalsDf.columns = ['Total Accidents', 'Total Vehicles', \"Vehicles in Transport\",'Parked and Working Vehicles', 'Occupants in Vehicles in Transport', 'Persons Not in Motor Vehicles in Transport', \"Occupants in Parked and Work Vehicles\", 'Person not in Vehicles','Number of Injuries']\n",
    "accTotalsDf"
   ]
  },
  {
   "cell_type": "code",
   "execution_count": null,
   "metadata": {},
   "outputs": [],
   "source": [
    "accTotalsSer = accTotalsDf.loc[\"Total\"]\n",
    "ax = accTotalsSer.plot.barh(title = \"U.S. 2020 Sample Accident Totals\")"
   ]
  },
  {
   "cell_type": "code",
   "execution_count": null,
   "metadata": {},
   "outputs": [],
   "source": [
    "crssMaxSevDf = pd.DataFrame(crssDf[\"accident\"][\"MAX_SEV\"].value_counts().sort_values())\n",
    "crssMaxSevDf.columns = [\"TotalAccidents\"]\n",
    "crssMaxSevDf[\"MAX_SEV\"] = crssMaxSevDf.index.values\n",
    "crssMaxSevDf[\"MAX_SEV\"] = crssMaxSevDf.apply(lambda row: crssCategories[\"MAX_SEV\"][row[\"MAX_SEV\"]],axis=1)\n",
    "crssMaxSevDf.set_index(\"MAX_SEV\",inplace=True)\n",
    "crssMaxSevDf"
   ]
  },
  {
   "cell_type": "code",
   "execution_count": null,
   "metadata": {},
   "outputs": [],
   "source": [
    "crssMaxSevDftmp = crssMaxSevDf[crssMaxSevDf[\"TotalAccidents\"]/crssMaxSevDf[\"TotalAccidents\"].sum() >= 0.02].copy()\n",
    "crssMaxSevDftmp.loc[\"Other/Unknown\"] = [crssMaxSevDf[\"TotalAccidents\"].sum() - crssMaxSevDftmp[\"TotalAccidents\"].sum()]\n",
    "crssMaxSevDftmp[\"TotalAccidents\"].plot.pie(legend = False, ylabel = \"\", autopct=\"%1.1f%%\", pctdistance = 0.7, rotatelabels = False, title = \"Sampled Accidents Injury Types\")"
   ]
  },
  {
   "cell_type": "code",
   "execution_count": null,
   "metadata": {},
   "outputs": [],
   "source": [
    "accTotalsDf.loc[\"Total\"][[\"Vehicles in Transport\",'Parked and Working Vehicles']].plot.pie(legend = False, title = \"Vehicles in Transport vs Parked and Working Vehicles\", \\\n",
    "    ylabel = \"\", autopct=\"%1.1f%%\", pctdistance = 0.7, rotatelabels = False)"
   ]
  },
  {
   "cell_type": "code",
   "execution_count": null,
   "metadata": {},
   "outputs": [],
   "source": [
    "_ = accTotalsDf.loc[\"Total\"][['Occupants in Vehicles in Transport',\"Occupants in Parked and Work Vehicles\"]].plot.pie(legend = False, title = \"Occupants in Vehhicles in Transport vs Parked and Working Vehicles\", \\\n",
    "    ylabel = \"\", autopct=\"%1.1f%%\", pctdistance = 0.7, rotatelabels = False)"
   ]
  },
  {
   "cell_type": "code",
   "execution_count": null,
   "metadata": {},
   "outputs": [],
   "source": [
    "# accidents by month\n",
    "accMonthDf = pd.DataFrame(crssDf[\"accident\"][\"MONTH\"].value_counts()).sort_index()\n",
    "accMonthDf.columns = [\"TotalAcc\"]\n",
    "accMonthDf[\"MONTH\"] = accMonthDf.index.values\n",
    "accMonthDf[\"MONTH\"] = accMonthDf.apply(lambda row: crssCategories[\"MONTH\"][row[\"MONTH\"]],axis=1)\n",
    "#accMonthDf.loc[\"Others\"] = [crssDf[\"accident\"][\"STATE\"].count() - accMonthDf[\"TotalAcc\"].sum(),\"Others\"]\n",
    "accMonthDf.set_index(\"MONTH\",inplace=True)\n",
    "accMonthDf"
   ]
  },
  {
   "cell_type": "code",
   "execution_count": null,
   "metadata": {},
   "outputs": [],
   "source": [
    "accMonthDf[\"TotalAcc\"].plot.bar(title = \"U.S. 2020 Sampled Traffic Accident per Month\",legend = False, ylabel = \"Total Falta Accidents\")"
   ]
  },
  {
   "cell_type": "code",
   "execution_count": null,
   "metadata": {},
   "outputs": [],
   "source": [
    "# accidents by day of the week\n",
    "accDayWeekDf = pd.DataFrame(crssDf[\"accident\"][\"DAY_WEEK\"].value_counts()).sort_index()\n",
    "accDayWeekDf.columns = [\"TotalAcc\"]\n",
    "accDayWeekDf[\"DAY_WEEK\"] = accDayWeekDf.index.values\n",
    "accDayWeekDf[\"DAY_WEEK\"] = accDayWeekDf.apply(lambda row: crssCategories[\"DAY_WEEK\"][row[\"DAY_WEEK\"]],axis=1)\n",
    "#accMonthDf.loc[\"Others\"] = [crssDf[\"accident\"][\"STATE\"].count() - accMonthDf[\"TotalAcc\"].sum(),\"Others\"]\n",
    "accDayWeekDf.set_index(\"DAY_WEEK\",inplace=True)\n",
    "accDayWeekDf"
   ]
  },
  {
   "cell_type": "code",
   "execution_count": null,
   "metadata": {},
   "outputs": [],
   "source": [
    "accDayWeekDf.plot.bar(title = \"U.S. 2020 Sampled Traffic Accident per Day of the Week\",legend = False, ylabel = \"Total Falta Accidents\", \\\n",
    "    xlabel = \"Day of the Week\")"
   ]
  },
  {
   "cell_type": "code",
   "execution_count": null,
   "metadata": {},
   "outputs": [],
   "source": [
    "# accidents and weather events\n",
    "accWeatherDf = pd.DataFrame(crssDf[\"accident\"][\"WEATHER\"].value_counts().sort_values(ascending=False))\n",
    "accWeatherDf.columns = [\"TotalAccidents\"]\n",
    "totalWeatherAcc = accWeatherDf[\"TotalAccidents\"].sum()\n",
    "accWeatherDf[\"WEATHER\"] = accWeatherDf.index.values\n",
    "accWeatherDf[\"WEATHER\"] = accWeatherDf.apply(lambda row: crssCategories[\"WEATHER\"][row[\"WEATHER\"]],axis=1)\n",
    "accWeatherDf.set_index(\"WEATHER\",inplace=True)\n",
    "# combined unknown and not reported rows\n",
    "accWeatherDf.loc[\"Unknown\"] = accWeatherDf.loc[\"Not Reported\"] + accWeatherDf.loc[\"Reported as Unknown\"]\n",
    "accWeatherDf.drop(index=[\"Reported as Unknown\",\"Not Reported\"],inplace=True)\n",
    "accWeatherDf"
   ]
  },
  {
   "cell_type": "code",
   "execution_count": null,
   "metadata": {},
   "outputs": [],
   "source": [
    "accWeatherDf = accWeatherDf[accWeatherDf[\"TotalAccidents\"] > 2000]\n",
    "accWeatherDf.loc[\"Other\"] = [totalWeatherAcc - accWeatherDf[\"TotalAccidents\"].sum()]\n",
    "_ = accWeatherDf[\"TotalAccidents\"].plot.pie(legend = False, title = \"Total Accidents under reported Weather conditions\", \\\n",
    "    ylabel = \"\", autopct=\"%1.1f%%\", pctdistance = 0.7, rotatelabels = False)"
   ]
  },
  {
   "cell_type": "code",
   "execution_count": null,
   "metadata": {},
   "outputs": [],
   "source": [
    "# accidents and light condition\n",
    "accLightDf = pd.DataFrame(crssDf[\"accident\"][\"LGT_COND\"].value_counts().sort_values(ascending=False))\n",
    "accLightDf.columns = [\"TotalAccidents\"]\n",
    "totalAcc = accLightDf[\"TotalAccidents\"].sum()\n",
    "accLightDf[\"LGT_COND\"] = accLightDf.index.values\n",
    "accLightDf[\"LGT_COND\"] = accLightDf.apply(lambda row: crssCategories[\"LGT_COND\"][row[\"LGT_COND\"]],axis=1)\n",
    "accLightDf.set_index(\"LGT_COND\",inplace=True)\n",
    "# combined unknown and not reported rows\n",
    "#accLightDf.loc[\"Unknown\"] = accWeatherDf.loc[\"Not Reported\"] + accWeatherDf.loc[\"Reported as Unknown\"]\n",
    "#accLightDf.drop(index=[\"Reported as Unknown\",\"Not Reported\"],inplace=True)\n",
    "accLightDf"
   ]
  },
  {
   "cell_type": "code",
   "execution_count": null,
   "metadata": {},
   "outputs": [],
   "source": [
    "accLightDf = accLightDf[accLightDf[\"TotalAccidents\"] > 900]\n",
    "accLightDf.loc[\"Other\"] = [totalAcc - accLightDf[\"TotalAccidents\"].sum()]\n",
    "_ = accLightDf[\"TotalAccidents\"].plot.pie(legend = False, title = \"Total Sampled Accidents under different light conditions\", \\\n",
    "    ylabel = \"\", autopct=\"%1.1f%%\", pctdistance = 0.7, rotatelabels = False)"
   ]
  },
  {
   "cell_type": "code",
   "execution_count": null,
   "metadata": {},
   "outputs": [],
   "source": [
    "# accidents harmul events\n",
    "accHarmEvDf = pd.DataFrame(crssDf[\"accident\"][\"HARM_EV_SIMP\"].value_counts().sort_values(ascending=False))\n",
    "accHarmEvDf.columns = [\"TotalAccidents\"]\n",
    "accHarmEvDf[\"HARM_EV_SIMP\"] = accHarmEvDf.index.values\n",
    "accHarmEvDf[\"HARM_EV_SIMP\"] = accHarmEvDf.apply(lambda row: crssCategories[\"HARM_EV_SIMP\"][row[\"HARM_EV_SIMP\"]],axis=1)\n",
    "#accMonthDf.loc[\"Others\"] = [crssDf[\"accident\"][\"STATE\"].count() - accMonthDf[\"TotalAcc\"].sum(),\"Others\"]\n",
    "accHarmEvDf.set_index(\"HARM_EV_SIMP\",inplace=True)\n",
    "totalAcc = accHarmEvDf[\"TotalAccidents\"].sum()\n",
    "accHarmEvDf"
   ]
  },
  {
   "cell_type": "code",
   "execution_count": null,
   "metadata": {},
   "outputs": [],
   "source": [
    "accHarmEvDf = accHarmEvDf[accHarmEvDf[\"TotalAccidents\"] > 500].copy()\n",
    "accHarmEvDf.loc[\"Other\"] = [totalAcc - accHarmEvDf[\"TotalAccidents\"].sum()]\n",
    "_ = accHarmEvDf[\"TotalAccidents\"].plot.pie(legend = False, title = \"Sampled First injury or damage producing event of the crash\", \\\n",
    "    ylabel = \"\", autopct=\"%1.1f%%\", pctdistance = 0.7, rotatelabels = False)"
   ]
  },
  {
   "cell_type": "code",
   "execution_count": null,
   "metadata": {},
   "outputs": [],
   "source": [
    "# for Events including Motort Vehicle in Transport orientation of montor vehicles\n",
    "accManCollDf = pd.DataFrame(crssDf[\"accident\"][\"MAN_COLL\"].value_counts().sort_values(ascending=False))\n",
    "accManCollDf.columns = [\"TotalAccidents\"]\n",
    "accManCollDf[\"MAN_COLL\"] = accManCollDf.index.values\n",
    "accManCollDf[\"MAN_COLL\"] = accManCollDf.apply(lambda row: crssCategories[\"MAN_COLL\"][row[\"MAN_COLL\"]],axis=1)\n",
    "#accMonthDf.loc[\"Others\"] = [crssDf[\"accident\"][\"STATE\"].count() - accMonthDf[\"TotalAcc\"].sum(),\"Others\"]\n",
    "accManCollDf.set_index(\"MAN_COLL\",inplace=True)\n",
    "accManCollDf"
   ]
  },
  {
   "cell_type": "code",
   "execution_count": null,
   "metadata": {},
   "outputs": [],
   "source": [
    "accManCollDf.drop(index=[\"The First Harmful Event was Not a Collision with a Motor Vehicle In Transport\"],inplace=True)\n",
    "totMVinTransportAcc = accManCollDf[\"TotalAccidents\"].sum()\n",
    "accManCollDf"
   ]
  },
  {
   "cell_type": "code",
   "execution_count": null,
   "metadata": {},
   "outputs": [],
   "source": [
    "# keep evetns that make at least 3% of total\n",
    "accManCollDf = accManCollDf[accManCollDf[\"TotalAccidents\"]/totMVinTransportAcc >= 0.03]\n",
    "accManCollDf.loc[\"Other\"] = [totMVinTransportAcc - accManCollDf[\"TotalAccidents\"].sum()]\n",
    "_ = accManCollDf[\"TotalAccidents\"].plot.pie(legend = False, title = \"Orientation of two MVIT involved in the crash\", \\\n",
    "    ylabel = \"\", autopct=\"%1.1f%%\", pctdistance = 0.7, rotatelabels = False)"
   ]
  },
  {
   "cell_type": "code",
   "execution_count": null,
   "metadata": {},
   "outputs": [],
   "source": [
    "# Vehicle Make \n",
    "# accidents harmul events\n",
    "vehModDf = pd.DataFrame(crssDf[\"vehicle\"][\"MAKE\"].value_counts().sort_values(ascending=False)).head(20)\n",
    "vehModDf.columns = [\"TotalVehicles\"]\n",
    "vehModDf[\"MAKE\"] = vehModDf.index.values\n",
    "vehModDf[\"MAKE\"] = vehModDf.apply(lambda row: crssCategories[\"MAKE\"][row[\"MAKE\"]],axis=1)\n",
    "vehModDf.set_index(\"MAKE\",inplace=True)\n",
    "totalVeh = len(crssDf[\"vehicle\"])\n",
    "vehModDf.loc[\"Others\"] = [totalVeh - vehModDf[\"TotalVehicles\"].sum()]\n",
    "vehModDf\n"
   ]
  },
  {
   "cell_type": "code",
   "execution_count": null,
   "metadata": {},
   "outputs": [],
   "source": [
    "#accTotalsSer = vehModDf.loc[\"TotalVehicles\"]\n",
    "ax = vehModDf.plot.barh(title = \"Make of Vehicles Present in Fatal Accidents\")"
   ]
  },
  {
   "cell_type": "code",
   "execution_count": null,
   "metadata": {},
   "outputs": [],
   "source": [
    "# Vehicle Model Year\n",
    "vehYrDf = pd.DataFrame(crssDf[\"vehicle\"][\"MOD_YEAR\"].value_counts())\n",
    "vehYrDf.columns = [\"TotalVehicles\"]\n",
    "vehYrDf[\"MOD_YEAR\"] = vehYrDf.index.values\n",
    "#vehYrDf[\"MAKE\"] = vehYrDf.apply(lambda row: crssCategories[\"MAKE\"][row[\"MAKE\"]],axis=1)\n",
    "#vehYrDf.set_index(\"MOD_YEAR\",inplace=True)\n",
    "totalVeh = len(crssDf[\"vehicle\"])\n",
    "#vehYrDf.loc[\"Others\"] = [totalVeh - vehYrDf[\"TotalVehicles\"].sum()]\n",
    "#vehYrDf.loc[\"Unknown\"] = [vehYrDf.loc[9998][\"TotalVehicles\"] + vehYrDf.loc[9999][\"TotalVehicles\"],np.NaN]\n",
    "#vehYrDf.drop(index=[9998,9999],inplace=True)\n",
    "vehYrDf"
   ]
  },
  {
   "cell_type": "code",
   "execution_count": null,
   "metadata": {},
   "outputs": [],
   "source": [
    "_ = crssDf[\"vehicle\"][crssDf[\"vehicle\"][\"MOD_YEAR\"] < 9998][\"MOD_YEAR\"].plot.hist(bins=40,title=\"Vehicle Model Year Distribution\")"
   ]
  },
  {
   "cell_type": "code",
   "execution_count": null,
   "metadata": {},
   "outputs": [],
   "source": [
    "#ax = vehYrDf.boxplot(column=\"MOD_YEAR\")\n",
    "ax = crssDf[\"vehicle\"][crssDf[\"vehicle\"][\"MOD_YEAR\"] < 9998].boxplot(column=\"MOD_YEAR\")\n",
    "ax.set_title(\"Vehicle Model Year\")"
   ]
  },
  {
   "cell_type": "code",
   "execution_count": null,
   "metadata": {},
   "outputs": [],
   "source": [
    "# Vehicle Body class\n",
    "vehBodyDf = pd.DataFrame(crssDf[\"vehicle\"][\"VPICBODYCLASS\"].value_counts())\n",
    "vehBodyDf.columns = [\"TotalVehicles\"]\n",
    "vehBodyDf[\"VPICBODYCLASS\"] = vehBodyDf.index.values\n",
    "vehBodyDf[\"VPICBODYCLASS\"] = vehBodyDf.apply(lambda row: crssCategories[\"VPICBODYCLASS\"][row[\"VPICBODYCLASS\"]],axis=1)\n",
    "vehBodyDf.set_index(\"VPICBODYCLASS\",inplace=True)\n",
    "vehBodyDf"
   ]
  },
  {
   "cell_type": "code",
   "execution_count": null,
   "metadata": {},
   "outputs": [],
   "source": [
    "# keep evetns that make at least 3% of total\n",
    "vehBodyDf = vehBodyDf[vehBodyDf[\"TotalVehicles\"]/totalVeh >= 0.034].copy()\n",
    "vehBodyDf.loc[\"Other\"] = totalVeh - vehBodyDf[\"TotalVehicles\"].sum()\n",
    "_ = vehBodyDf[\"TotalVehicles\"].plot.pie(legend = False, title = \"Vehicle Body Types present in Accidents\", \\\n",
    "    ylabel = \"\", autopct=\"%1.1f%%\", pctdistance = 0.9, rotatelabels = False)"
   ]
  },
  {
   "cell_type": "code",
   "execution_count": null,
   "metadata": {},
   "outputs": [],
   "source": [
    "# Driver was Drinking\n",
    "vehDrinkDf = pd.DataFrame(crssDf[\"vehicle\"][\"VEH_ALCH\"].value_counts().sort_values(ascending=False))\n",
    "vehDrinkDf.columns = [\"TotalVehicles\"]\n",
    "vehDrinkDf[\"VEH_ALCH\"] = vehDrinkDf.index.values\n",
    "vehDrinkDf[\"VEH_ALCH\"] = vehDrinkDf.apply(lambda row: crssCategories[\"VEH_ALCH\"][row[\"VEH_ALCH\"]],axis=1)\n",
    "vehDrinkDf.set_index(\"VEH_ALCH\",inplace=True)\n",
    "totalVeh = len(crssDf[\"vehicle\"])\n",
    "#vehDrinkDf.loc[\"Others\"] = [totalVeh - vehDrinkDf[\"TotalVehicles\"].sum()]\n",
    "vehDrinkDf"
   ]
  },
  {
   "cell_type": "code",
   "execution_count": null,
   "metadata": {},
   "outputs": [],
   "source": [
    "_ = vehDrinkDf[\"TotalVehicles\"].plot.pie(legend = False, title = \"Driver of Vehicle Reported Drinking\", \\\n",
    "    ylabel = \"\", autopct=\"%1.1f%%\", pctdistance = 0.7, rotatelabels = False)"
   ]
  },
  {
   "cell_type": "code",
   "execution_count": null,
   "metadata": {},
   "outputs": [],
   "source": [
    "# simplify access to driver information from \"person\" table\n",
    "driversDf = crssDf[\"person\"][crssDf[\"person\"][\"PER_TYP\"] == 1]\n",
    "totalDrivers = len(driversDf)"
   ]
  },
  {
   "cell_type": "code",
   "execution_count": null,
   "metadata": {},
   "outputs": [],
   "source": [
    "# Driver's Sex\n",
    "drSexDf = pd.DataFrame(driversDf[\"SEX\"].value_counts().sort_values(ascending=False))\n",
    "drSexDf.columns = [\"TotalDrivers\"]\n",
    "drSexDf[\"SEX\"] = drSexDf.index.values\n",
    "drSexDf[\"SEX\"] = drSexDf.apply(lambda row: crssCategories[\"SEX\"][row[\"SEX\"]],axis=1)\n",
    "drSexDf.set_index(\"SEX\",inplace=True)\n",
    "# Combine 'Reported as Unknown' and 'Not Reported'\n",
    "drSexDf.loc[\"Unknown\"] = drSexDf.loc[\"Reported as Unknown\"] + drSexDf.loc[\"Not Reported\"]\n",
    "drSexDf.drop(index=[\"Reported as Unknown\",\"Not Reported\"],inplace=True)\n",
    "drSexDf"
   ]
  },
  {
   "cell_type": "code",
   "execution_count": null,
   "metadata": {},
   "outputs": [],
   "source": [
    "_ = drSexDf[\"TotalDrivers\"].plot.pie(legend = False, title = \"Sex of Driver of Vehicle\", \\\n",
    "    ylabel = \"\", autopct=\"%1.1f%%\", pctdistance = 0.7, rotatelabels = False)"
   ]
  },
  {
   "cell_type": "code",
   "execution_count": null,
   "metadata": {},
   "outputs": [],
   "source": [
    "# Driver's Age\n",
    "drAgeDf = pd.DataFrame(driversDf[\"AGE\"].value_counts().sort_index())\n",
    "drAgeDf.columns = [\"TotalDrivers\"]\n",
    "drAgeDf[\"AGE\"] = drAgeDf.index.values\n",
    "#drAgeDf[\"SEX\"] = drAgeDf.apply(lambda row: crssCategories[\"SEX\"][row[\"SEX\"]],axis=1)\n",
    "#drAgeDf.set_index(\"AGE\",inplace=True)\n",
    "# Combine 'Reported as Unknown' and 'Not Reported'\n",
    "drAgeDf.loc[\"Unknown\"] = [drAgeDf.loc[998][\"TotalDrivers\"] + drAgeDf.loc[999][\"TotalDrivers\"],np.NaN]\n",
    "drAgeDf.drop(index=[998,999],inplace=True)\n",
    "drAgeDf"
   ]
  },
  {
   "cell_type": "code",
   "execution_count": null,
   "metadata": {},
   "outputs": [],
   "source": [
    "drAgeDf[\"AGE\"].describe()"
   ]
  },
  {
   "cell_type": "code",
   "execution_count": null,
   "metadata": {},
   "outputs": [],
   "source": [
    "#_ = drAgeDf.drop(index=\"Unknown\").plot.hist(by=\"TotalDrivers\")\n",
    "_ = driversDf[driversDf[\"AGE\"] < 998][\"AGE\"].plot.hist(bins=20,title=\"Accident Driver Age Distribution\")"
   ]
  },
  {
   "cell_type": "code",
   "execution_count": null,
   "metadata": {},
   "outputs": [],
   "source": [
    "driverAgeCut = pd.cut(driversDf[driversDf[\"AGE\"] < 998][\"AGE\"],[0,14,24,34,44,54,64,200],labels=[\"<15\",\"15-24\",\"25-34\",\"35-44\",\"45-54\",\"55-64\",\">65\"])\n",
    "#_ = driverAgeCut.plot.scatter(title=\"Accident Driver Age Distribution\")\n",
    "#driverAgeCut.value_counts().plot.bar()\n",
    "ax = driverAgeCut.value_counts(sort=False).plot.bar(title=\"Driver Age Distribution in 2020 Sampled Accidents\",xlabel=\"Driver Age\",ylabel=\"Number of accidents\")"
   ]
  },
  {
   "cell_type": "code",
   "execution_count": null,
   "metadata": {},
   "outputs": [],
   "source": [
    "fig = plt.figure(figsize=(10,5))\n",
    "ax1 = fig.add_subplot(1,2,1)\n",
    "ax2 = fig.add_subplot(1,2,2)\n",
    "driversDf[driversDf[\"AGE\"] < 998].boxplot(column=\"AGE\",ax=ax1)\n",
    "ax1.set_title(\"Driver's Age Boxplot\")\n",
    "driversDf[(driversDf[\"AGE\"] < 998) & (driversDf[\"SEX\"].isin([1,2]))].boxplot(column=\"AGE\",by=\"SEX\",ax=ax2)\n",
    "ax2.set_title(\"Driver's Age Boxplot by Sex\")\n",
    "a = ax2.get_xticklabels()\n",
    "ax2.set_xticklabels([crssCategories[\"SEX\"][int(a[0].get_text())],crssCategories[\"SEX\"][int(a[1].get_text())]])\n",
    "fig.suptitle(\"\")\n"
   ]
  },
  {
   "cell_type": "markdown",
   "metadata": {},
   "source": [
    "## Safety features"
   ]
  },
  {
   "cell_type": "code",
   "execution_count": null,
   "metadata": {},
   "outputs": [],
   "source": [
    "safetyFeaturesColumns = [\n",
    " \t\"ForwardCollisionWarningId\",\n",
    "\t\"DynamicBrakeSupportId\",\n",
    "\t\"CrashImminentBrakingID\",\n",
    "\t\"PedestrianAutoEmergencyBrakingId\",\n",
    "\t\"BlindSpotWarningId\",\n",
    "\t\"BlindSpotInterventionId\",\n",
    "\t\"LaneDepartureWarningId\",\n",
    "\t\"LaneKeepingAssistanceId\",\n",
    "\t\"LaneCenteringAssistanceId\",\n",
    "\t\"BackupCameraId\",\n",
    "\t\"RearCrossTrafficAlertId\",\n",
    "\t\"RearAutomaticEmergencyBrakingId\",\n",
    "\t\"ParkAssistId\",\n",
    "\t\"DaytimeRunningLightId\",\n",
    "\t#\"HeadlampLightSourceId\",\n",
    "\t\"SemiAutoHeadlampBeamSwitchingId\",\n",
    "\t\"AdaptiveDrivingBeamId\",\n",
    "\t\"AdaptiveCruiseControlId\",\n",
    "\t\"AntilockBrakeSystemId\",\n",
    "\t\"ElectronicStabilityControlId\",\n",
    "\t\"TPMSId\",\n",
    "\t\"TractionControlId\",\n",
    "\t\"AutoPedestrianAlertingSoundId\",\n",
    "]\n",
    "\n",
    "safetyFeaturesNames = {\n",
    " \t\"ForwardCollisionWarningId\" : \"Forward Collision Warning\",\n",
    "\t\"DynamicBrakeSupportId\" : \"Dynamic Brake Support\",\n",
    "\t\"CrashImminentBrakingID\" : \"Crash Imminent Braking\",\n",
    "\t\"PedestrianAutoEmergencyBrakingId\" : \"Pedestrian Auto Emergency Braking\",\n",
    "\t\"BlindSpotWarningId\" : \"Blind Spot Warning\",\n",
    "\t\"BlindSpotInterventionId\": \"Blind Spot Intervention\",\n",
    "\t\"LaneDepartureWarningId\" : \"Lane Departure Warning\",\n",
    "\t\"LaneKeepingAssistanceId\" : \"Lane Keeping Assistance\",\n",
    "\t\"LaneCenteringAssistanceId\" : \"Lane Centering Assistance\",\n",
    "\t\"BackupCameraId\" : \"Backup Camera\",\n",
    "\t\"RearCrossTrafficAlertId\" : \"Rear Cross Traffic Alert\",\n",
    "\t\"RearAutomaticEmergencyBrakingId\" : \"Rear Automatic Emergency Braking\",\n",
    "\t\"ParkAssistId\" : \"Park Assist\",\n",
    "\t\"DaytimeRunningLightId\" : \"Daytime Running Light\",\n",
    "\t#\"HeadlampLightSourceId\",\n",
    "\t\"SemiAutoHeadlampBeamSwitchingId\" : \"Semi Auto Headlamp Beam Switching\",\n",
    "\t\"AdaptiveDrivingBeamId\" : \"Adaptive Driving Beam\",\n",
    "\t\"AdaptiveCruiseControlId\" : \"Adaptive Cruise Control\",\n",
    "\t\"AntilockBrakeSystemId\" : \"Antilock Brake System\",\n",
    "\t\"ElectronicStabilityControlId\" : \"Electronic Stability Control\",\n",
    "\t\"TPMSId\" : \"Tire Pressure Monitoring System\",\n",
    "\t\"TractionControlId\" : \"Traction Control\",\n",
    "\t\"AutoPedestrianAlertingSoundId\" : \"Auto Pedestrian Alerting Sound\",\n",
    "}\n",
    "\n",
    "\n",
    "def AnyStdSafetyFeature(vpicRow):\n",
    "\t\"\"\"Returns true if any of the safety features are marked standard for the vehicle checked \n",
    "\t(vpicdecode columnnames are used)attribute value = 1 means standard\n",
    "\t\"\"\"\n",
    "\t\n",
    "\tstdFeatureFlag = False\n",
    "\tfor feat in safetyFeaturesColumns:\n",
    "\t\tstdFeatureFlag = stdFeatureFlag | (vpicRow[feat] == 1)\n",
    "\treturn stdFeatureFlag\n",
    "\n",
    "def GoodVPICDecode(picDecodeResult):\n",
    "\treturn (picDecodeResult in {'0','0,10','1,10','1,400','1,10,400'})\n"
   ]
  },
  {
   "cell_type": "code",
   "execution_count": null,
   "metadata": {},
   "outputs": [],
   "source": [
    "crssDf[\"vpicdecode\"].info(verbose=True,show_counts=True)"
   ]
  },
  {
   "cell_type": "code",
   "execution_count": null,
   "metadata": {},
   "outputs": [],
   "source": [
    "crssDf[\"vpicdecode\"].describe(include=\"all\")"
   ]
  },
  {
   "cell_type": "code",
   "execution_count": null,
   "metadata": {},
   "outputs": [],
   "source": [
    "crssDf[\"vpicdecode\"][\"VINDecodeError\"].value_counts()"
   ]
  },
  {
   "cell_type": "code",
   "execution_count": null,
   "metadata": {},
   "outputs": [],
   "source": [
    "badVPICcount = len(crssDf[\"vpicdecode\"]) - (crssDf[\"vpicdecode\"][\"VINDecodeError\"] == '0').sum()\n",
    "print(\"Bad VIN Decodes = \",badVPICcount, \"(\", badVPICcount/len(crssDf[\"vpicdecode\"])*100,\"%)\")"
   ]
  },
  {
   "cell_type": "code",
   "execution_count": null,
   "metadata": {},
   "outputs": [],
   "source": [
    "crssDf[\"vpicdecode\"][\"AnySafetyFeature\"] = crssDf[\"vpicdecode\"].apply(lambda row: AnyStdSafetyFeature(row),axis=1)\n",
    "#crssDf[\"vpicdecode\"][\"GoodVPICDecode\"] = crssDf[\"vpicdecode\"].apply(lambda row: (row[\"VINDecodeError\"] == '0'),axis=1)\n",
    "crssDf[\"vpicdecode\"][\"GoodVPICDecode\"] = crssDf[\"vpicdecode\"].apply(lambda row: (GoodVPICDecode(row[\"VINDecodeError\"])),axis=1)\n"
   ]
  },
  {
   "cell_type": "code",
   "execution_count": null,
   "metadata": {},
   "outputs": [],
   "source": [
    "print(crssDf[\"vpicdecode\"][\"GoodVPICDecode\"].sum())\n",
    "print(crssDf[\"vpicdecode\"][\"AnySafetyFeature\"].sum())\n",
    "badVPICcount = len(crssDf[\"vpicdecode\"]) - crssDf[\"vpicdecode\"][\"GoodVPICDecode\"].sum()\n",
    "print(\"Bad VIN Decodes = \",badVPICcount, \"(\", badVPICcount/len(crssDf[\"vpicdecode\"])*100,\"%)\")"
   ]
  },
  {
   "cell_type": "code",
   "execution_count": null,
   "metadata": {},
   "outputs": [],
   "source": [
    "badVINrecords = crssDf[\"vpicdecode\"][crssDf[\"vpicdecode\"][\"GoodVPICDecode\"]==False]\n",
    "badVINrecords"
   ]
  },
  {
   "cell_type": "code",
   "execution_count": null,
   "metadata": {},
   "outputs": [],
   "source": [
    "print(\"Vehicles in vehicle table vs vpicdecode tables\")\n",
    "print(\"VPIC entries =\",len(crssDf[\"vpicdecode\"]),\"Vehicle Entries =\",len(crssDf[\"vehicle\"]),\"Vehicle Entires with Unkown Year =\",(crssDf[\"vehicle\"][\"MOD_YEAR\"] >= 9998).sum())"
   ]
  },
  {
   "cell_type": "code",
   "execution_count": null,
   "metadata": {},
   "outputs": [],
   "source": [
    "# Vehicle Safety Features vs Model Year\n",
    "# join vehicle table with vpictable \n",
    "#vehSafetyYrDf = pd.merge(crssDf[\"vehicle\"][crssDf[\"vehicle\"][\"MOD_YEAR\"] < 9998],crssDf[\"vpicdecode\"], on = [\"CASENUM\",\"VEH_NO\"])\n",
    "vehVpicMergeDf = pd.merge(crssDf[\"vehicle\"],crssDf[\"vpicdecode\"], on = [\"CASENUM\",\"VEH_NO\"])\n",
    "vehSafetyYrDf = vehVpicMergeDf[[\"MOD_YEAR\",\"AnySafetyFeature\"]].groupby(\"MOD_YEAR\").agg(['count','sum'])\n",
    "vehSafetyYrDf = vehSafetyYrDf[\"AnySafetyFeature\"]\n",
    "vehSafetyYrDf.columns = [\"Total Cars\",\"Cars with Safey Features\"]\n",
    "#vehSafetyYrDf = pd.DataFrame(crssDf[\"vpicdecode\"][[\"ModelYear\",\"AnySafetyFeature\"]].value_counts())\n",
    "#vehSafetyYrDf.columns = [\"TotalVehicles\"]\n",
    "#vehSafetyYrDf[\"VPICBODYCLASS\"] = vehSafetyYrDf.index.values\n",
    "#vehSafetyYrDf[\"VPICBODYCLASS\"] = vehSafetyYrDf.apply(lambda row: crssCategories[\"VPICBODYCLASS\"][row[\"VPICBODYCLASS\"]],axis=1)\n",
    "#vehSafetyYrDf.set_index(\"VPICBODYCLASS\",inplace=True)\n",
    "#vehSafetyYrDf[\"STATE\"] = accStatesDf.apply(lambda row: crssCategories[\"STATE\"][row[\"STATE\"]],axis=1)\n",
    "vehSafetyYrDf.info(verbose=True,show_counts=True)\n",
    "#        [\"MAKE\",\"MAKENAME\"],\n",
    "#        [\"MAK_MOD\",\"MAK_MODNAME\"],\n",
    "##tempDf = vehSafetyYrDf[vehSafetyYrDf[\"MOD_YEAR\"] != vehSafetyYrDf[\"ModelYear\"]][[\"MOD_YEAR\",\"ModelYear\",\"MAKE\",\"MAK_MOD\",\"MakeId\",\"ModelId\"]].copy()\n",
    "##temp2Df = vehSafetyYrDf[vehSafetyYrDf[\"MOD_YEAR\"] == vehSafetyYrDf[\"ModelYear\"]][[\"MOD_YEAR\",\"ModelYear\",\"MAKE\",\"MAK_MOD\",\"MakeId\",\"ModelId\"]].copy()\n",
    "##makeMappingVehVpicDf = vehSafetyYrDf[[\"MAKE\",\"MakeId\"]].drop_duplicates().dropna()\n",
    "##modelMappingVehVpicDf = vehSafetyYrDf[[\"MAKE\",\"MAK_MOD\",\"MakeId\",\"ModelId\"]].drop_duplicates().dropna()\n",
    "\n",
    "##makeMappingVehVpicDf[\"MakeVpic\"] = makeMappingVehVpicDf.apply(lambda row: crssCategories[\"MakeId\"][row[\"MakeId\"]],axis=1)\n",
    "##makeMappingVehVpicDf[\"MAKENAME\"] = makeMappingVehVpicDf.apply(lambda row: crssCategories[\"MAKE\"][row[\"MAKE\"]],axis=1)\n",
    "\n",
    "##modelMappingVehVpicDf[\"MakeVpic\"] = modelMappingVehVpicDf.apply(lambda row: crssCategories[\"MakeId\"][row[\"MakeId\"]],axis=1)\n",
    "##modelMappingVehVpicDf[\"MAKENAME\"] = modelMappingVehVpicDf.apply(lambda row: crssCategories[\"MAKE\"][row[\"MAKE\"]],axis=1)\n",
    "##modelMappingVehVpicDf[\"ModelVpic\"] = modelMappingVehVpicDf.apply(lambda row: crssCategories[\"ModelId\"][row[\"ModelId\"]],axis=1)\n",
    "##modelMappingVehVpicDf[\"MAK_MODNAME\"] = modelMappingVehVpicDf.apply(lambda row: crssCategories[\"MAK_MOD\"][row[\"MAK_MOD\"]],axis=1)\n"
   ]
  },
  {
   "cell_type": "code",
   "execution_count": null,
   "metadata": {},
   "outputs": [],
   "source": [
    "vehSafetyFeatDf = vehVpicMergeDf[[\"AnySafetyFeature\"]].value_counts().rename({True:\"Yes\", False:\"No\"})\n",
    "vehSafetyFeatDf"
   ]
  },
  {
   "cell_type": "code",
   "execution_count": null,
   "metadata": {},
   "outputs": [],
   "source": [
    "print(vehVpicMergeDf[\"MOD_YEAR\"].drop_duplicates().sort_values().values)\n",
    "print(crssDf[\"vehicle\"][\"MOD_YEAR\"].drop_duplicates().sort_values().values)\n",
    "print(crssDf[\"vpicdecode\"][\"ModelYear\"].drop_duplicates().sort_values().values)"
   ]
  },
  {
   "cell_type": "code",
   "execution_count": null,
   "metadata": {},
   "outputs": [],
   "source": [
    "fig = plt.figure(figsize=(20,5))\n",
    "ax1 = fig.add_subplot(1,2,1)\n",
    "ax2 = fig.add_subplot(1,2,2)\n",
    "vehSafetyYrDf.plot.bar(stacked=False,ax=ax1)\n",
    "ax1.set_xlabel(\"Model Year\")\n",
    "ax1.set_ylabel(\"Number of Cars\")\n",
    "ax1.set_title(\"Total Cars vs Cars with Any Safety Features Grouped by model year for US 2020 Sampled Accidents\")\n",
    "vehVpicMergeDf[[\"AnySafetyFeature\"]].value_counts().rename({True:\"Yes\", False:\"No\"}).plot.pie(legend = False, \\\n",
    "    ylabel = \"\", autopct=\"%1.1f%%\", pctdistance = 0.7, rotatelabels = False, ax=ax2)\n",
    "_ = ax2.set_title(\"Proportion of Vehicles with at least one Safety Feature\")"
   ]
  },
  {
   "cell_type": "code",
   "execution_count": null,
   "metadata": {},
   "outputs": [],
   "source": [
    "tempDf = vehVpicMergeDf[safetyFeaturesColumns].fillna(int(0))\n",
    "vehSafetyFeaturesCnt = pd.Series(dtype='float64')\n",
    "print(\"check values for every safety feature\")\n",
    "for x in tempDf.columns.sort_values():\n",
    "    vehSafetyFeaturesCnt[safetyFeaturesNames[x]] = (tempDf[x] == 1).sum()/totalVeh*100\n",
    "    print(x.ljust(max([len(x) for x in tempDf.columns])+2),\"\\t\",str(tempDf[x].drop_duplicates().sort_values().values).ljust(16),(tempDf[x] == 1).sum())\n",
    "tempDf = None\n",
    "vehSafetyFeaturesCnt.sort_values(inplace=True)\n",
    "vehSafetyFeaturesCnt"
   ]
  },
  {
   "cell_type": "code",
   "execution_count": null,
   "metadata": {},
   "outputs": [],
   "source": [
    "ax = vehSafetyFeaturesCnt.plot.barh(title=\"Sampled Accidents: Percentage of Cars with the Safety Feature as Std\",zorder=3)\n",
    "ax.set_xlabel(\"Percentage of Vehicles\")\n",
    "ax.grid()"
   ]
  }
 ],
 "metadata": {
  "kernelspec": {
   "display_name": "Python 3.9.6 64-bit",
   "language": "python",
   "name": "python3"
  },
  "language_info": {
   "codemirror_mode": {
    "name": "ipython",
    "version": 3
   },
   "file_extension": ".py",
   "mimetype": "text/x-python",
   "name": "python",
   "nbconvert_exporter": "python",
   "pygments_lexer": "ipython3",
   "version": "3.9.6"
  },
  "orig_nbformat": 4,
  "vscode": {
   "interpreter": {
    "hash": "31f2aee4e71d21fbe5cf8b01ff0e069b9275f58929596ceb00d14d90e3e16cd6"
   }
  }
 },
 "nbformat": 4,
 "nbformat_minor": 2
}
